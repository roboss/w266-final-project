{
 "cells": [
  {
   "cell_type": "markdown",
   "metadata": {},
   "source": [
    "# Optimal Beam Width for English to Marathi Neural Machine Translation with Beam Search\n",
    "## DATASCI W266: Natural Language Processing with Deep Learning\n",
    "### Rohit Bakshi\n",
    "\n",
    "This Jupyter notebook contains the code to the entire project.\n",
    "\n",
    "## Dataset\n",
    "Link: http://www.manythings.org/anki/  \n",
    "File: mar-eng.zip\n",
    "\n",
    "## Data Loading and Preprocessing"
   ]
  },
  {
   "cell_type": "code",
   "execution_count": 739,
   "metadata": {},
   "outputs": [],
   "source": [
    "# import all libraries\n",
    "import pandas as pd\n",
    "import numpy as np\n",
    "import string\n",
    "from string import digits\n",
    "import matplotlib.pyplot as plt\n",
    "%matplotlib inline\n",
    "import re\n",
    "from sklearn.utils import shuffle\n",
    "from sklearn.model_selection import train_test_split\n",
    "from keras.layers import Input, LSTM, Embedding, Dense\n",
    "from keras.models import Model\n",
    "from tensorflow.keras.preprocessing.sequence import pad_sequences\n",
    "from tensorflow.keras.layers import LSTM, Input, Dense,Embedding, Concatenate, TimeDistributed, Bidirectional\n",
    "from tensorflow.keras import Input, Model\n",
    "from tensorflow.keras.models import Model,load_model, model_from_json\n",
    "from tensorflow.keras.utils import plot_model\n",
    "from tensorflow.keras.preprocessing.text import one_hot, Tokenizer\n",
    "from tensorflow.keras.callbacks import EarlyStopping\n",
    "from nltk.translate.bleu_score import sentence_bleu"
   ]
  },
  {
   "cell_type": "code",
   "execution_count": 704,
   "metadata": {},
   "outputs": [],
   "source": [
    "# read from file location into Pandas Dataframe\n",
    "file_path = f'C:\\\\Users\\\\rohit\\\\Downloads\\\\mar-eng\\\\mar.txt'\n",
    "lines= pd.read_table(file_path, names=['eng','mar','metadata']).drop(['metadata'], axis=1)"
   ]
  },
  {
   "cell_type": "code",
   "execution_count": 705,
   "metadata": {},
   "outputs": [
    {
     "data": {
      "text/html": [
       "<div>\n",
       "<style scoped>\n",
       "    .dataframe tbody tr th:only-of-type {\n",
       "        vertical-align: middle;\n",
       "    }\n",
       "\n",
       "    .dataframe tbody tr th {\n",
       "        vertical-align: top;\n",
       "    }\n",
       "\n",
       "    .dataframe thead th {\n",
       "        text-align: right;\n",
       "    }\n",
       "</style>\n",
       "<table border=\"1\" class=\"dataframe\">\n",
       "  <thead>\n",
       "    <tr style=\"text-align: right;\">\n",
       "      <th></th>\n",
       "      <th>eng</th>\n",
       "      <th>mar</th>\n",
       "    </tr>\n",
       "  </thead>\n",
       "  <tbody>\n",
       "    <tr>\n",
       "      <th>0</th>\n",
       "      <td>Go.</td>\n",
       "      <td>जा.</td>\n",
       "    </tr>\n",
       "    <tr>\n",
       "      <th>1</th>\n",
       "      <td>Run!</td>\n",
       "      <td>पळ!</td>\n",
       "    </tr>\n",
       "    <tr>\n",
       "      <th>2</th>\n",
       "      <td>Run!</td>\n",
       "      <td>धाव!</td>\n",
       "    </tr>\n",
       "    <tr>\n",
       "      <th>3</th>\n",
       "      <td>Run!</td>\n",
       "      <td>पळा!</td>\n",
       "    </tr>\n",
       "    <tr>\n",
       "      <th>4</th>\n",
       "      <td>Run!</td>\n",
       "      <td>धावा!</td>\n",
       "    </tr>\n",
       "    <tr>\n",
       "      <th>...</th>\n",
       "      <td>...</td>\n",
       "      <td>...</td>\n",
       "    </tr>\n",
       "    <tr>\n",
       "      <th>43066</th>\n",
       "      <td>Just saying you don't like fish because of the...</td>\n",
       "      <td>हड्डींमुळे मासे आवडत नाही असं म्हणणं हे काय मा...</td>\n",
       "    </tr>\n",
       "    <tr>\n",
       "      <th>43067</th>\n",
       "      <td>The Japanese Parliament today officially elect...</td>\n",
       "      <td>आज जपानी संसदेने अधिकृतरित्या र्‍यौतारौ हाशिमो...</td>\n",
       "    </tr>\n",
       "    <tr>\n",
       "      <th>43068</th>\n",
       "      <td>Tom tried to sell his old VCR instead of throw...</td>\n",
       "      <td>टॉमने त्याचा जुना व्ही.सी.आर फेकून टाकण्याऐवजी...</td>\n",
       "    </tr>\n",
       "    <tr>\n",
       "      <th>43069</th>\n",
       "      <td>You can't view Flash content on an iPad. Howev...</td>\n",
       "      <td>आयपॅडवर फ्लॅश आशय बघता येत नाही. पण तुम्ही त्य...</td>\n",
       "    </tr>\n",
       "    <tr>\n",
       "      <th>43070</th>\n",
       "      <td>In 1969, Roger Miller recorded a song called \"...</td>\n",
       "      <td>१९६९मध्ये रॉजर मिलरने \"यू डोन्ट वॉन्ट माय लव्ह...</td>\n",
       "    </tr>\n",
       "  </tbody>\n",
       "</table>\n",
       "<p>43071 rows × 2 columns</p>\n",
       "</div>"
      ],
      "text/plain": [
       "                                                     eng  \\\n",
       "0                                                    Go.   \n",
       "1                                                   Run!   \n",
       "2                                                   Run!   \n",
       "3                                                   Run!   \n",
       "4                                                   Run!   \n",
       "...                                                  ...   \n",
       "43066  Just saying you don't like fish because of the...   \n",
       "43067  The Japanese Parliament today officially elect...   \n",
       "43068  Tom tried to sell his old VCR instead of throw...   \n",
       "43069  You can't view Flash content on an iPad. Howev...   \n",
       "43070  In 1969, Roger Miller recorded a song called \"...   \n",
       "\n",
       "                                                     mar  \n",
       "0                                                    जा.  \n",
       "1                                                    पळ!  \n",
       "2                                                   धाव!  \n",
       "3                                                   पळा!  \n",
       "4                                                  धावा!  \n",
       "...                                                  ...  \n",
       "43066  हड्डींमुळे मासे आवडत नाही असं म्हणणं हे काय मा...  \n",
       "43067  आज जपानी संसदेने अधिकृतरित्या र्‍यौतारौ हाशिमो...  \n",
       "43068  टॉमने त्याचा जुना व्ही.सी.आर फेकून टाकण्याऐवजी...  \n",
       "43069  आयपॅडवर फ्लॅश आशय बघता येत नाही. पण तुम्ही त्य...  \n",
       "43070  १९६९मध्ये रॉजर मिलरने \"यू डोन्ट वॉन्ट माय लव्ह...  \n",
       "\n",
       "[43071 rows x 2 columns]"
      ]
     },
     "execution_count": 705,
     "metadata": {},
     "output_type": "execute_result"
    }
   ],
   "source": [
    "# show Dataframe\n",
    "lines"
   ]
  },
  {
   "cell_type": "code",
   "execution_count": 706,
   "metadata": {},
   "outputs": [
    {
     "data": {
      "text/plain": [
       "(43071, 2)"
      ]
     },
     "execution_count": 706,
     "metadata": {},
     "output_type": "execute_result"
    }
   ],
   "source": [
    "#ensure dataframe shape is as expected\n",
    "lines.shape"
   ]
  },
  {
   "cell_type": "code",
   "execution_count": 707,
   "metadata": {},
   "outputs": [],
   "source": [
    "# lowercase all characters\n",
    "lines.eng=lines.eng.apply(lambda x: x.lower())\n",
    "lines.mar=lines.mar.apply(lambda x: x.lower())"
   ]
  },
  {
   "cell_type": "code",
   "execution_count": 708,
   "metadata": {},
   "outputs": [],
   "source": [
    "# remove all quotes\n",
    "lines.eng=lines.eng.apply(lambda x: re.sub(\"'\", '', x))\n",
    "lines.mar=lines.mar.apply(lambda x: re.sub(\"'\", '', x))"
   ]
  },
  {
   "cell_type": "code",
   "execution_count": 709,
   "metadata": {},
   "outputs": [],
   "source": [
    "# remove all special characters\n",
    "exclude = set(string.punctuation) # Set of all special characters\n",
    "lines.eng=lines.eng.apply(lambda x: ''.join(ch for ch in x if ch not in exclude))\n",
    "lines.mar=lines.mar.apply(lambda x: ''.join(ch for ch in x if ch not in exclude))"
   ]
  },
  {
   "cell_type": "code",
   "execution_count": 710,
   "metadata": {},
   "outputs": [],
   "source": [
    "# remove all numbers in English and Marathi\n",
    "remove_digits = str.maketrans('', '', digits)\n",
    "lines.eng=lines.eng.apply(lambda x: x.translate(remove_digits))\n",
    "lines.mar = lines.mar.apply(lambda x: re.sub(\"[२३०८१५७९४६]\", \"\", x))"
   ]
  },
  {
   "cell_type": "code",
   "execution_count": 711,
   "metadata": {},
   "outputs": [],
   "source": [
    "# remove all extra whitespace\n",
    "lines.eng=lines.eng.apply(lambda x: x.strip())\n",
    "lines.mar=lines.mar.apply(lambda x: x.strip())\n",
    "lines.eng=lines.eng.apply(lambda x: re.sub(\" +\", \" \", x))\n",
    "lines.mar=lines.mar.apply(lambda x: re.sub(\" +\", \" \", x))"
   ]
  },
  {
   "cell_type": "code",
   "execution_count": 712,
   "metadata": {},
   "outputs": [],
   "source": [
    "# add START_ and _END tokens to target sequences\n",
    "lines.mar = lines.mar.apply(lambda x : 'START_ '+ x + ' _END')"
   ]
  },
  {
   "cell_type": "code",
   "execution_count": 713,
   "metadata": {},
   "outputs": [
    {
     "data": {
      "text/html": [
       "<div>\n",
       "<style scoped>\n",
       "    .dataframe tbody tr th:only-of-type {\n",
       "        vertical-align: middle;\n",
       "    }\n",
       "\n",
       "    .dataframe tbody tr th {\n",
       "        vertical-align: top;\n",
       "    }\n",
       "\n",
       "    .dataframe thead th {\n",
       "        text-align: right;\n",
       "    }\n",
       "</style>\n",
       "<table border=\"1\" class=\"dataframe\">\n",
       "  <thead>\n",
       "    <tr style=\"text-align: right;\">\n",
       "      <th></th>\n",
       "      <th>eng</th>\n",
       "      <th>mar</th>\n",
       "    </tr>\n",
       "  </thead>\n",
       "  <tbody>\n",
       "    <tr>\n",
       "      <th>40296</th>\n",
       "      <td>ive never been to my grandfathers house</td>\n",
       "      <td>START_ मी माझ्या आजोबांच्या घरी कधीच गेलो नाही...</td>\n",
       "    </tr>\n",
       "    <tr>\n",
       "      <th>21555</th>\n",
       "      <td>tom was driving the bus</td>\n",
       "      <td>START_ ती बस टॉम चालवत होता _END</td>\n",
       "    </tr>\n",
       "    <tr>\n",
       "      <th>26220</th>\n",
       "      <td>i dont have any money now</td>\n",
       "      <td>START_ माझ्याकडे आता अजिबात पैसे नाहीयेत _END</td>\n",
       "    </tr>\n",
       "    <tr>\n",
       "      <th>15786</th>\n",
       "      <td>you cant understand</td>\n",
       "      <td>START_ तू समजू शकत नाहीस _END</td>\n",
       "    </tr>\n",
       "    <tr>\n",
       "      <th>4679</th>\n",
       "      <td>im an organist</td>\n",
       "      <td>START_ मी ऑर्गनिस्ट आहे _END</td>\n",
       "    </tr>\n",
       "    <tr>\n",
       "      <th>29557</th>\n",
       "      <td>i didnt drink tea yesterday</td>\n",
       "      <td>START_ काल मी चहा प्यायले नाही _END</td>\n",
       "    </tr>\n",
       "    <tr>\n",
       "      <th>16975</th>\n",
       "      <td>my salary is very low</td>\n",
       "      <td>START_ माझा पगार खूपच कमी आहे _END</td>\n",
       "    </tr>\n",
       "    <tr>\n",
       "      <th>33040</th>\n",
       "      <td>what did tom tell you about me</td>\n",
       "      <td>START_ टॉमने तुला माझ्याबद्दल काय सांगितलं _END</td>\n",
       "    </tr>\n",
       "    <tr>\n",
       "      <th>1769</th>\n",
       "      <td>they saw tom</td>\n",
       "      <td>START_ त्यांनी टॉमला पाहिलं _END</td>\n",
       "    </tr>\n",
       "    <tr>\n",
       "      <th>33182</th>\n",
       "      <td>your english has gotten better</td>\n",
       "      <td>START_ तुझी इंग्रजी सुधारली आहे _END</td>\n",
       "    </tr>\n",
       "  </tbody>\n",
       "</table>\n",
       "</div>"
      ],
      "text/plain": [
       "                                           eng  \\\n",
       "40296  ive never been to my grandfathers house   \n",
       "21555                  tom was driving the bus   \n",
       "26220                i dont have any money now   \n",
       "15786                      you cant understand   \n",
       "4679                            im an organist   \n",
       "29557              i didnt drink tea yesterday   \n",
       "16975                    my salary is very low   \n",
       "33040           what did tom tell you about me   \n",
       "1769                              they saw tom   \n",
       "33182           your english has gotten better   \n",
       "\n",
       "                                                     mar  \n",
       "40296  START_ मी माझ्या आजोबांच्या घरी कधीच गेलो नाही...  \n",
       "21555                   START_ ती बस टॉम चालवत होता _END  \n",
       "26220      START_ माझ्याकडे आता अजिबात पैसे नाहीयेत _END  \n",
       "15786                      START_ तू समजू शकत नाहीस _END  \n",
       "4679                        START_ मी ऑर्गनिस्ट आहे _END  \n",
       "29557                START_ काल मी चहा प्यायले नाही _END  \n",
       "16975                 START_ माझा पगार खूपच कमी आहे _END  \n",
       "33040    START_ टॉमने तुला माझ्याबद्दल काय सांगितलं _END  \n",
       "1769                    START_ त्यांनी टॉमला पाहिलं _END  \n",
       "33182               START_ तुझी इंग्रजी सुधारली आहे _END  "
      ]
     },
     "execution_count": 713,
     "metadata": {},
     "output_type": "execute_result"
    }
   ],
   "source": [
    "# check sample\n",
    "lines.sample(10)"
   ]
  },
  {
   "cell_type": "code",
   "execution_count": 714,
   "metadata": {},
   "outputs": [
    {
     "data": {
      "text/html": [
       "<div>\n",
       "<style scoped>\n",
       "    .dataframe tbody tr th:only-of-type {\n",
       "        vertical-align: middle;\n",
       "    }\n",
       "\n",
       "    .dataframe tbody tr th {\n",
       "        vertical-align: top;\n",
       "    }\n",
       "\n",
       "    .dataframe thead th {\n",
       "        text-align: right;\n",
       "    }\n",
       "</style>\n",
       "<table border=\"1\" class=\"dataframe\">\n",
       "  <thead>\n",
       "    <tr style=\"text-align: right;\">\n",
       "      <th></th>\n",
       "      <th>eng</th>\n",
       "      <th>mar</th>\n",
       "    </tr>\n",
       "  </thead>\n",
       "  <tbody>\n",
       "    <tr>\n",
       "      <th>0</th>\n",
       "      <td>go</td>\n",
       "      <td>START_ जा _END</td>\n",
       "    </tr>\n",
       "    <tr>\n",
       "      <th>1</th>\n",
       "      <td>run</td>\n",
       "      <td>START_ पळ _END</td>\n",
       "    </tr>\n",
       "    <tr>\n",
       "      <th>2</th>\n",
       "      <td>run</td>\n",
       "      <td>START_ धाव _END</td>\n",
       "    </tr>\n",
       "    <tr>\n",
       "      <th>3</th>\n",
       "      <td>run</td>\n",
       "      <td>START_ पळा _END</td>\n",
       "    </tr>\n",
       "    <tr>\n",
       "      <th>4</th>\n",
       "      <td>run</td>\n",
       "      <td>START_ धावा _END</td>\n",
       "    </tr>\n",
       "    <tr>\n",
       "      <th>...</th>\n",
       "      <td>...</td>\n",
       "      <td>...</td>\n",
       "    </tr>\n",
       "    <tr>\n",
       "      <th>43066</th>\n",
       "      <td>just saying you dont like fish because of the ...</td>\n",
       "      <td>START_ हड्डींमुळे मासे आवडत नाही असं म्हणणं हे...</td>\n",
       "    </tr>\n",
       "    <tr>\n",
       "      <th>43067</th>\n",
       "      <td>the japanese parliament today officially elect...</td>\n",
       "      <td>START_ आज जपानी संसदेने अधिकृतरित्या र्‍यौतारौ...</td>\n",
       "    </tr>\n",
       "    <tr>\n",
       "      <th>43068</th>\n",
       "      <td>tom tried to sell his old vcr instead of throw...</td>\n",
       "      <td>START_ टॉमने त्याचा जुना व्हीसीआर फेकून टाकण्य...</td>\n",
       "    </tr>\n",
       "    <tr>\n",
       "      <th>43069</th>\n",
       "      <td>you cant view flash content on an ipad however...</td>\n",
       "      <td>START_ आयपॅडवर फ्लॅश आशय बघता येत नाही पण तुम्...</td>\n",
       "    </tr>\n",
       "    <tr>\n",
       "      <th>43070</th>\n",
       "      <td>in roger miller recorded a song called you don...</td>\n",
       "      <td>START_ मध्ये रॉजर मिलरने यू डोन्ट वॉन्ट माय लव...</td>\n",
       "    </tr>\n",
       "  </tbody>\n",
       "</table>\n",
       "<p>43071 rows × 2 columns</p>\n",
       "</div>"
      ],
      "text/plain": [
       "                                                     eng  \\\n",
       "0                                                     go   \n",
       "1                                                    run   \n",
       "2                                                    run   \n",
       "3                                                    run   \n",
       "4                                                    run   \n",
       "...                                                  ...   \n",
       "43066  just saying you dont like fish because of the ...   \n",
       "43067  the japanese parliament today officially elect...   \n",
       "43068  tom tried to sell his old vcr instead of throw...   \n",
       "43069  you cant view flash content on an ipad however...   \n",
       "43070  in roger miller recorded a song called you don...   \n",
       "\n",
       "                                                     mar  \n",
       "0                                         START_ जा _END  \n",
       "1                                         START_ पळ _END  \n",
       "2                                        START_ धाव _END  \n",
       "3                                        START_ पळा _END  \n",
       "4                                       START_ धावा _END  \n",
       "...                                                  ...  \n",
       "43066  START_ हड्डींमुळे मासे आवडत नाही असं म्हणणं हे...  \n",
       "43067  START_ आज जपानी संसदेने अधिकृतरित्या र्‍यौतारौ...  \n",
       "43068  START_ टॉमने त्याचा जुना व्हीसीआर फेकून टाकण्य...  \n",
       "43069  START_ आयपॅडवर फ्लॅश आशय बघता येत नाही पण तुम्...  \n",
       "43070  START_ मध्ये रॉजर मिलरने यू डोन्ट वॉन्ट माय लव...  \n",
       "\n",
       "[43071 rows x 2 columns]"
      ]
     },
     "execution_count": 714,
     "metadata": {},
     "output_type": "execute_result"
    }
   ],
   "source": [
    "lines"
   ]
  },
  {
   "cell_type": "code",
   "execution_count": 715,
   "metadata": {},
   "outputs": [],
   "source": [
    "# create vocabulary of English and Marathi\n",
    "# English\n",
    "all_eng_words=set()\n",
    "for eng in lines.eng:\n",
    "    for word in eng.split():\n",
    "        if word not in all_eng_words:\n",
    "            all_eng_words.add(word)\n",
    "# Marathi \n",
    "all_marathi_words=set()\n",
    "for mar in lines.mar:\n",
    "    for word in mar.split():\n",
    "        if word not in all_marathi_words:\n",
    "            all_marathi_words.add(word)"
   ]
  },
  {
   "cell_type": "code",
   "execution_count": 1308,
   "metadata": {},
   "outputs": [
    {
     "data": {
      "text/plain": [
       "34"
      ]
     },
     "execution_count": 1308,
     "metadata": {},
     "output_type": "execute_result"
    }
   ],
   "source": [
    "# max Length of source sequence (English)\n",
    "length_list=[]\n",
    "for l in lines.eng:\n",
    "    length_list.append(len(l.split(' ')))\n",
    "max_length_src = np.max(length_list)\n",
    "max_length_src"
   ]
  },
  {
   "cell_type": "code",
   "execution_count": 1309,
   "metadata": {},
   "outputs": [
    {
     "data": {
      "text/plain": [
       "37"
      ]
     },
     "execution_count": 1309,
     "metadata": {},
     "output_type": "execute_result"
    }
   ],
   "source": [
    "# max Length of target sequence (Marathi)\n",
    "length_list=[]\n",
    "for l in lines.mar:\n",
    "    length_list.append(len(l.split(' ')))\n",
    "max_length_tar = np.max(length_list)\n",
    "max_length_tar"
   ]
  },
  {
   "cell_type": "code",
   "execution_count": 718,
   "metadata": {},
   "outputs": [
    {
     "data": {
      "text/plain": [
       "(5794, 14037)"
      ]
     },
     "execution_count": 718,
     "metadata": {},
     "output_type": "execute_result"
    }
   ],
   "source": [
    "# get unique tokens in both languages\n",
    "input_words = sorted(list(all_eng_words))\n",
    "target_words = sorted(list(all_marathi_words))\n",
    "num_encoder_tokens = len(all_eng_words)\n",
    "num_decoder_tokens = len(all_marathi_words)\n",
    "num_encoder_tokens, num_decoder_tokens"
   ]
  },
  {
   "cell_type": "code",
   "execution_count": 719,
   "metadata": {},
   "outputs": [
    {
     "data": {
      "text/plain": [
       "14038"
      ]
     },
     "execution_count": 719,
     "metadata": {},
     "output_type": "execute_result"
    }
   ],
   "source": [
    "# padding for Neural Network Model to work\n",
    "num_decoder_tokens += 1 # For zero padding\n",
    "num_decoder_tokens"
   ]
  },
  {
   "cell_type": "code",
   "execution_count": 720,
   "metadata": {},
   "outputs": [],
   "source": [
    "# dictionary to map index to word\n",
    "input_token_index = dict([(word, i+1) for i, word in enumerate(input_words)])\n",
    "target_token_index = dict([(word, i+1) for i, word in enumerate(target_words)])"
   ]
  },
  {
   "cell_type": "code",
   "execution_count": 721,
   "metadata": {},
   "outputs": [],
   "source": [
    "# dictionary to map index to word\n",
    "reverse_input_char_index = dict((i, word) for word, i in input_token_index.items())\n",
    "reverse_target_char_index = dict((i, word) for word, i in target_token_index.items())"
   ]
  },
  {
   "cell_type": "code",
   "execution_count": 722,
   "metadata": {},
   "outputs": [
    {
     "data": {
      "text/html": [
       "<div>\n",
       "<style scoped>\n",
       "    .dataframe tbody tr th:only-of-type {\n",
       "        vertical-align: middle;\n",
       "    }\n",
       "\n",
       "    .dataframe tbody tr th {\n",
       "        vertical-align: top;\n",
       "    }\n",
       "\n",
       "    .dataframe thead th {\n",
       "        text-align: right;\n",
       "    }\n",
       "</style>\n",
       "<table border=\"1\" class=\"dataframe\">\n",
       "  <thead>\n",
       "    <tr style=\"text-align: right;\">\n",
       "      <th></th>\n",
       "      <th>eng</th>\n",
       "      <th>mar</th>\n",
       "    </tr>\n",
       "  </thead>\n",
       "  <tbody>\n",
       "    <tr>\n",
       "      <th>21692</th>\n",
       "      <td>were big fans of yours</td>\n",
       "      <td>START_ आम्ही तुमच्या मोठ्या फॅन आहोत _END</td>\n",
       "    </tr>\n",
       "    <tr>\n",
       "      <th>34598</th>\n",
       "      <td>open the door and let in the dog</td>\n",
       "      <td>START_ दरवाजा उघड व कुत्र्याला आत येऊ दे _END</td>\n",
       "    </tr>\n",
       "    <tr>\n",
       "      <th>32147</th>\n",
       "      <td>did you drink coffee yesterday</td>\n",
       "      <td>START_ काल तू कॉफी प्यायलीस का _END</td>\n",
       "    </tr>\n",
       "    <tr>\n",
       "      <th>17692</th>\n",
       "      <td>were learning french</td>\n",
       "      <td>START_ आम्ही फ्रेंच शिकत आहोत _END</td>\n",
       "    </tr>\n",
       "    <tr>\n",
       "      <th>39910</th>\n",
       "      <td>i think that tom will tell you the truth</td>\n",
       "      <td>START_ मला वाटतं की टॉम तुम्हाला खरं काय ते सा...</td>\n",
       "    </tr>\n",
       "    <tr>\n",
       "      <th>37087</th>\n",
       "      <td>my girlfriend is tall and beautiful</td>\n",
       "      <td>START_ माझी गर्लफ्रेंड उंच आणि सुंदर आहे _END</td>\n",
       "    </tr>\n",
       "    <tr>\n",
       "      <th>31113</th>\n",
       "      <td>i met tom when i was thirteen</td>\n",
       "      <td>START_ मी तेरा वर्षांचा असताना टॉमला भेटलो _END</td>\n",
       "    </tr>\n",
       "    <tr>\n",
       "      <th>26647</th>\n",
       "      <td>my dad doesnt like soccer</td>\n",
       "      <td>START_ माझ्या बाबांना फुटबॉल आवडत नाही _END</td>\n",
       "    </tr>\n",
       "    <tr>\n",
       "      <th>8373</th>\n",
       "      <td>tell tom yourself</td>\n",
       "      <td>START_ टॉमला स्वतः सांगा _END</td>\n",
       "    </tr>\n",
       "    <tr>\n",
       "      <th>7839</th>\n",
       "      <td>i really like you</td>\n",
       "      <td>START_ मला तुम्ही खरच आवडतात _END</td>\n",
       "    </tr>\n",
       "  </tbody>\n",
       "</table>\n",
       "</div>"
      ],
      "text/plain": [
       "                                            eng  \\\n",
       "21692                    were big fans of yours   \n",
       "34598          open the door and let in the dog   \n",
       "32147            did you drink coffee yesterday   \n",
       "17692                      were learning french   \n",
       "39910  i think that tom will tell you the truth   \n",
       "37087       my girlfriend is tall and beautiful   \n",
       "31113             i met tom when i was thirteen   \n",
       "26647                 my dad doesnt like soccer   \n",
       "8373                          tell tom yourself   \n",
       "7839                          i really like you   \n",
       "\n",
       "                                                     mar  \n",
       "21692          START_ आम्ही तुमच्या मोठ्या फॅन आहोत _END  \n",
       "34598      START_ दरवाजा उघड व कुत्र्याला आत येऊ दे _END  \n",
       "32147                START_ काल तू कॉफी प्यायलीस का _END  \n",
       "17692                 START_ आम्ही फ्रेंच शिकत आहोत _END  \n",
       "39910  START_ मला वाटतं की टॉम तुम्हाला खरं काय ते सा...  \n",
       "37087      START_ माझी गर्लफ्रेंड उंच आणि सुंदर आहे _END  \n",
       "31113    START_ मी तेरा वर्षांचा असताना टॉमला भेटलो _END  \n",
       "26647        START_ माझ्या बाबांना फुटबॉल आवडत नाही _END  \n",
       "8373                       START_ टॉमला स्वतः सांगा _END  \n",
       "7839                   START_ मला तुम्ही खरच आवडतात _END  "
      ]
     },
     "execution_count": 722,
     "metadata": {},
     "output_type": "execute_result"
    }
   ],
   "source": [
    "lines = shuffle(lines)\n",
    "lines.head(10)"
   ]
  },
  {
   "cell_type": "code",
   "execution_count": 723,
   "metadata": {},
   "outputs": [
    {
     "data": {
      "text/plain": [
       "((38763,), (4308,))"
      ]
     },
     "execution_count": 723,
     "metadata": {},
     "output_type": "execute_result"
    }
   ],
   "source": [
    "# train - test split of 90/10\n",
    "X, y = lines.eng, lines.mar\n",
    "X_train, X_test, y_train, y_test = train_test_split(X, y, test_size = 0.1)\n",
    "X_train.shape, X_test.shape"
   ]
  },
  {
   "cell_type": "code",
   "execution_count": 724,
   "metadata": {},
   "outputs": [
    {
     "data": {
      "text/plain": [
       "21692            START_ आम्ही तुमच्या मोठ्या फॅन आहोत _END\n",
       "34598        START_ दरवाजा उघड व कुत्र्याला आत येऊ दे _END\n",
       "32147                  START_ काल तू कॉफी प्यायलीस का _END\n",
       "17692                   START_ आम्ही फ्रेंच शिकत आहोत _END\n",
       "39910    START_ मला वाटतं की टॉम तुम्हाला खरं काय ते सा...\n",
       "                               ...                        \n",
       "27591    START_ तुला काहीही चांगलं असं म्हणता येत नाही ...\n",
       "297                                    START_ कसा आहे _END\n",
       "5927                      START_ ते फ्रान्समध्ये होते _END\n",
       "24189                START_ तो भिंतीला लागून उभा झाला _END\n",
       "34741        START_ या तलवारीचा एक विचित्र इतिहास आहे _END\n",
       "Name: mar, Length: 43071, dtype: object"
      ]
     },
     "execution_count": 724,
     "metadata": {},
     "output_type": "execute_result"
    }
   ],
   "source": [
    "lines.mar"
   ]
  },
  {
   "cell_type": "markdown",
   "metadata": {},
   "source": [
    "### Batch Generator\n",
    "This is used to create batches for loading data into the model and running experiments with decoding translations."
   ]
  },
  {
   "cell_type": "code",
   "execution_count": 725,
   "metadata": {},
   "outputs": [],
   "source": [
    "def generate_batch(X = X_train, y = y_train, batch_size = 128):\n",
    "    while True:\n",
    "        for j in range(0, len(X), batch_size):\n",
    "            encoder_input_data = np.zeros((batch_size, max_length_src),dtype='float32')\n",
    "            decoder_input_data = np.zeros((batch_size, max_length_tar),dtype='float32')\n",
    "            decoder_target_data = np.zeros((batch_size, max_length_tar, num_decoder_tokens),dtype='float32')\n",
    "            for i, (input_text, target_text) in enumerate(zip(X[j:j+batch_size], y[j:j+batch_size])):\n",
    "                for t, word in enumerate(input_text.split()):\n",
    "                    encoder_input_data[i, t] = input_token_index[word] # encoder input seq\n",
    "                for t, word in enumerate(target_text.split()):\n",
    "                    if t<len(target_text.split())-1:\n",
    "                        decoder_input_data[i, t] = target_token_index[word] # decoder input seq\n",
    "                    if t>0:\n",
    "                        decoder_target_data[i, t - 1, target_token_index[word]] = 1.\n",
    "            yield([encoder_input_data, decoder_input_data], decoder_target_data)"
   ]
  },
  {
   "cell_type": "markdown",
   "metadata": {},
   "source": [
    "## Encoder - Decoder Model Architecture for Training"
   ]
  },
  {
   "cell_type": "code",
   "execution_count": 726,
   "metadata": {},
   "outputs": [],
   "source": [
    "latent_dim = 50"
   ]
  },
  {
   "cell_type": "code",
   "execution_count": 727,
   "metadata": {},
   "outputs": [],
   "source": [
    "# encoder\n",
    "encoder_inputs = Input(shape=(None,))\n",
    "enc_emb =  Embedding(num_encoder_tokens+1, latent_dim, mask_zero = True)(encoder_inputs)\n",
    "encoder_lstm = LSTM(latent_dim, return_state=True)\n",
    "encoder_outputs, state_h, state_c = encoder_lstm(enc_emb)\n",
    "# only keep states and discard outputs\n",
    "encoder_states = [state_h, state_c]"
   ]
  },
  {
   "cell_type": "code",
   "execution_count": 728,
   "metadata": {},
   "outputs": [],
   "source": [
    "# initialize decoder with final states from encoder\n",
    "# decoder for training\n",
    "decoder_inputs = Input(shape=(None,))\n",
    "dec_emb_layer = Embedding(num_decoder_tokens+1, latent_dim, mask_zero = True)\n",
    "dec_emb = dec_emb_layer(decoder_inputs)\n",
    "\n",
    "decoder_lstm = LSTM(latent_dim, return_sequences=True, return_state=True)\n",
    "decoder_outputs, _, _ = decoder_lstm(dec_emb,\n",
    "                                     initial_state=encoder_states)\n",
    "decoder_dense = Dense(num_decoder_tokens, activation='softmax')\n",
    "decoder_outputs = decoder_dense(decoder_outputs)\n",
    "\n",
    "# define the model that will process encoder and decoder inputs into decoder outputs\n",
    "model = Model([encoder_inputs, decoder_inputs], decoder_outputs)"
   ]
  },
  {
   "cell_type": "code",
   "execution_count": 729,
   "metadata": {},
   "outputs": [],
   "source": [
    "# model hyperparameters\n",
    "model.compile(optimizer='adam', loss='categorical_crossentropy', metrics='accuracy')"
   ]
  },
  {
   "cell_type": "code",
   "execution_count": 730,
   "metadata": {},
   "outputs": [],
   "source": [
    "train_samples = len(X_train)\n",
    "val_samples = len(X_test)\n",
    "# model hyperparameters\n",
    "batch_size = 128\n",
    "epochs = 50"
   ]
  },
  {
   "cell_type": "code",
   "execution_count": 127,
   "metadata": {},
   "outputs": [
    {
     "name": "stderr",
     "output_type": "stream",
     "text": [
      "C:\\Users\\rohit\\AppData\\Local\\Temp/ipykernel_17724/2108290721.py:1: UserWarning: `Model.fit_generator` is deprecated and will be removed in a future version. Please use `Model.fit`, which supports generators.\n",
      "  model.fit_generator(generator = generate_batch(X_train, y_train, batch_size = batch_size),\n"
     ]
    },
    {
     "name": "stdout",
     "output_type": "stream",
     "text": [
      "Epoch 1/50\n",
      "302/302 [==============================] - 258s 837ms/step - loss: 1.0379 - accuracy: 0.1744 - val_loss: 0.8920 - val_accuracy: 0.1795\n",
      "Epoch 2/50\n",
      "302/302 [==============================] - 226s 749ms/step - loss: 0.8804 - accuracy: 0.1965 - val_loss: 0.8525 - val_accuracy: 0.2056\n",
      "Epoch 3/50\n",
      "302/302 [==============================] - 228s 754ms/step - loss: 0.8412 - accuracy: 0.2166 - val_loss: 0.8210 - val_accuracy: 0.2296\n",
      "Epoch 4/50\n",
      "302/302 [==============================] - 227s 752ms/step - loss: 0.8071 - accuracy: 0.2453 - val_loss: 0.7911 - val_accuracy: 0.2561\n",
      "Epoch 5/50\n",
      "302/302 [==============================] - 226s 750ms/step - loss: 0.7714 - accuracy: 0.2619 - val_loss: 0.7630 - val_accuracy: 0.2697\n",
      "Epoch 6/50\n",
      "302/302 [==============================] - 227s 753ms/step - loss: 0.7390 - accuracy: 0.2791 - val_loss: 0.7386 - val_accuracy: 0.2857\n",
      "Epoch 7/50\n",
      "302/302 [==============================] - 226s 750ms/step - loss: 0.7091 - accuracy: 0.2978 - val_loss: 0.7154 - val_accuracy: 0.3020\n",
      "Epoch 8/50\n",
      "302/302 [==============================] - 227s 753ms/step - loss: 0.6800 - accuracy: 0.3168 - val_loss: 0.6916 - val_accuracy: 0.3193\n",
      "Epoch 9/50\n",
      "302/302 [==============================] - 227s 752ms/step - loss: 0.6512 - accuracy: 0.3363 - val_loss: 0.6695 - val_accuracy: 0.3343\n",
      "Epoch 10/50\n",
      "302/302 [==============================] - 229s 760ms/step - loss: 0.6241 - accuracy: 0.3551 - val_loss: 0.6505 - val_accuracy: 0.3516\n",
      "Epoch 11/50\n",
      "302/302 [==============================] - 227s 753ms/step - loss: 0.5986 - accuracy: 0.3723 - val_loss: 0.6325 - val_accuracy: 0.3640\n",
      "Epoch 12/50\n",
      "302/302 [==============================] - 227s 753ms/step - loss: 0.5746 - accuracy: 0.3885 - val_loss: 0.6154 - val_accuracy: 0.3767\n",
      "Epoch 13/50\n",
      "302/302 [==============================] - 227s 751ms/step - loss: 0.5516 - accuracy: 0.4036 - val_loss: 0.5993 - val_accuracy: 0.3883\n",
      "Epoch 14/50\n",
      "302/302 [==============================] - 228s 755ms/step - loss: 0.5295 - accuracy: 0.4177 - val_loss: 0.5843 - val_accuracy: 0.3972\n",
      "Epoch 15/50\n",
      "302/302 [==============================] - 227s 751ms/step - loss: 0.5082 - accuracy: 0.4313 - val_loss: 0.5711 - val_accuracy: 0.4052\n",
      "Epoch 16/50\n",
      "302/302 [==============================] - 222s 735ms/step - loss: 0.4877 - accuracy: 0.4453 - val_loss: 0.5575 - val_accuracy: 0.4163\n",
      "Epoch 17/50\n",
      "302/302 [==============================] - 221s 733ms/step - loss: 0.4684 - accuracy: 0.4583 - val_loss: 0.5450 - val_accuracy: 0.4255\n",
      "Epoch 18/50\n",
      "302/302 [==============================] - 221s 732ms/step - loss: 0.4500 - accuracy: 0.4708 - val_loss: 0.5337 - val_accuracy: 0.4345\n",
      "Epoch 19/50\n",
      "302/302 [==============================] - 221s 732ms/step - loss: 0.4327 - accuracy: 0.4846 - val_loss: 0.5238 - val_accuracy: 0.4422\n",
      "Epoch 20/50\n",
      "302/302 [==============================] - 221s 730ms/step - loss: 0.4162 - accuracy: 0.4979 - val_loss: 0.5138 - val_accuracy: 0.4497\n",
      "Epoch 21/50\n",
      "302/302 [==============================] - 222s 735ms/step - loss: 0.4001 - accuracy: 0.5101 - val_loss: 0.5051 - val_accuracy: 0.4567\n",
      "Epoch 22/50\n",
      "302/302 [==============================] - 222s 734ms/step - loss: 0.3848 - accuracy: 0.5235 - val_loss: 0.4968 - val_accuracy: 0.4625\n",
      "Epoch 23/50\n",
      "302/302 [==============================] - 222s 734ms/step - loss: 0.3705 - accuracy: 0.5359 - val_loss: 0.4896 - val_accuracy: 0.4689\n",
      "Epoch 24/50\n",
      "302/302 [==============================] - 221s 733ms/step - loss: 0.3566 - accuracy: 0.5477 - val_loss: 0.4832 - val_accuracy: 0.4744\n",
      "Epoch 25/50\n",
      "302/302 [==============================] - 221s 732ms/step - loss: 0.3438 - accuracy: 0.5592 - val_loss: 0.4764 - val_accuracy: 0.4805\n",
      "Epoch 26/50\n",
      "302/302 [==============================] - 221s 731ms/step - loss: 0.3314 - accuracy: 0.5703 - val_loss: 0.4703 - val_accuracy: 0.4869\n",
      "Epoch 27/50\n",
      "302/302 [==============================] - 220s 729ms/step - loss: 0.3194 - accuracy: 0.5814 - val_loss: 0.4653 - val_accuracy: 0.4909\n",
      "Epoch 28/50\n",
      "302/302 [==============================] - 220s 729ms/step - loss: 0.3083 - accuracy: 0.5922 - val_loss: 0.4599 - val_accuracy: 0.4963\n",
      "Epoch 29/50\n",
      "302/302 [==============================] - 220s 729ms/step - loss: 0.2975 - accuracy: 0.6032 - val_loss: 0.4561 - val_accuracy: 0.4999\n",
      "Epoch 30/50\n",
      "302/302 [==============================] - 220s 728ms/step - loss: 0.2876 - accuracy: 0.6127 - val_loss: 0.4514 - val_accuracy: 0.5059\n",
      "Epoch 31/50\n",
      "302/302 [==============================] - 220s 729ms/step - loss: 0.2781 - accuracy: 0.6231 - val_loss: 0.4476 - val_accuracy: 0.5095\n",
      "Epoch 32/50\n",
      "302/302 [==============================] - 220s 728ms/step - loss: 0.2689 - accuracy: 0.6323 - val_loss: 0.4441 - val_accuracy: 0.5126\n",
      "Epoch 33/50\n",
      "302/302 [==============================] - 220s 729ms/step - loss: 0.2597 - accuracy: 0.6420 - val_loss: 0.4412 - val_accuracy: 0.5173\n",
      "Epoch 34/50\n",
      "302/302 [==============================] - 220s 729ms/step - loss: 0.2514 - accuracy: 0.6510 - val_loss: 0.4382 - val_accuracy: 0.5205\n",
      "Epoch 35/50\n",
      "302/302 [==============================] - 220s 728ms/step - loss: 0.2437 - accuracy: 0.6596 - val_loss: 0.4356 - val_accuracy: 0.5222\n",
      "Epoch 36/50\n",
      "302/302 [==============================] - 219s 726ms/step - loss: 0.2360 - accuracy: 0.6684 - val_loss: 0.4328 - val_accuracy: 0.5266\n",
      "Epoch 37/50\n",
      "302/302 [==============================] - 220s 727ms/step - loss: 0.2284 - accuracy: 0.6770 - val_loss: 0.4308 - val_accuracy: 0.5314\n",
      "Epoch 38/50\n",
      "302/302 [==============================] - 219s 726ms/step - loss: 0.2217 - accuracy: 0.6851 - val_loss: 0.4295 - val_accuracy: 0.5320\n",
      "Epoch 39/50\n",
      "302/302 [==============================] - 219s 726ms/step - loss: 0.2152 - accuracy: 0.6929 - val_loss: 0.4285 - val_accuracy: 0.5353\n",
      "Epoch 40/50\n",
      "302/302 [==============================] - 219s 726ms/step - loss: 0.2090 - accuracy: 0.7004 - val_loss: 0.4260 - val_accuracy: 0.5391\n",
      "Epoch 41/50\n",
      "302/302 [==============================] - 219s 725ms/step - loss: 0.2034 - accuracy: 0.7071 - val_loss: 0.4246 - val_accuracy: 0.5429\n",
      "Epoch 42/50\n",
      "302/302 [==============================] - 219s 725ms/step - loss: 0.1978 - accuracy: 0.7133 - val_loss: 0.4234 - val_accuracy: 0.5436\n",
      "Epoch 43/50\n",
      "302/302 [==============================] - 219s 726ms/step - loss: 0.1923 - accuracy: 0.7204 - val_loss: 0.4223 - val_accuracy: 0.5473\n",
      "Epoch 44/50\n",
      "302/302 [==============================] - 219s 726ms/step - loss: 0.1873 - accuracy: 0.7266 - val_loss: 0.4217 - val_accuracy: 0.5481\n",
      "Epoch 45/50\n",
      "302/302 [==============================] - 220s 729ms/step - loss: 0.1826 - accuracy: 0.7324 - val_loss: 0.4211 - val_accuracy: 0.5484\n",
      "Epoch 46/50\n",
      "302/302 [==============================] - 219s 726ms/step - loss: 0.1776 - accuracy: 0.7385 - val_loss: 0.4210 - val_accuracy: 0.5493\n",
      "Epoch 47/50\n",
      "302/302 [==============================] - 219s 726ms/step - loss: 0.1733 - accuracy: 0.7435 - val_loss: 0.4203 - val_accuracy: 0.5513\n",
      "Epoch 48/50\n",
      "302/302 [==============================] - 219s 726ms/step - loss: 0.1692 - accuracy: 0.7486 - val_loss: 0.4200 - val_accuracy: 0.5529\n",
      "Epoch 49/50\n",
      "302/302 [==============================] - 219s 725ms/step - loss: 0.1652 - accuracy: 0.7535 - val_loss: 0.4187 - val_accuracy: 0.5558\n",
      "Epoch 50/50\n",
      "302/302 [==============================] - 219s 725ms/step - loss: 0.1612 - accuracy: 0.7582 - val_loss: 0.4185 - val_accuracy: 0.5573\n"
     ]
    },
    {
     "data": {
      "text/plain": [
       "<keras.callbacks.History at 0x283070ab3a0>"
      ]
     },
     "execution_count": 127,
     "metadata": {},
     "output_type": "execute_result"
    }
   ],
   "source": [
    "model.fit_generator(generator = generate_batch(X_train, y_train, batch_size = batch_size),\n",
    "                    steps_per_epoch = train_samples//batch_size,\n",
    "                    epochs=epochs,\n",
    "                    validation_data = generate_batch(X_test, y_test, batch_size = batch_size),\n",
    "                    validation_steps = val_samples//batch_size)"
   ]
  },
  {
   "cell_type": "markdown",
   "metadata": {},
   "source": [
    "#### save weights of the model"
   ]
  },
  {
   "cell_type": "code",
   "execution_count": 128,
   "metadata": {},
   "outputs": [],
   "source": [
    "model.save_weights('nmt_weights.h5')"
   ]
  },
  {
   "cell_type": "markdown",
   "metadata": {},
   "source": [
    "#### load saved weights"
   ]
  },
  {
   "cell_type": "code",
   "execution_count": 731,
   "metadata": {},
   "outputs": [],
   "source": [
    "model.load_weights('nmt_weights.h5')"
   ]
  },
  {
   "cell_type": "markdown",
   "metadata": {},
   "source": [
    "## Inference, Translating Sentences and Scoring Sentences"
   ]
  },
  {
   "cell_type": "markdown",
   "metadata": {},
   "source": [
    "### Encoder Model and Decoder Model for Inference"
   ]
  },
  {
   "cell_type": "code",
   "execution_count": 732,
   "metadata": {},
   "outputs": [],
   "source": [
    "# encode input sequence to get final internal states\n",
    "encoder_model = Model(encoder_inputs, encoder_states)\n",
    "\n",
    "# initialize decoder - need to hold the states of the previous time step\n",
    "decoder_state_input_h = Input(shape=(latent_dim,))\n",
    "decoder_state_input_c = Input(shape=(latent_dim,))\n",
    "decoder_states_inputs = [decoder_state_input_h, decoder_state_input_c]\n",
    "\n",
    "# get the embeddings of the decoder sequence\n",
    "dec_emb2= dec_emb_layer(decoder_inputs) \n",
    "\n",
    "# the initial states to the states from the previous time step to predict the next word\n",
    "decoder_outputs2, state_h2, state_c2 = decoder_lstm(dec_emb2, initial_state=decoder_states_inputs)\n",
    "decoder_states2 = [state_h2, state_c2]\n",
    "\n",
    "# dense softmax layer to generate prob distribution over the target vocabulary (Marathi)\n",
    "decoder_outputs2 = decoder_dense(decoder_outputs2) \n",
    "\n",
    "# final decoder model for inference used below in decode_sequence functions\n",
    "decoder_model = Model(\n",
    "    [decoder_inputs] + decoder_states_inputs,\n",
    "    [decoder_outputs2] + decoder_states2)"
   ]
  },
  {
   "cell_type": "markdown",
   "metadata": {},
   "source": [
    "### Beam Search Decoder with sample sequences"
   ]
  },
  {
   "cell_type": "code",
   "execution_count": 1297,
   "metadata": {},
   "outputs": [],
   "source": [
    "def beam_search_decode_sequence(input_seq, k):\n",
    "    # encode the input as state vectors\n",
    "    states_value = encoder_model.predict(input_seq)\n",
    "    # generate empty target sequence of length 1\n",
    "    target_seq = np.zeros((1,1))\n",
    "    # populate the first character of target sequence with the start character\n",
    "    target_seq[0, 0] = target_token_index['START_']\n",
    "\n",
    "    stop_condition = False\n",
    "    decoded_sentence = ''\n",
    "    sequences = [[list(), 0.0]]\n",
    "    while not stop_condition:\n",
    "        output_tokens, h, c = decoder_model.predict([target_seq] + states_value)\n",
    "        \n",
    "        # sample a token\n",
    "        sampled_token_index = np.argmax(output_tokens[0, -1, :])\n",
    "        \n",
    "        # take k highest probabilites\n",
    "        ind = np.argpartition(output_tokens[0, -1, :], -k)[-k:]\n",
    "        ind = ind[np.argsort(output_tokens[0, -1, :][ind])]\n",
    "        row = output_tokens[0, -1, :][ind]\n",
    "        all_candidates = list()\n",
    "        # expand each current candidate\n",
    "        for i in range(len(sequences)):\n",
    "            seq, score = sequences[i]\n",
    "            for j in range(len(row)):\n",
    "                candidate = [seq + [reverse_target_char_index[ind[j]]], score - log(row[j])]\n",
    "                all_candidates.append(candidate)\n",
    "            # order all candidates by score\n",
    "        ordered = sorted(all_candidates, key=lambda tup:tup[1])\n",
    "        # select k best\n",
    "        sequences = ordered[:k]\n",
    "        \n",
    "        sampled_char = reverse_target_char_index[sampled_token_index]\n",
    "        decoded_sentence += ' '+sampled_char\n",
    "\n",
    "        # stop condition: either hit max length or find stop character\n",
    "        if (sampled_char == '_END' or\n",
    "           len(decoded_sentence) > 50):\n",
    "            stop_condition = True\n",
    "\n",
    "        # update the target sequence (of length 1)\n",
    "        target_seq = np.zeros((1,1))\n",
    "        target_seq[0, 0] = sampled_token_index\n",
    "\n",
    "        # update states\n",
    "        states_value = [h, c]\n",
    "\n",
    "    decoded_sentences_and_scores = []\n",
    "    decoded_sentences = []\n",
    "    for seq, score in sequences:\n",
    "        decoded_sentences_and_scores.append((' '.join(seq[:-1]), score))\n",
    "        decoded_sentences.append(' '.join(seq[:-1]))\n",
    "    \n",
    "    #print(\"Top Sentences\")\n",
    "    #print(decoded_sentences)\n",
    "    #print(\"\\n\")\n",
    "    res = decoded_sentences[0]\n",
    "    return decoded_sentences"
   ]
  },
  {
   "cell_type": "markdown",
   "metadata": {},
   "source": [
    "### Baseline Greedy Decoder with sample sequences"
   ]
  },
  {
   "cell_type": "code",
   "execution_count": 632,
   "metadata": {},
   "outputs": [],
   "source": [
    "def decode_sequence(input_seq):\n",
    "    # encode the input as state vectors\n",
    "    states_value = encoder_model.predict(input_seq)\n",
    "    # generate empty target sequence of length 1\n",
    "    target_seq = np.zeros((1,1))\n",
    "    # populate the first character of target sequence with the start character\n",
    "    target_seq[0, 0] = target_token_index['START_']\n",
    "\n",
    "    stop_condition = False\n",
    "    decoded_sentence = ''\n",
    "    while not stop_condition:\n",
    "        output_tokens, h, c = decoder_model.predict([target_seq] + states_value)\n",
    "\n",
    "        # sample a token\n",
    "        sampled_token_index = np.argmax(output_tokens[0, -1, :])\n",
    "        sampled_char = reverse_target_char_index[sampled_token_index]\n",
    "        decoded_sentence += ' '+sampled_char\n",
    "\n",
    "        # stop condition: either hit max length or find stop character\n",
    "        if (sampled_char == '_END' or\n",
    "           len(decoded_sentence) > 50):\n",
    "            stop_condition = True\n",
    "\n",
    "        # update the target sequence (of length 1)\n",
    "        target_seq = np.zeros((1,1))\n",
    "        target_seq[0, 0] = sampled_token_index\n",
    "\n",
    "        # update states\n",
    "        states_value = [h, c]\n",
    "\n",
    "    return decoded_sentence"
   ]
  },
  {
   "cell_type": "code",
   "execution_count": 784,
   "metadata": {},
   "outputs": [
    {
     "data": {
      "text/plain": [
       "[['मी', 'एक', 'सँडविच', 'विकत', 'घेतलं'],\n",
       " ['मी', 'एक', 'चादर', 'विकत', 'घेतलं'],\n",
       " ['मी', 'एक', 'सँडविच', 'विकत', 'घेतला']]"
      ]
     },
     "execution_count": 784,
     "metadata": {},
     "output_type": "execute_result"
    }
   ],
   "source": [
    "def sentence_to_lists(sentence_list):\n",
    "    res = []\n",
    "    for sentence in sentence_list:\n",
    "        res.append(sentence.split())\n",
    "    return res\n",
    "        \n",
    "sentence_to_lists(['मी एक सँडविच विकत घेतलं', 'मी एक चादर विकत घेतलं', 'मी एक सँडविच विकत घेतला'])"
   ]
  },
  {
   "cell_type": "markdown",
   "metadata": {},
   "source": [
    "### BLEU Score"
   ]
  },
  {
   "cell_type": "code",
   "execution_count": 854,
   "metadata": {},
   "outputs": [
    {
     "data": {
      "text/plain": [
       "1.0"
      ]
     },
     "execution_count": 854,
     "metadata": {},
     "output_type": "execute_result"
    }
   ],
   "source": [
    "# calculate best BLEU score for all sentences in the beam width\n",
    "def calculate_bleu_for_beam(reference, sentences):\n",
    "    sentences = sentence_to_lists(sentences)\n",
    "    reference = [reference.strip()]\n",
    "    reference = sentence_to_lists(reference)\n",
    "    #print(reference)\n",
    "    bleu = []\n",
    "    for sentence in sentences:\n",
    "        #print(sentence)\n",
    "        #unigrams\n",
    "        BLEUscore = sentence_bleu(reference, sentence, weights = (1,0))\n",
    "        #print(BLEUscore)\n",
    "        bleu.append(BLEUscore)\n",
    "    return max(bleu)\n",
    "\n",
    "calculate_bleu_for_beam(\"मी एक सँडविच विकत घेतलं\", ['मी एक सँडविच विकत घेतलं', 'मी एक चादर विकत घेतलं', 'मी एक सँडविच विकत घेतला'])"
   ]
  },
  {
   "cell_type": "code",
   "execution_count": 931,
   "metadata": {},
   "outputs": [
    {
     "data": {
      "text/plain": [
       "'मी एक सँडविच विकत घेतलं'"
      ]
     },
     "execution_count": 931,
     "metadata": {},
     "output_type": "execute_result"
    }
   ],
   "source": [
    "# return the best sentence with the highest BLEU score\n",
    "def best_beam(reference, sentences):\n",
    "    sentences = sentence_to_lists(sentences)\n",
    "    reference = [reference.strip()]\n",
    "    reference = sentence_to_lists(reference)\n",
    "    #print(reference)\n",
    "    bleu = 0\n",
    "    res = None\n",
    "    for sentence in sentences:\n",
    "        #print(sentence)\n",
    "        #unigrams\n",
    "        BLEUscore = sentence_bleu(reference, sentence, weights = (1,0))\n",
    "        #print(BLEUscore)\n",
    "        if BLEUscore > bleu:\n",
    "            bleu = BLEUscore\n",
    "            res = sentence\n",
    "    return \" \".join(res)\n",
    "\n",
    "best_beam(\"मी एक सँडविच विकत घेतलं\", ['मी एक सँडविच विकत घेतलं', 'मी एक चादर विकत घेतलं', 'मी एक सँडविच विकत घेतला'])"
   ]
  },
  {
   "cell_type": "code",
   "execution_count": 882,
   "metadata": {},
   "outputs": [
    {
     "data": {
      "text/plain": [
       "1.0"
      ]
     },
     "execution_count": 882,
     "metadata": {},
     "output_type": "execute_result"
    }
   ],
   "source": [
    "# calculate the BLEU score for the greedy baseline model\n",
    "def calculate_bleu(reference, sentence):\n",
    "    reference = [reference.strip()]\n",
    "    reference = sentence_to_lists(reference)\n",
    "    sentence = sentence_to_lists([sentence])\n",
    "    sentence = sentence[0]\n",
    "    BLEUscore = sentence_bleu(reference, sentence, weights = (1,0))\n",
    "    return BLEUscore\n",
    "calculate_bleu(\"मी एक सँडविच विकत घेतलं\",\"मी एक सँडविच विकत घेतलं \")"
   ]
  },
  {
   "cell_type": "markdown",
   "metadata": {},
   "source": [
    "## Training Dataset Evaluation"
   ]
  },
  {
   "cell_type": "code",
   "execution_count": 1284,
   "metadata": {},
   "outputs": [],
   "source": [
    "train_gen = generate_batch(X_train, y_train, batch_size = 1)\n",
    "k=-1"
   ]
  },
  {
   "cell_type": "code",
   "execution_count": 1285,
   "metadata": {},
   "outputs": [],
   "source": [
    "n = 3"
   ]
  },
  {
   "cell_type": "markdown",
   "metadata": {},
   "source": [
    "### Training Experiments\n",
    "Run the greedy and beam search decoder for 100 examples in the training dataset with varying beam width (k) and show the difference in total BLEU score between the beam search model and greedy model as well as the total time of execution."
   ]
  },
  {
   "cell_type": "code",
   "execution_count": 1322,
   "metadata": {},
   "outputs": [
    {
     "name": "stdout",
     "output_type": "stream",
     "text": [
      "Input English sentence: i bought a sandwich\n",
      "Input English sentence: do you think its impossible to finish this by five oclock\n",
      "Input English sentence: raise your hand before you answer\n",
      "Input English sentence: he fell asleep while reading a book\n",
      "Input English sentence: how did you find it\n",
      "Input English sentence: the bus fares have been raised by percent\n",
      "Input English sentence: do you ever think about that girl\n",
      "Input English sentence: tom works in a factory\n",
      "Input English sentence: weve learned a lot too\n",
      "Input English sentence: lets stay here tonight\n",
      "Input English sentence: she shut the door and went upstairs\n",
      "Input English sentence: walt whitman is my favorite american poet\n",
      "Input English sentence: what does tom see in mary\n",
      "Input English sentence: is this your cap\n",
      "Input English sentence: i need to do this\n",
      "Input English sentence: camels are the ships of the deserts\n",
      "Input English sentence: look someplace else\n",
      "Input English sentence: did you know that tom has three children\n",
      "Input English sentence: give me my bag\n",
      "Input English sentence: thats not your cup\n",
      "Input English sentence: tom took off his headset\n",
      "Input English sentence: tom was sentenced to three years\n",
      "Input English sentence: why do you gamble\n",
      "Input English sentence: i forgot to buy sugar\n",
      "Input English sentence: does your head still hurt\n",
      "Input English sentence: were traveling together\n",
      "Input English sentence: women earn less than men\n",
      "Input English sentence: is this your house\n",
      "Input English sentence: i make € a day\n",
      "Input English sentence: i took highway\n",
      "Input English sentence: i wont throw rocks at anybody\n",
      "Input English sentence: this book is very new\n",
      "Input English sentence: tell her that i am coming\n",
      "Input English sentence: is that your boyfriend\n",
      "Input English sentence: can you come tomorrow\n",
      "Input English sentence: it was actually my fault\n",
      "Input English sentence: she cooked the dinner herself\n",
      "Input English sentence: its all up to you\n",
      "Input English sentence: you look better in this dress\n",
      "Input English sentence: he was the first man to land on the moon\n",
      "Input English sentence: she wrote novels in years\n",
      "Input English sentence: have you ever been to canada\n",
      "Input English sentence: i spent two hours yesterday trying to fix that broken radio\n",
      "Input English sentence: where will we meet\n",
      "Input English sentence: i cant understand what she says\n",
      "Input English sentence: i dont want to forget anything\n",
      "Input English sentence: welcome to boston\n",
      "Input English sentence: i lied to you\n",
      "Input English sentence: i was eating a sandwich\n",
      "Input English sentence: is this real silver\n",
      "Input English sentence: what are you two doing\n",
      "Input English sentence: dont you worry about a thing\n",
      "Input English sentence: brazil was a colony of portugal\n",
      "Input English sentence: in rich countries few people starve\n",
      "Input English sentence: she is living in some village in india\n",
      "Input English sentence: even i cant believe that\n",
      "Input English sentence: have you finished eating\n",
      "Input English sentence: out of sight out of mind\n",
      "Input English sentence: shall we take a cab\n",
      "Input English sentence: what do you teach\n",
      "Input English sentence: i bought a dozen pencils today\n",
      "Input English sentence: she bought a book at the shop\n",
      "Input English sentence: what does that have to do with tom\n",
      "Input English sentence: ive already eaten lunch\n",
      "Input English sentence: tom doesnt like cheese\n",
      "Input English sentence: call the number i gave you\n",
      "Input English sentence: where are they living\n",
      "Input English sentence: the battle was fought by the river\n",
      "Input English sentence: wait a minute\n",
      "Input English sentence: you will need a bodyguard\n",
      "Input English sentence: run\n",
      "Input English sentence: thats all i can see\n",
      "Input English sentence: i sent tom three months ago\n",
      "Input English sentence: has anyone contacted you\n",
      "Input English sentence: tom saw the cat\n",
      "Input English sentence: im on the roof\n",
      "Input English sentence: i went there to meet him\n",
      "Input English sentence: tom is in his room\n",
      "Input English sentence: he closed the door\n",
      "Input English sentence: ill notify you\n",
      "Input English sentence: the coffee is hot\n",
      "Input English sentence: we walked for two hours\n",
      "Input English sentence: he may come today\n",
      "Input English sentence: tom is a friend of my brothers\n",
      "Input English sentence: you could be lying\n",
      "Input English sentence: where are the horses\n",
      "Input English sentence: leave it to me\n",
      "Input English sentence: i was born in\n",
      "Input English sentence: tom is going to sing\n",
      "Input English sentence: do you want coffee\n",
      "Input English sentence: is he still here\n",
      "Input English sentence: i dont even want to think about that\n",
      "Input English sentence: he has left already\n",
      "Input English sentence: it took three hours for me to do that\n",
      "Input English sentence: i went there to meet him\n",
      "Input English sentence: were losing\n",
      "Input English sentence: lets split\n",
      "Input English sentence: i knew id be blamed\n",
      "Input English sentence: he came in just as i was going out\n",
      "Input English sentence: every student was asked his or her name and birthplace\n",
      "200 17.6157442883084\n",
      "Time for execution: 118.8425 seconds\n"
     ]
    }
   ],
   "source": [
    "import time\n",
    "train_gen = generate_batch(X_train, y_train, batch_size = 1)\n",
    "k=-1\n",
    "n = 200\n",
    "total_diff = 0\n",
    "tic = time.perf_counter()\n",
    "for x in range (0,100):\n",
    "    k+=1\n",
    "    (input_seq, actual_output), _ = next(train_gen)\n",
    "    input_sentence = X_train[k:k+1].values[0]\n",
    "    decoded_sentence = decode_sequence(input_seq)[:-4]\n",
    "    beam_decoded_sentences = beam_search_decode_sequence(input_seq, n)\n",
    "    actual_sentence = y_train[k:k+1].values[0][6:-4]\n",
    "    print('Input English sentence:', input_sentence)\n",
    "    #print('Actual Marathi Translation:', actual_sentence)\n",
    "    #print('Beam Predicted Marathi Translation:', best_beam(actual_sentence, beam_decoded_sentences))\n",
    "    #print('Predicted Marathi Translation:', decoded_sentence)\n",
    "\n",
    "    beam_score = calculate_bleu_for_beam(actual_sentence, beam_decoded_sentences)\n",
    "    score = calculate_bleu(actual_sentence, decoded_sentence)\n",
    "    diff = beam_score - score\n",
    "    total_diff += diff\n",
    "    #print(beam_score)\n",
    "    #print(score)\n",
    "toc = time.perf_counter()\n",
    "print(n, total_diff)\n",
    "print(f\"Time for execution: {toc - tic:0.4f} seconds\")"
   ]
  },
  {
   "cell_type": "code",
   "execution_count": 1321,
   "metadata": {},
   "outputs": [
    {
     "name": "stdout",
     "output_type": "stream",
     "text": [
      "Input English sentence: i bought a sandwich\n",
      "Input English sentence: do you think its impossible to finish this by five oclock\n",
      "Input English sentence: raise your hand before you answer\n",
      "Input English sentence: he fell asleep while reading a book\n",
      "Input English sentence: how did you find it\n",
      "Input English sentence: the bus fares have been raised by percent\n",
      "Input English sentence: do you ever think about that girl\n",
      "Input English sentence: tom works in a factory\n",
      "Input English sentence: weve learned a lot too\n",
      "Input English sentence: lets stay here tonight\n",
      "Input English sentence: she shut the door and went upstairs\n",
      "Input English sentence: walt whitman is my favorite american poet\n",
      "Input English sentence: what does tom see in mary\n",
      "Input English sentence: is this your cap\n",
      "Input English sentence: i need to do this\n",
      "Input English sentence: camels are the ships of the deserts\n",
      "Input English sentence: look someplace else\n",
      "Input English sentence: did you know that tom has three children\n",
      "Input English sentence: give me my bag\n",
      "Input English sentence: thats not your cup\n",
      "Input English sentence: tom took off his headset\n",
      "Input English sentence: tom was sentenced to three years\n",
      "Input English sentence: why do you gamble\n",
      "Input English sentence: i forgot to buy sugar\n",
      "Input English sentence: does your head still hurt\n",
      "Input English sentence: were traveling together\n",
      "Input English sentence: women earn less than men\n",
      "Input English sentence: is this your house\n",
      "Input English sentence: i make € a day\n",
      "Input English sentence: i took highway\n",
      "Input English sentence: i wont throw rocks at anybody\n",
      "Input English sentence: this book is very new\n",
      "Input English sentence: tell her that i am coming\n",
      "Input English sentence: is that your boyfriend\n",
      "Input English sentence: can you come tomorrow\n",
      "Input English sentence: it was actually my fault\n",
      "Input English sentence: she cooked the dinner herself\n",
      "Input English sentence: its all up to you\n",
      "Input English sentence: you look better in this dress\n",
      "Input English sentence: he was the first man to land on the moon\n",
      "Input English sentence: she wrote novels in years\n",
      "Input English sentence: have you ever been to canada\n",
      "Input English sentence: i spent two hours yesterday trying to fix that broken radio\n",
      "Input English sentence: where will we meet\n",
      "Input English sentence: i cant understand what she says\n",
      "Input English sentence: i dont want to forget anything\n",
      "Input English sentence: welcome to boston\n",
      "Input English sentence: i lied to you\n",
      "Input English sentence: i was eating a sandwich\n",
      "Input English sentence: is this real silver\n",
      "Input English sentence: what are you two doing\n",
      "Input English sentence: dont you worry about a thing\n",
      "Input English sentence: brazil was a colony of portugal\n",
      "Input English sentence: in rich countries few people starve\n",
      "Input English sentence: she is living in some village in india\n",
      "Input English sentence: even i cant believe that\n",
      "Input English sentence: have you finished eating\n",
      "Input English sentence: out of sight out of mind\n",
      "Input English sentence: shall we take a cab\n",
      "Input English sentence: what do you teach\n",
      "Input English sentence: i bought a dozen pencils today\n",
      "Input English sentence: she bought a book at the shop\n",
      "Input English sentence: what does that have to do with tom\n",
      "Input English sentence: ive already eaten lunch\n",
      "Input English sentence: tom doesnt like cheese\n",
      "Input English sentence: call the number i gave you\n",
      "Input English sentence: where are they living\n",
      "Input English sentence: the battle was fought by the river\n",
      "Input English sentence: wait a minute\n",
      "Input English sentence: you will need a bodyguard\n",
      "Input English sentence: run\n",
      "Input English sentence: thats all i can see\n",
      "Input English sentence: i sent tom three months ago\n",
      "Input English sentence: has anyone contacted you\n",
      "Input English sentence: tom saw the cat\n",
      "Input English sentence: im on the roof\n",
      "Input English sentence: i went there to meet him\n",
      "Input English sentence: tom is in his room\n",
      "Input English sentence: he closed the door\n",
      "Input English sentence: ill notify you\n",
      "Input English sentence: the coffee is hot\n",
      "Input English sentence: we walked for two hours\n",
      "Input English sentence: he may come today\n",
      "Input English sentence: tom is a friend of my brothers\n",
      "Input English sentence: you could be lying\n",
      "Input English sentence: where are the horses\n",
      "Input English sentence: leave it to me\n",
      "Input English sentence: i was born in\n",
      "Input English sentence: tom is going to sing\n",
      "Input English sentence: do you want coffee\n",
      "Input English sentence: is he still here\n",
      "Input English sentence: i dont even want to think about that\n",
      "Input English sentence: he has left already\n",
      "Input English sentence: it took three hours for me to do that\n",
      "Input English sentence: i went there to meet him\n",
      "Input English sentence: were losing\n",
      "Input English sentence: lets split\n",
      "Input English sentence: i knew id be blamed\n",
      "Input English sentence: he came in just as i was going out\n",
      "Input English sentence: every student was asked his or her name and birthplace\n",
      "100 0\n",
      "Time for execution: 25.4098 seconds\n"
     ]
    }
   ],
   "source": [
    "import time\n",
    "train_gen = generate_batch(X_train, y_train, batch_size = 1)\n",
    "k=-1\n",
    "n = 100\n",
    "total_diff = 0\n",
    "tic = time.perf_counter()\n",
    "for x in range (0,100):\n",
    "    k+=1\n",
    "    (input_seq, actual_output), _ = next(train_gen)\n",
    "    input_sentence = X_train[k:k+1].values[0]\n",
    "    decoded_sentence = decode_sequence(input_seq)[:-4]\n",
    "    #beam_decoded_sentences = beam_search_decode_sequence(input_seq, n)\n",
    "    actual_sentece = y_train[k:k+1].values[0][6:-4]\n",
    "    print('Input English sentence:', input_sentence)\n",
    "    #print('Actual Marathi Translation:', actual_sentence)\n",
    "    #print('Beam Predicted Marathi Translation:', best_beam(actual_sentence, beam_decoded_sentences))\n",
    "    #print('Predicted Marathi Translation:', decoded_sentence)\n",
    "\n",
    "    #beam_score = calculate_bleu_for_beam(actual_sentence, beam_decoded_sentences)\n",
    "    #score = calculate_bleu(actual_sentence, decoded_sentence)\n",
    "    #diff = beam_score - score\n",
    "    #total_diff += diff\n",
    "    #print(beam_score)\n",
    "    #print(score)\n",
    "toc = time.perf_counter()\n",
    "print(n, total_diff)\n",
    "print(f\"Time for execution: {toc - tic:0.4f} seconds\")"
   ]
  },
  {
   "cell_type": "code",
   "execution_count": null,
   "metadata": {},
   "outputs": [],
   "source": []
  },
  {
   "cell_type": "code",
   "execution_count": null,
   "metadata": {},
   "outputs": [],
   "source": []
  },
  {
   "cell_type": "markdown",
   "metadata": {},
   "source": [
    "### Training Examples - Individual Assessment of sentences"
   ]
  },
  {
   "cell_type": "code",
   "execution_count": 1143,
   "metadata": {},
   "outputs": [
    {
     "name": "stdout",
     "output_type": "stream",
     "text": [
      "Top Sentences\n",
      "['मी एक सँडविच विकत घेतलं', 'मी एक चादर विकत घेतलं', 'मी एक सँडविच विकत घेतला', 'मी एक सँडविच पाठवलं घेतलं', 'मी एक सँडविच आणलं घेतलं', 'मी एक सँडविच खाल्लं घेतलं', 'मी एक चादर विकत घेतला', 'मी एक सँडविच बघितलं घेतलं', 'मी एक सँडविच विकत घेईन', 'मी एक चादर पाठवलं घेतलं']\n",
      "\n",
      "\n",
      "Input English sentence: i bought a sandwich\n",
      "Actual Marathi Translation:  मी एक सँडविच विकत घेतलं \n",
      "Beam Predicted Marathi Translation: मी एक सँडविच विकत घेतलं\n",
      "Predicted Marathi Translation:  मी एक सँडविच विकत घेतलं \n",
      "1.0\n",
      "1.0\n"
     ]
    }
   ],
   "source": [
    "k+=1\n",
    "(input_seq, actual_output), _ = next(train_gen)\n",
    "input_sentence = X_train[k:k+1].values[0]\n",
    "decoded_sentence = decode_sequence(input_seq)[:-4]\n",
    "beam_decoded_sentences = beam_search_decode_sequence(input_seq, n)\n",
    "actual_sentence = y_train[k:k+1].values[0][6:-4]\n",
    "print('Input English sentence:', input_sentence)\n",
    "print('Actual Marathi Translation:', actual_sentence)\n",
    "print('Beam Predicted Marathi Translation:', best_beam(actual_sentence, beam_decoded_sentences))\n",
    "print('Predicted Marathi Translation:', decoded_sentence)\n",
    "\n",
    "beam_score = calculate_bleu_for_beam(actual_sentence, beam_decoded_sentences)\n",
    "score = calculate_bleu(actual_sentence, decoded_sentence)\n",
    "print(beam_score)\n",
    "print(score)"
   ]
  },
  {
   "cell_type": "code",
   "execution_count": 1144,
   "metadata": {},
   "outputs": [
    {
     "name": "stdout",
     "output_type": "stream",
     "text": [
      "Top Sentences\n",
      "['तर तर तर तू खरच किती मोठं विचार का आहे', 'तर तर तर तू किती किती मोठं विचार का आहे', 'तर तर लोकसंख्या तू खरच किती मोठं विचार का आहे', 'तर तर तर लोकसंख्या खरच किती मोठं विचार का आहे', 'तर तर लोकसंख्या तू किती किती मोठं विचार का आहे', 'तर तर तर लोकसंख्या किती किती मोठं विचार का आहे', 'तर तर तू तू खरच किती मोठं विचार का आहे', 'तर तर तू तू किती किती मोठं विचार का आहे', 'तर तर तर तुला खरच किती मोठं विचार का आहे', 'तर तर तर तुला किती किती मोठं विचार का आहे']\n",
      "\n",
      "\n",
      "Input English sentence: do you think its impossible to finish this by five oclock\n",
      "Actual Marathi Translation:  हे पाच वाजेपर्यंत संपवणं तुला अशक्य वाटतंय का \n",
      "Beam Predicted Marathi Translation: तर तर तर तुला खरच किती मोठं विचार का आहे\n",
      "Predicted Marathi Translation:  तर तर तर तू खरच किती मोठं विचार का आहे \n",
      "0.2\n",
      "0.10000000000000002\n"
     ]
    }
   ],
   "source": [
    "k+=1\n",
    "(input_seq, actual_output), _ = next(train_gen)\n",
    "input_sentence = X_train[k:k+1].values[0]\n",
    "decoded_sentence = decode_sequence(input_seq)[:-4]\n",
    "beam_decoded_sentences = beam_search_decode_sequence(input_seq, n)\n",
    "actual_sentence = y_train[k:k+1].values[0][6:-4]\n",
    "print('Input English sentence:', input_sentence)\n",
    "print('Actual Marathi Translation:', actual_sentence)\n",
    "print('Beam Predicted Marathi Translation:', best_beam(actual_sentence, beam_decoded_sentences))\n",
    "print('Predicted Marathi Translation:', decoded_sentence)\n",
    "\n",
    "beam_score = calculate_bleu_for_beam(actual_sentence, beam_decoded_sentences)\n",
    "score = calculate_bleu(actual_sentence, decoded_sentence)\n",
    "print(beam_score)\n",
    "print(score)"
   ]
  },
  {
   "cell_type": "code",
   "execution_count": 1145,
   "metadata": {},
   "outputs": [
    {
     "name": "stdout",
     "output_type": "stream",
     "text": [
      "Top Sentences\n",
      "['उत्तर द्यायच्या आधी हात वर करा', 'उत्तर द्यायच्या आधी हात वर कर', 'उत्तर देण्याअगोदर आधी हात वर करा', 'उत्तर देण्याअगोदर आधी हात वर कर', 'उत्तर द्यायच्या फोन हात वर करा', 'उत्तर द्यायच्या हात हात वर करा', 'माझ्या द्यायच्या आधी हात वर करा', 'उत्तर द्यायच्या आधी फोन वर करा', 'तुझं द्यायच्या आधी हात वर करा', 'उत्तर द्यायच्या फोन हात वर कर']\n",
      "\n",
      "\n",
      "Input English sentence: raise your hand before you answer\n",
      "Actual Marathi Translation:  उत्तर देण्याअगोदर हात वर कर \n",
      "Beam Predicted Marathi Translation: उत्तर देण्याअगोदर आधी हात वर कर\n",
      "Predicted Marathi Translation:  उत्तर द्यायच्या आधी हात वर करा \n",
      "0.8333333333333334\n",
      "0.5\n"
     ]
    }
   ],
   "source": [
    "k+=1\n",
    "(input_seq, actual_output), _ = next(train_gen)\n",
    "input_sentence = X_train[k:k+1].values[0]\n",
    "decoded_sentence = decode_sequence(input_seq)[:-4]\n",
    "beam_decoded_sentences = beam_search_decode_sequence(input_seq, n)\n",
    "actual_sentence = y_train[k:k+1].values[0][6:-4]\n",
    "print('Input English sentence:', input_sentence)\n",
    "print('Actual Marathi Translation:', actual_sentence)\n",
    "print('Beam Predicted Marathi Translation:', best_beam(actual_sentence, beam_decoded_sentences))\n",
    "print('Predicted Marathi Translation:', decoded_sentence)\n",
    "\n",
    "beam_score = calculate_bleu_for_beam(actual_sentence, beam_decoded_sentences)\n",
    "score = calculate_bleu(actual_sentence, decoded_sentence)\n",
    "print(beam_score)\n",
    "print(score)"
   ]
  },
  {
   "cell_type": "code",
   "execution_count": 1146,
   "metadata": {},
   "outputs": [
    {
     "name": "stdout",
     "output_type": "stream",
     "text": [
      "Top Sentences\n",
      "['तो पुस्तक वाचत होता', 'तो पुस्तक वाचत असताना', 'त्याने पुस्तक वाचत होता', 'ते पुस्तक वाचत होता', 'तो पत्र वाचत होता', 'त्याने पुस्तक वाचत असताना', 'तो पुस्तक वाचत होता', 'ते पुस्तक वाचत असताना', 'तो वाचत वाचत होता', 'तो पुस्तक वाचतावाचता होता']\n",
      "\n",
      "\n",
      "Input English sentence: he fell asleep while reading a book\n",
      "Actual Marathi Translation:  तो एक पुस्तक वाचतावाचता झोपून गेला \n",
      "Beam Predicted Marathi Translation: तो पुस्तक वाचतावाचता होता\n",
      "Predicted Marathi Translation:  तो पुस्तक वाचत होता \n",
      "0.45489799478447507\n",
      "0.3032653298563167\n"
     ]
    }
   ],
   "source": [
    "k+=1\n",
    "(input_seq, actual_output), _ = next(train_gen)\n",
    "input_sentence = X_train[k:k+1].values[0]\n",
    "decoded_sentence = decode_sequence(input_seq)[:-4]\n",
    "beam_decoded_sentences = beam_search_decode_sequence(input_seq, n)\n",
    "actual_sentence = y_train[k:k+1].values[0][6:-4]\n",
    "print('Input English sentence:', input_sentence)\n",
    "print('Actual Marathi Translation:', actual_sentence)\n",
    "print('Beam Predicted Marathi Translation:', best_beam(actual_sentence, beam_decoded_sentences))\n",
    "print('Predicted Marathi Translation:', decoded_sentence)\n",
    "\n",
    "beam_score = calculate_bleu_for_beam(actual_sentence, beam_decoded_sentences)\n",
    "score = calculate_bleu(actual_sentence, decoded_sentence)\n",
    "print(beam_score)\n",
    "print(score)"
   ]
  },
  {
   "cell_type": "code",
   "execution_count": 1147,
   "metadata": {},
   "outputs": [
    {
     "name": "stdout",
     "output_type": "stream",
     "text": [
      "Top Sentences\n",
      "['तुम्हाला कसं सापडलं', 'तुला कसं सापडलं', 'तुम्हाला काय सापडलं', 'तुला काय सापडलं', 'तुम्हाला कसं शिकवलं', 'तुला कसं शिकवलं', 'तुम्हाला सापडलं सापडलं', 'तुला सापडलं सापडलं', 'तुम्हाला कसं सापडला', 'तुला कसं सापडला']\n",
      "\n",
      "\n",
      "Input English sentence: how did you find it\n",
      "Actual Marathi Translation:  तुम्हाला कशी सापडली \n",
      "Beam Predicted Marathi Translation: तुम्हाला कसं सापडलं\n",
      "Predicted Marathi Translation:  तुम्हाला कसं सापडलं \n",
      "0.3333333333333333\n",
      "0.3333333333333333\n"
     ]
    }
   ],
   "source": [
    "k+=1\n",
    "(input_seq, actual_output), _ = next(train_gen)\n",
    "input_sentence = X_train[k:k+1].values[0]\n",
    "decoded_sentence = decode_sequence(input_seq)[:-4]\n",
    "beam_decoded_sentences = beam_search_decode_sequence(input_seq, n)\n",
    "actual_sentence = y_train[k:k+1].values[0][6:-4]\n",
    "print('Input English sentence:', input_sentence)\n",
    "print('Actual Marathi Translation:', actual_sentence)\n",
    "print('Beam Predicted Marathi Translation:', best_beam(actual_sentence, beam_decoded_sentences))\n",
    "print('Predicted Marathi Translation:', decoded_sentence)\n",
    "\n",
    "beam_score = calculate_bleu_for_beam(actual_sentence, beam_decoded_sentences)\n",
    "score = calculate_bleu(actual_sentence, decoded_sentence)\n",
    "print(beam_score)\n",
    "print(score)"
   ]
  },
  {
   "cell_type": "code",
   "execution_count": 1148,
   "metadata": {},
   "outputs": [
    {
     "name": "stdout",
     "output_type": "stream",
     "text": [
      "Top Sentences\n",
      "['बसचे भाडे टक्क्यांनी वाढवले आहे', 'व्यसनी भाडे टक्क्यांनी वाढवले आहे', 'टेप भाडे टक्क्यांनी वाढवले आहे', 'गावाच्या भाडे टक्क्यांनी वाढवले आहे', 'कॅलिफोर्नियामध्ये भाडे टक्क्यांनी वाढवले आहे', 'आरोग्यापेक्षा भाडे टक्क्यांनी वाढवले आहे', 'यामामोतोकडे भाडे टक्क्यांनी वाढवले आहे', 'एक्स्टर्नल भाडे टक्क्यांनी वाढवले आहे', 'द्वाराजवळ भाडे टक्क्यांनी वाढवले आहे', 'हॅलोवीन भाडे टक्क्यांनी वाढवले आहे']\n",
      "\n",
      "\n",
      "Input English sentence: the bus fares have been raised by percent\n",
      "Actual Marathi Translation:  बसचे भाडे टक्क्यांनी वाढवले आहे \n",
      "Beam Predicted Marathi Translation: बसचे भाडे टक्क्यांनी वाढवले आहे\n",
      "Predicted Marathi Translation:  बसचे भाडे टक्क्यांनी वाढवले आहे \n",
      "1.0\n",
      "1.0\n"
     ]
    }
   ],
   "source": [
    "k+=1\n",
    "(input_seq, actual_output), _ = next(train_gen)\n",
    "input_sentence = X_train[k:k+1].values[0]\n",
    "decoded_sentence = decode_sequence(input_seq)[:-4]\n",
    "beam_decoded_sentences = beam_search_decode_sequence(input_seq, n)\n",
    "actual_sentence = y_train[k:k+1].values[0][6:-4]\n",
    "print('Input English sentence:', input_sentence)\n",
    "print('Actual Marathi Translation:', actual_sentence)\n",
    "print('Beam Predicted Marathi Translation:', best_beam(actual_sentence, beam_decoded_sentences))\n",
    "print('Predicted Marathi Translation:', decoded_sentence)\n",
    "\n",
    "beam_score = calculate_bleu_for_beam(actual_sentence, beam_decoded_sentences)\n",
    "score = calculate_bleu(actual_sentence, decoded_sentence)\n",
    "print(beam_score)\n",
    "print(score)"
   ]
  },
  {
   "cell_type": "code",
   "execution_count": 1149,
   "metadata": {},
   "outputs": [
    {
     "name": "stdout",
     "output_type": "stream",
     "text": [
      "Top Sentences\n",
      "['तुम्ही त्याला कधी मुलीबद्दल विचार करतो का', 'तू त्याला कधी मुलीबद्दल विचार करतो का', 'तुम्ही त्याला कधी मुलीबद्दल विचार करत का', 'तू त्याला कधी मुलीबद्दल विचार करत का', 'तुम्ही त्याला कधी मुलीबद्दल विचार करता का', 'तू त्याला कधी मुलीबद्दल विचार करता का', 'तुम्ही त्याला कधी अमेरिकन विचार करतो का', 'तू त्याला कधी अमेरिकन विचार करतो का', 'तुम्ही त्यांना कधी मुलीबद्दल विचार करतो का', 'तू त्यांना कधी मुलीबद्दल विचार करतो का']\n",
      "\n",
      "\n",
      "Input English sentence: do you ever think about that girl\n",
      "Actual Marathi Translation:  तू कधी त्या मुलीबद्दल विचार करतेस का \n",
      "Beam Predicted Marathi Translation: तू त्याला कधी मुलीबद्दल विचार करतो का\n",
      "Predicted Marathi Translation:  तुम्ही त्याला कधी मुलीबद्दल विचार करतो का \n",
      "0.7142857142857143\n",
      "0.5714285714285714\n"
     ]
    }
   ],
   "source": [
    "k+=1\n",
    "(input_seq, actual_output), _ = next(train_gen)\n",
    "input_sentence = X_train[k:k+1].values[0]\n",
    "decoded_sentence = decode_sequence(input_seq)[:-4]\n",
    "beam_decoded_sentences = beam_search_decode_sequence(input_seq, n)\n",
    "actual_sentence = y_train[k:k+1].values[0][6:-4]\n",
    "print('Input English sentence:', input_sentence)\n",
    "print('Actual Marathi Translation:', actual_sentence)\n",
    "print('Beam Predicted Marathi Translation:', best_beam(actual_sentence, beam_decoded_sentences))\n",
    "print('Predicted Marathi Translation:', decoded_sentence)\n",
    "\n",
    "beam_score = calculate_bleu_for_beam(actual_sentence, beam_decoded_sentences)\n",
    "score = calculate_bleu(actual_sentence, decoded_sentence)\n",
    "print(beam_score)\n",
    "print(score)"
   ]
  },
  {
   "cell_type": "code",
   "execution_count": 1150,
   "metadata": {},
   "outputs": [
    {
     "name": "stdout",
     "output_type": "stream",
     "text": [
      "Top Sentences\n",
      "['टॉम एका कारखान्यात काम करतो', 'टॉम एका फॅक्टरीत काम करतो', 'टॉम एका कारखान्यात काम करते', 'टॉम एका फॅक्टरीत काम करते', 'टॉम एका एका काम करतो', 'टॉम एका शहरी काम करतो', 'टॉम एका बेकरीत काम करतो', 'टॉम एका छोट्या काम करतो', 'टॉम एका बँकेत काम करतो', 'टॉम एका एका काम करते']\n",
      "\n",
      "\n",
      "Input English sentence: tom works in a factory\n",
      "Actual Marathi Translation:  टॉम एका कारखान्यात काम करतो \n",
      "Beam Predicted Marathi Translation: टॉम एका कारखान्यात काम करतो\n",
      "Predicted Marathi Translation:  टॉम एका कारखान्यात काम करतो \n",
      "1.0\n",
      "1.0\n"
     ]
    }
   ],
   "source": [
    "k+=1\n",
    "(input_seq, actual_output), _ = next(train_gen)\n",
    "input_sentence = X_train[k:k+1].values[0]\n",
    "decoded_sentence = decode_sequence(input_seq)[:-4]\n",
    "beam_decoded_sentences = beam_search_decode_sequence(input_seq, n)\n",
    "actual_sentence = y_train[k:k+1].values[0][6:-4]\n",
    "print('Input English sentence:', input_sentence)\n",
    "print('Actual Marathi Translation:', actual_sentence)\n",
    "print('Beam Predicted Marathi Translation:', best_beam(actual_sentence, beam_decoded_sentences))\n",
    "print('Predicted Marathi Translation:', decoded_sentence)\n",
    "\n",
    "beam_score = calculate_bleu_for_beam(actual_sentence, beam_decoded_sentences)\n",
    "score = calculate_bleu(actual_sentence, decoded_sentence)\n",
    "print(beam_score)\n",
    "print(score)"
   ]
  },
  {
   "cell_type": "code",
   "execution_count": 1151,
   "metadata": {},
   "outputs": [
    {
     "name": "stdout",
     "output_type": "stream",
     "text": [
      "Top Sentences\n",
      "['आम्ही भरपूर काही आहेत आहोत हे', 'आम्ही भरपूर काही शिकलो आहोत हे', 'आम्ही भरपूर कॉफी आहेत आहोत हे', 'आम्ही भरपूर कॉफी शिकलो आहोत हे', 'आपण भरपूर काही आहेत आहोत हे', 'आपण भरपूर काही शिकलो आहोत हे', 'आम्ही भरपूर तीस आहेत आहोत हे', 'आम्ही भरपूर तीस शिकलो आहोत हे', 'आम्ही भरपूर काही आहेत आहोत हे', 'आपण भरपूर कॉफी आहेत आहोत हे']\n",
      "\n",
      "\n",
      "Input English sentence: weve learned a lot too\n",
      "Actual Marathi Translation:  आपणही भरपूर काही शिकलो आहोत \n",
      "Beam Predicted Marathi Translation: आम्ही भरपूर काही शिकलो आहोत हे\n",
      "Predicted Marathi Translation:  आम्ही भरपूर काही आहेत आहोत हे \n",
      "0.6666666666666666\n",
      "0.5\n"
     ]
    }
   ],
   "source": [
    "k+=1\n",
    "(input_seq, actual_output), _ = next(train_gen)\n",
    "input_sentence = X_train[k:k+1].values[0]\n",
    "decoded_sentence = decode_sequence(input_seq)[:-4]\n",
    "beam_decoded_sentences = beam_search_decode_sequence(input_seq, n)\n",
    "actual_sentence = y_train[k:k+1].values[0][6:-4]\n",
    "print('Input English sentence:', input_sentence)\n",
    "print('Actual Marathi Translation:', actual_sentence)\n",
    "print('Beam Predicted Marathi Translation:', best_beam(actual_sentence, beam_decoded_sentences))\n",
    "print('Predicted Marathi Translation:', decoded_sentence)\n",
    "\n",
    "beam_score = calculate_bleu_for_beam(actual_sentence, beam_decoded_sentences)\n",
    "score = calculate_bleu(actual_sentence, decoded_sentence)\n",
    "print(beam_score)\n",
    "print(score)"
   ]
  },
  {
   "cell_type": "code",
   "execution_count": 1152,
   "metadata": {},
   "outputs": [
    {
     "name": "stdout",
     "output_type": "stream",
     "text": [
      "Top Sentences\n",
      "['आज रात्री इथे राहूया', 'आज रात्री इथे जाऊया', 'इथे रात्री इथे राहूया', 'इथे रात्री इथे जाऊया', 'आज रात्री इथून राहूया', 'आज रात्री इथे नसतो', 'आज रात्री इथून जाऊया', 'आज रात्री इथे राहिला', 'आज रात्री इथे गेलं', 'आज रात्री इथे राहू']\n",
      "\n",
      "\n",
      "Input English sentence: lets stay here tonight\n",
      "Actual Marathi Translation:  आज रात्री इथे राहूया \n",
      "Beam Predicted Marathi Translation: आज रात्री इथे राहूया\n",
      "Predicted Marathi Translation:  आज रात्री इथे राहूया \n",
      "1.0\n",
      "1.0\n"
     ]
    }
   ],
   "source": [
    "k+=1\n",
    "(input_seq, actual_output), _ = next(train_gen)\n",
    "input_sentence = X_train[k:k+1].values[0]\n",
    "decoded_sentence = decode_sequence(input_seq)[:-4]\n",
    "beam_decoded_sentences = beam_search_decode_sequence(input_seq, n)\n",
    "actual_sentence = y_train[k:k+1].values[0][6:-4]\n",
    "print('Input English sentence:', input_sentence)\n",
    "print('Actual Marathi Translation:', actual_sentence)\n",
    "print('Beam Predicted Marathi Translation:', best_beam(actual_sentence, beam_decoded_sentences))\n",
    "print('Predicted Marathi Translation:', decoded_sentence)\n",
    "\n",
    "beam_score = calculate_bleu_for_beam(actual_sentence, beam_decoded_sentences)\n",
    "score = calculate_bleu(actual_sentence, decoded_sentence)\n",
    "print(beam_score)\n",
    "print(score)"
   ]
  },
  {
   "cell_type": "code",
   "execution_count": 1153,
   "metadata": {},
   "outputs": [
    {
     "name": "stdout",
     "output_type": "stream",
     "text": [
      "Top Sentences\n",
      "['त्यांनी दरवाजा बंद केला का', 'त्यांनी दरवाजा बंद केलं का', 'त्यांनी जे बंद केला का', 'त्यांनी जे बंद केलं का', 'त्यांनी खरं बंद केला का', 'तिने दरवाजा बंद केला का', 'टॉमने दरवाजा बंद केला का', 'त्यांनी दरवाजा बंद करून का', 'त्यांनी खरं बंद केलं का', 'तिने दरवाजा बंद केलं का']\n",
      "\n",
      "\n",
      "Input English sentence: she shut the door and went upstairs\n",
      "Actual Marathi Translation:  ती दार बंद करून वर गेली \n",
      "Beam Predicted Marathi Translation: त्यांनी दरवाजा बंद करून का\n",
      "Predicted Marathi Translation:  त्यांनी दरवाजा बंद केला का \n",
      "0.3274923012311928\n",
      "0.1637461506155964\n"
     ]
    }
   ],
   "source": [
    "k+=1\n",
    "(input_seq, actual_output), _ = next(train_gen)\n",
    "input_sentence = X_train[k:k+1].values[0]\n",
    "decoded_sentence = decode_sequence(input_seq)[:-4]\n",
    "beam_decoded_sentences = beam_search_decode_sequence(input_seq, n)\n",
    "actual_sentence = y_train[k:k+1].values[0][6:-4]\n",
    "print('Input English sentence:', input_sentence)\n",
    "print('Actual Marathi Translation:', actual_sentence)\n",
    "print('Beam Predicted Marathi Translation:', best_beam(actual_sentence, beam_decoded_sentences))\n",
    "print('Predicted Marathi Translation:', decoded_sentence)\n",
    "\n",
    "beam_score = calculate_bleu_for_beam(actual_sentence, beam_decoded_sentences)\n",
    "score = calculate_bleu(actual_sentence, decoded_sentence)\n",
    "print(beam_score)\n",
    "print(score)"
   ]
  },
  {
   "cell_type": "code",
   "execution_count": 1154,
   "metadata": {},
   "outputs": [
    {
     "name": "stdout",
     "output_type": "stream",
     "text": [
      "Top Sentences\n",
      "['माझा सर्वात आवडता कवी नाव लेखक आहे', 'माझा सर्वात आवडता कवी सर्वात लेखक आहे', 'माझा आवडता आवडता कवी नाव लेखक आहे', 'माझा आवडता आवडता कवी सर्वात लेखक आहे', 'माझा सर्वात सर्वात कवी नाव लेखक आहे', 'माझा सर्वात सर्वात कवी सर्वात लेखक आहे', 'माझा आवडता सर्वात कवी नाव लेखक आहे', 'माझा आवडता सर्वात कवी सर्वात लेखक आहे', 'माझा सर्वात आवडता कवी नाव झोपलेली आहे', 'माझा सर्वात आवडता कवी सर्वात झोपलेली आहे']\n",
      "\n",
      "\n",
      "Input English sentence: walt whitman is my favorite american poet\n",
      "Actual Marathi Translation:  माझा सर्वात आवडता अमेरिकन कवी वॉल्ट व्हिटमन आहे \n",
      "Beam Predicted Marathi Translation: माझा सर्वात आवडता कवी नाव लेखक आहे\n",
      "Predicted Marathi Translation:  माझा सर्वात आवडता कवी नाव लेखक आहे \n",
      "0.6191984998215584\n",
      "0.6191984998215584\n"
     ]
    }
   ],
   "source": [
    "k+=1\n",
    "(input_seq, actual_output), _ = next(train_gen)\n",
    "input_sentence = X_train[k:k+1].values[0]\n",
    "decoded_sentence = decode_sequence(input_seq)[:-4]\n",
    "beam_decoded_sentences = beam_search_decode_sequence(input_seq, n)\n",
    "actual_sentence = y_train[k:k+1].values[0][6:-4]\n",
    "print('Input English sentence:', input_sentence)\n",
    "print('Actual Marathi Translation:', actual_sentence)\n",
    "print('Beam Predicted Marathi Translation:', best_beam(actual_sentence, beam_decoded_sentences))\n",
    "print('Predicted Marathi Translation:', decoded_sentence)\n",
    "\n",
    "beam_score = calculate_bleu_for_beam(actual_sentence, beam_decoded_sentences)\n",
    "score = calculate_bleu(actual_sentence, decoded_sentence)\n",
    "print(beam_score)\n",
    "print(score)"
   ]
  },
  {
   "cell_type": "code",
   "execution_count": 1155,
   "metadata": {},
   "outputs": [
    {
     "name": "stdout",
     "output_type": "stream",
     "text": [
      "Top Sentences\n",
      "['टॉमला मेरीत काय दिसतं', 'टॉमला मेरीमध्ये काय दिसतं', 'टॉमला मेरीत काय होता', 'टॉम मेरीत काय दिसतं', 'टॉमला मेरीमध्ये काय होता', 'टॉमला काय काय दिसतं', 'टॉम मेरीमध्ये काय दिसतं', 'टॉम मेरीत काय होता', 'टॉमला मेरीत काय दिसत', 'टॉमला बॉस्टनमध्ये काय दिसतं']\n",
      "\n",
      "\n",
      "Input English sentence: what does tom see in mary\n",
      "Actual Marathi Translation:  टॉमला मेरीत काय दिसतं \n",
      "Beam Predicted Marathi Translation: टॉमला मेरीत काय दिसतं\n",
      "Predicted Marathi Translation:  टॉमला मेरीत काय दिसतं \n",
      "1.0\n",
      "1.0\n"
     ]
    }
   ],
   "source": [
    "k+=1\n",
    "(input_seq, actual_output), _ = next(train_gen)\n",
    "input_sentence = X_train[k:k+1].values[0]\n",
    "decoded_sentence = decode_sequence(input_seq)[:-4]\n",
    "beam_decoded_sentences = beam_search_decode_sequence(input_seq, n)\n",
    "actual_sentence = y_train[k:k+1].values[0][6:-4]\n",
    "print('Input English sentence:', input_sentence)\n",
    "print('Actual Marathi Translation:', actual_sentence)\n",
    "print('Beam Predicted Marathi Translation:', best_beam(actual_sentence, beam_decoded_sentences))\n",
    "print('Predicted Marathi Translation:', decoded_sentence)\n",
    "\n",
    "beam_score = calculate_bleu_for_beam(actual_sentence, beam_decoded_sentences)\n",
    "score = calculate_bleu(actual_sentence, decoded_sentence)\n",
    "print(beam_score)\n",
    "print(score)"
   ]
  },
  {
   "cell_type": "code",
   "execution_count": 1156,
   "metadata": {},
   "outputs": [
    {
     "name": "stdout",
     "output_type": "stream",
     "text": [
      "Top Sentences\n",
      "['हे तुझी टोपी आहे का', 'हे तुमची टोपी आहे का', 'हे तुझं टोपी आहे का', 'ही तुझी टोपी आहे का', 'हे तुमचं टोपी आहे का', 'ही तुमची टोपी आहे का', 'ही तुझं टोपी आहे का', 'ही तुमचं टोपी आहे का', 'हे घर टोपी आहे का', 'ही घर टोपी आहे का']\n",
      "\n",
      "\n",
      "Input English sentence: is this your cap\n",
      "Actual Marathi Translation:  ही तुझी टोपी आहे का \n",
      "Beam Predicted Marathi Translation: ही तुझी टोपी आहे का\n",
      "Predicted Marathi Translation:  हे तुझी टोपी आहे का \n",
      "1.0\n",
      "0.8\n"
     ]
    }
   ],
   "source": [
    "k+=1\n",
    "(input_seq, actual_output), _ = next(train_gen)\n",
    "input_sentence = X_train[k:k+1].values[0]\n",
    "decoded_sentence = decode_sequence(input_seq)[:-4]\n",
    "beam_decoded_sentences = beam_search_decode_sequence(input_seq, n)\n",
    "actual_sentence = y_train[k:k+1].values[0][6:-4]\n",
    "print('Input English sentence:', input_sentence)\n",
    "print('Actual Marathi Translation:', actual_sentence)\n",
    "print('Beam Predicted Marathi Translation:', best_beam(actual_sentence, beam_decoded_sentences))\n",
    "print('Predicted Marathi Translation:', decoded_sentence)\n",
    "\n",
    "beam_score = calculate_bleu_for_beam(actual_sentence, beam_decoded_sentences)\n",
    "score = calculate_bleu(actual_sentence, decoded_sentence)\n",
    "print(beam_score)\n",
    "print(score)"
   ]
  },
  {
   "cell_type": "code",
   "execution_count": 1157,
   "metadata": {},
   "outputs": [
    {
     "name": "stdout",
     "output_type": "stream",
     "text": [
      "Top Sentences\n",
      "['मला हे करायलाच पाहिजे', 'मला या करायलाच पाहिजे', 'मला हे गरज पाहिजे', 'मला हे करायचं पाहिजे', 'मला हे लागेल पाहिजे', 'मला याबद्दल करायलाच पाहिजे', 'मला या गरज पाहिजे', 'मला या करायचं पाहिजे', 'मला या लागेल पाहिजे', 'मला हे करायची पाहिजे']\n",
      "\n",
      "\n",
      "Input English sentence: i need to do this\n",
      "Actual Marathi Translation:  मला हे करायलाच पाहिजे \n",
      "Beam Predicted Marathi Translation: मला हे करायलाच पाहिजे\n",
      "Predicted Marathi Translation:  मला हे करायलाच पाहिजे \n",
      "1.0\n",
      "1.0\n"
     ]
    }
   ],
   "source": [
    "k+=1\n",
    "(input_seq, actual_output), _ = next(train_gen)\n",
    "input_sentence = X_train[k:k+1].values[0]\n",
    "decoded_sentence = decode_sequence(input_seq)[:-4]\n",
    "beam_decoded_sentences = beam_search_decode_sequence(input_seq, n)\n",
    "actual_sentence = y_train[k:k+1].values[0][6:-4]\n",
    "print('Input English sentence:', input_sentence)\n",
    "print('Actual Marathi Translation:', actual_sentence)\n",
    "print('Beam Predicted Marathi Translation:', best_beam(actual_sentence, beam_decoded_sentences))\n",
    "print('Predicted Marathi Translation:', decoded_sentence)\n",
    "\n",
    "beam_score = calculate_bleu_for_beam(actual_sentence, beam_decoded_sentences)\n",
    "score = calculate_bleu(actual_sentence, decoded_sentence)\n",
    "print(beam_score)\n",
    "print(score)"
   ]
  },
  {
   "cell_type": "code",
   "execution_count": 1158,
   "metadata": {},
   "outputs": [
    {
     "name": "stdout",
     "output_type": "stream",
     "text": [
      "Top Sentences\n",
      "['उंट म्हणजे वाळवंटाची जहाजंच', 'गरुड म्हणजे वाळवंटाची जहाजंच', 'म्हणजे म्हणजे वाळवंटाची जहाजंच', 'लंडन म्हणजे वाळवंटाची जहाजंच', 'डोंगर म्हणजे वाळवंटाची जहाजंच', 'वरून म्हणजे वाळवंटाची जहाजंच', 'समुद्र म्हणजे वाळवंटाची जहाजंच', 'आकाशात म्हणजे वाळवंटाची जहाजंच', 'आकाश म्हणजे वाळवंटाची जहाजंच', 'उंट म्हणजे म्हणजे जहाजंच']\n",
      "\n",
      "\n",
      "Input English sentence: camels are the ships of the deserts\n",
      "Actual Marathi Translation:  उंट म्हणजे वाळवंटाची जहाजंच \n",
      "Beam Predicted Marathi Translation: उंट म्हणजे वाळवंटाची जहाजंच\n",
      "Predicted Marathi Translation:  उंट म्हणजे वाळवंटाची जहाजंच \n",
      "1.0\n",
      "1.0\n"
     ]
    }
   ],
   "source": [
    "k+=1\n",
    "(input_seq, actual_output), _ = next(train_gen)\n",
    "input_sentence = X_train[k:k+1].values[0]\n",
    "decoded_sentence = decode_sequence(input_seq)[:-4]\n",
    "beam_decoded_sentences = beam_search_decode_sequence(input_seq, n)\n",
    "actual_sentence = y_train[k:k+1].values[0][6:-4]\n",
    "print('Input English sentence:', input_sentence)\n",
    "print('Actual Marathi Translation:', actual_sentence)\n",
    "print('Beam Predicted Marathi Translation:', best_beam(actual_sentence, beam_decoded_sentences))\n",
    "print('Predicted Marathi Translation:', decoded_sentence)\n",
    "\n",
    "beam_score = calculate_bleu_for_beam(actual_sentence, beam_decoded_sentences)\n",
    "score = calculate_bleu(actual_sentence, decoded_sentence)\n",
    "print(beam_score)\n",
    "print(score)"
   ]
  },
  {
   "cell_type": "code",
   "execution_count": 1159,
   "metadata": {},
   "outputs": [
    {
     "name": "stdout",
     "output_type": "stream",
     "text": [
      "Top Sentences\n",
      "['दुसरीकडे कुठेतरी शोध', 'कुठेतरी कुठेतरी शोध', 'देव कुठेतरी शोध', 'सध्या कुठेतरी शोध', 'दुसरीकडे कुठेतरी राहा', 'पाऊस कुठेतरी शोध', 'जोरदार कुठेतरी शोध', 'प्रकाश कुठेतरी शोध', 'उद्या कुठेतरी शोध', 'कुठेतरी कुठेतरी राहा']\n",
      "\n",
      "\n",
      "Input English sentence: look someplace else\n",
      "Actual Marathi Translation:  दुसरीकडे कुठेतरी शोध \n",
      "Beam Predicted Marathi Translation: दुसरीकडे कुठेतरी शोध\n",
      "Predicted Marathi Translation:  दुसरीकडे कुठेतरी शोध \n",
      "1.0\n",
      "1.0\n"
     ]
    }
   ],
   "source": [
    "k+=1\n",
    "(input_seq, actual_output), _ = next(train_gen)\n",
    "input_sentence = X_train[k:k+1].values[0]\n",
    "decoded_sentence = decode_sequence(input_seq)[:-4]\n",
    "beam_decoded_sentences = beam_search_decode_sequence(input_seq, n)\n",
    "actual_sentence = y_train[k:k+1].values[0][6:-4]\n",
    "print('Input English sentence:', input_sentence)\n",
    "print('Actual Marathi Translation:', actual_sentence)\n",
    "print('Beam Predicted Marathi Translation:', best_beam(actual_sentence, beam_decoded_sentences))\n",
    "print('Predicted Marathi Translation:', decoded_sentence)\n",
    "\n",
    "beam_score = calculate_bleu_for_beam(actual_sentence, beam_decoded_sentences)\n",
    "score = calculate_bleu(actual_sentence, decoded_sentence)\n",
    "print(beam_score)\n",
    "print(score)"
   ]
  },
  {
   "cell_type": "code",
   "execution_count": 1160,
   "metadata": {},
   "outputs": [
    {
     "name": "stdout",
     "output_type": "stream",
     "text": [
      "Top Sentences\n",
      "['टॉमकडे तीन मुलं आहेत का', 'टॉमकडे तीन मुलं आहेत का', 'टॉमकडे तीन मुलं विकत का', 'टॉमकडे तीन मुलं आहेत का', 'टॉमकडे तीन मुलं आहेत का', 'टॉमला तीन मुलं आहेत का', 'टॉमकडे तीन मुलं विकत का', 'टॉमकडे तीन मुलं आहेत का', 'टॉमला तीन मुलं आहेत का', 'टॉमकडे तीन मुलं आहेत हे']\n",
      "\n",
      "\n",
      "Input English sentence: did you know that tom has three children\n",
      "Actual Marathi Translation:  टॉमला तीन मुलं आहेत हे तुला माहीत होतं का \n",
      "Beam Predicted Marathi Translation: टॉमला तीन मुलं आहेत का\n",
      "Predicted Marathi Translation:  टॉमकडे तीन मुलं आहेत का \n",
      "0.44932896411722156\n",
      "0.35946317129377725\n"
     ]
    }
   ],
   "source": [
    "k+=1\n",
    "(input_seq, actual_output), _ = next(train_gen)\n",
    "input_sentence = X_train[k:k+1].values[0]\n",
    "decoded_sentence = decode_sequence(input_seq)[:-4]\n",
    "beam_decoded_sentences = beam_search_decode_sequence(input_seq, n)\n",
    "actual_sentence = y_train[k:k+1].values[0][6:-4]\n",
    "print('Input English sentence:', input_sentence)\n",
    "print('Actual Marathi Translation:', actual_sentence)\n",
    "print('Beam Predicted Marathi Translation:', best_beam(actual_sentence, beam_decoded_sentences))\n",
    "print('Predicted Marathi Translation:', decoded_sentence)\n",
    "\n",
    "beam_score = calculate_bleu_for_beam(actual_sentence, beam_decoded_sentences)\n",
    "score = calculate_bleu(actual_sentence, decoded_sentence)\n",
    "print(beam_score)\n",
    "print(score)"
   ]
  },
  {
   "cell_type": "code",
   "execution_count": 1161,
   "metadata": {},
   "outputs": [
    {
     "name": "stdout",
     "output_type": "stream",
     "text": [
      "Top Sentences\n",
      "['मला माझी पिशवी द्या', 'मला माझी बॅग द्या', 'मला माझी पिशवी दे', 'मला माझी बॅग दे', 'मला माझ्या पिशवी द्या', 'मला माझ्या बॅग द्या', 'मला माझ्या पिशवी दे', 'मला माझ्या बॅग दे', 'मला माझे पिशवी द्या', 'माझी माझी पिशवी द्या']\n",
      "\n",
      "\n",
      "Input English sentence: give me my bag\n",
      "Actual Marathi Translation:  मला माझी पिशवी दे \n",
      "Beam Predicted Marathi Translation: मला माझी पिशवी दे\n",
      "Predicted Marathi Translation:  मला माझी पिशवी द्या \n",
      "1.0\n",
      "0.75\n"
     ]
    }
   ],
   "source": [
    "k+=1\n",
    "(input_seq, actual_output), _ = next(train_gen)\n",
    "input_sentence = X_train[k:k+1].values[0]\n",
    "decoded_sentence = decode_sequence(input_seq)[:-4]\n",
    "beam_decoded_sentences = beam_search_decode_sequence(input_seq, n)\n",
    "actual_sentence = y_train[k:k+1].values[0][6:-4]\n",
    "print('Input English sentence:', input_sentence)\n",
    "print('Actual Marathi Translation:', actual_sentence)\n",
    "print('Beam Predicted Marathi Translation:', best_beam(actual_sentence, beam_decoded_sentences))\n",
    "print('Predicted Marathi Translation:', decoded_sentence)\n",
    "\n",
    "beam_score = calculate_bleu_for_beam(actual_sentence, beam_decoded_sentences)\n",
    "score = calculate_bleu(actual_sentence, decoded_sentence)\n",
    "print(beam_score)\n",
    "print(score)"
   ]
  },
  {
   "cell_type": "code",
   "execution_count": 1162,
   "metadata": {},
   "outputs": [
    {
     "name": "stdout",
     "output_type": "stream",
     "text": [
      "Top Sentences\n",
      "['ते तुमचं कप नाहीये', 'ते तुझं कप नाहीये', 'ते तुमचं उत्तर नाहीये', 'ते तुझं उत्तर नाहीये', 'ते तुमचं कप नाही', 'तो तुमचं कप नाहीये', 'ते तुझं कप नाही', 'ती तुमचं कप नाहीये', 'तो तुझं कप नाहीये', 'ती तुझं कप नाहीये']\n",
      "\n",
      "\n",
      "Input English sentence: thats not your cup\n",
      "Actual Marathi Translation:  ते तुमचं कप नाही आहे \n",
      "Beam Predicted Marathi Translation: ते तुमचं कप नाही\n",
      "Predicted Marathi Translation:  ते तुमचं कप नाहीये \n",
      "0.7788007830714049\n",
      "0.5841005873035536\n"
     ]
    }
   ],
   "source": [
    "k+=1\n",
    "(input_seq, actual_output), _ = next(train_gen)\n",
    "input_sentence = X_train[k:k+1].values[0]\n",
    "decoded_sentence = decode_sequence(input_seq)[:-4]\n",
    "beam_decoded_sentences = beam_search_decode_sequence(input_seq, n)\n",
    "actual_sentence = y_train[k:k+1].values[0][6:-4]\n",
    "print('Input English sentence:', input_sentence)\n",
    "print('Actual Marathi Translation:', actual_sentence)\n",
    "print('Beam Predicted Marathi Translation:', best_beam(actual_sentence, beam_decoded_sentences))\n",
    "print('Predicted Marathi Translation:', decoded_sentence)\n",
    "\n",
    "beam_score = calculate_bleu_for_beam(actual_sentence, beam_decoded_sentences)\n",
    "score = calculate_bleu(actual_sentence, decoded_sentence)\n",
    "print(beam_score)\n",
    "print(score)"
   ]
  },
  {
   "cell_type": "code",
   "execution_count": 1163,
   "metadata": {},
   "outputs": [
    {
     "name": "stdout",
     "output_type": "stream",
     "text": [
      "Top Sentences\n",
      "['टॉमने त्याचा हेडसेट काढला', 'टॉमने स्वतःचा हेडसेट काढला', 'टॉमने स्वतःचं हेडसेट काढला', 'टॉमने त्याचं हेडसेट काढला', 'टॉमने त्याचा चेहरा काढला', 'टॉमने त्याचा स्वतःचा काढला', 'टॉमने आपला हेडसेट काढला', 'टॉमने स्वतःच्या हेडसेट काढला', 'टॉमने त्याचा त्याचा काढला', 'टॉमने त्याचा पासवर्ड काढला']\n",
      "\n",
      "\n",
      "Input English sentence: tom took off his headset\n",
      "Actual Marathi Translation:  टॉमने त्याचा हेडसेट काढला \n",
      "Beam Predicted Marathi Translation: टॉमने त्याचा हेडसेट काढला\n",
      "Predicted Marathi Translation:  टॉमने त्याचा हेडसेट काढला \n",
      "1.0\n",
      "1.0\n"
     ]
    }
   ],
   "source": [
    "k+=1\n",
    "(input_seq, actual_output), _ = next(train_gen)\n",
    "input_sentence = X_train[k:k+1].values[0]\n",
    "decoded_sentence = decode_sequence(input_seq)[:-4]\n",
    "beam_decoded_sentences = beam_search_decode_sequence(input_seq, n)\n",
    "actual_sentence = y_train[k:k+1].values[0][6:-4]\n",
    "print('Input English sentence:', input_sentence)\n",
    "print('Actual Marathi Translation:', actual_sentence)\n",
    "print('Beam Predicted Marathi Translation:', best_beam(actual_sentence, beam_decoded_sentences))\n",
    "print('Predicted Marathi Translation:', decoded_sentence)\n",
    "\n",
    "beam_score = calculate_bleu_for_beam(actual_sentence, beam_decoded_sentences)\n",
    "score = calculate_bleu(actual_sentence, decoded_sentence)\n",
    "print(beam_score)\n",
    "print(score)"
   ]
  },
  {
   "cell_type": "code",
   "execution_count": 1164,
   "metadata": {},
   "outputs": [
    {
     "name": "stdout",
     "output_type": "stream",
     "text": [
      "Top Sentences\n",
      "['टॉमला तीन वर्षांची आले आहे', 'टॉमला तीन वर्षांची फ्रेंच आहे', 'टॉमला तीन वर्षांपूर्वी आले आहे', 'टॉमला तीन वर्षांपूर्वी फ्रेंच आहे', 'टॉमला तीन वर्ष आले आहे', 'टॉमला तीन वर्ष फ्रेंच आहे', 'टॉमला तीन वर्षांची आलो आहे', 'टॉमला तीन वर्षांपूर्वी आलो आहे', 'टॉमला तीन वर्षांची करतो आहे', 'टॉमला तीन वर्षांची झाली आहे']\n",
      "\n",
      "\n",
      "Input English sentence: tom was sentenced to three years\n",
      "Actual Marathi Translation:  टॉमला तीन वर्षांची शिक्षा सुनावण्यात आली \n",
      "Beam Predicted Marathi Translation: टॉमला तीन वर्षांची आले आहे\n",
      "Predicted Marathi Translation:  टॉमला तीन वर्षांची आले आहे \n",
      "0.49123845184678916\n",
      "0.49123845184678916\n"
     ]
    }
   ],
   "source": [
    "k+=1\n",
    "(input_seq, actual_output), _ = next(train_gen)\n",
    "input_sentence = X_train[k:k+1].values[0]\n",
    "decoded_sentence = decode_sequence(input_seq)[:-4]\n",
    "beam_decoded_sentences = beam_search_decode_sequence(input_seq, n)\n",
    "actual_sentence = y_train[k:k+1].values[0][6:-4]\n",
    "print('Input English sentence:', input_sentence)\n",
    "print('Actual Marathi Translation:', actual_sentence)\n",
    "print('Beam Predicted Marathi Translation:', best_beam(actual_sentence, beam_decoded_sentences))\n",
    "print('Predicted Marathi Translation:', decoded_sentence)\n",
    "\n",
    "beam_score = calculate_bleu_for_beam(actual_sentence, beam_decoded_sentences)\n",
    "score = calculate_bleu(actual_sentence, decoded_sentence)\n",
    "print(beam_score)\n",
    "print(score)"
   ]
  },
  {
   "cell_type": "code",
   "execution_count": 1165,
   "metadata": {},
   "outputs": [
    {
     "name": "stdout",
     "output_type": "stream",
     "text": [
      "Top Sentences\n",
      "['तू जुगार का खेळतोस', 'जुगार जुगार का खेळतोस', 'तू जुगार का खळतेस', 'तू जुगार का खेळता', 'तुम्ही जुगार का खेळतोस', 'जुगार जुगार का खळतेस', 'जुगार जुगार का खेळता', 'तू जुगार का खेळतेस', 'तू जुगार का खळतोस', 'तुम्ही जुगार का खळतेस']\n",
      "\n",
      "\n",
      "Input English sentence: why do you gamble\n",
      "Actual Marathi Translation:  तू जुगार का खळतेस \n",
      "Beam Predicted Marathi Translation: तू जुगार का खळतेस\n",
      "Predicted Marathi Translation:  तू जुगार का खेळतोस \n",
      "1.0\n",
      "0.75\n"
     ]
    }
   ],
   "source": [
    "k+=1\n",
    "(input_seq, actual_output), _ = next(train_gen)\n",
    "input_sentence = X_train[k:k+1].values[0]\n",
    "decoded_sentence = decode_sequence(input_seq)[:-4]\n",
    "beam_decoded_sentences = beam_search_decode_sequence(input_seq, n)\n",
    "actual_sentence = y_train[k:k+1].values[0][6:-4]\n",
    "print('Input English sentence:', input_sentence)\n",
    "print('Actual Marathi Translation:', actual_sentence)\n",
    "print('Beam Predicted Marathi Translation:', best_beam(actual_sentence, beam_decoded_sentences))\n",
    "print('Predicted Marathi Translation:', decoded_sentence)\n",
    "\n",
    "beam_score = calculate_bleu_for_beam(actual_sentence, beam_decoded_sentences)\n",
    "score = calculate_bleu(actual_sentence, decoded_sentence)\n",
    "print(beam_score)\n",
    "print(score)"
   ]
  },
  {
   "cell_type": "code",
   "execution_count": 1166,
   "metadata": {},
   "outputs": [
    {
     "name": "stdout",
     "output_type": "stream",
     "text": [
      "Top Sentences\n",
      "['मी साखर विकत घ्यायला विसरलो', 'मी साखर विकत घ्यायला विसरले', 'मी आणायला विकत घ्यायला विसरलो', 'मी साखर विकत घेतला विसरलो', 'मी ऑस्ट्रेलियाला विकत घ्यायला विसरलो', 'मी साखर आणायला घ्यायला विसरलो', 'मी बघायची विकत घ्यायला विसरलो', 'मी साखर शिकलो घ्यायला विसरलो', 'मी तुला विकत घ्यायला विसरलो', 'मी साखर विकत घेतली विसरलो']\n",
      "\n",
      "\n",
      "Input English sentence: i forgot to buy sugar\n",
      "Actual Marathi Translation:  मी साखर विकत घ्यायला विसरलो \n",
      "Beam Predicted Marathi Translation: मी साखर विकत घ्यायला विसरलो\n",
      "Predicted Marathi Translation:  मी साखर विकत घ्यायला विसरलो \n",
      "1.0\n",
      "1.0\n"
     ]
    }
   ],
   "source": [
    "k+=1\n",
    "(input_seq, actual_output), _ = next(train_gen)\n",
    "input_sentence = X_train[k:k+1].values[0]\n",
    "decoded_sentence = decode_sequence(input_seq)[:-4]\n",
    "beam_decoded_sentences = beam_search_decode_sequence(input_seq, n)\n",
    "actual_sentence = y_train[k:k+1].values[0][6:-4]\n",
    "print('Input English sentence:', input_sentence)\n",
    "print('Actual Marathi Translation:', actual_sentence)\n",
    "print('Beam Predicted Marathi Translation:', best_beam(actual_sentence, beam_decoded_sentences))\n",
    "print('Predicted Marathi Translation:', decoded_sentence)\n",
    "\n",
    "beam_score = calculate_bleu_for_beam(actual_sentence, beam_decoded_sentences)\n",
    "score = calculate_bleu(actual_sentence, decoded_sentence)\n",
    "print(beam_score)\n",
    "print(score)"
   ]
  },
  {
   "cell_type": "code",
   "execution_count": 1167,
   "metadata": {},
   "outputs": [
    {
     "name": "stdout",
     "output_type": "stream",
     "text": [
      "Top Sentences\n",
      "['तुझ्या आईची डोकं आहे का', 'तुझं आईची डोकं आहे का', 'तुमचं आईची डोकं आहे का', 'तुझ्या अजूनही डोकं आहे का', 'तुझ्या आईची मत आहे का', 'तुझं अजूनही डोकं आहे का', 'तुझ्या नाकातून डोकं आहे का', 'तुमचं अजूनही डोकं आहे का', 'तुमच्या आईची डोकं आहे का', 'तुझं आईची मत आहे का']\n",
      "\n",
      "\n",
      "Input English sentence: does your head still hurt\n",
      "Actual Marathi Translation:  तुमचं डोकं अजूनही दुखतंय का \n",
      "Beam Predicted Marathi Translation: तुमचं अजूनही डोकं आहे का\n",
      "Predicted Marathi Translation:  तुझ्या आईची डोकं आहे का \n",
      "0.8\n",
      "0.4\n"
     ]
    }
   ],
   "source": [
    "k+=1\n",
    "(input_seq, actual_output), _ = next(train_gen)\n",
    "input_sentence = X_train[k:k+1].values[0]\n",
    "decoded_sentence = decode_sequence(input_seq)[:-4]\n",
    "beam_decoded_sentences = beam_search_decode_sequence(input_seq, n)\n",
    "actual_sentence = y_train[k:k+1].values[0][6:-4]\n",
    "print('Input English sentence:', input_sentence)\n",
    "print('Actual Marathi Translation:', actual_sentence)\n",
    "print('Beam Predicted Marathi Translation:', best_beam(actual_sentence, beam_decoded_sentences))\n",
    "print('Predicted Marathi Translation:', decoded_sentence)\n",
    "\n",
    "beam_score = calculate_bleu_for_beam(actual_sentence, beam_decoded_sentences)\n",
    "score = calculate_bleu(actual_sentence, decoded_sentence)\n",
    "print(beam_score)\n",
    "print(score)"
   ]
  },
  {
   "cell_type": "code",
   "execution_count": 1168,
   "metadata": {},
   "outputs": [
    {
     "name": "stdout",
     "output_type": "stream",
     "text": [
      "Top Sentences\n",
      "['आपण एकत्र प्रवास करत आहोत', 'आम्ही एकत्र प्रवास करत आहोत', 'आपण एकत्र प्रवास केला आहोत', 'आम्ही एकत्र प्रवास केला आहोत', 'एकत्र एकत्र प्रवास करत आहोत', 'आपण एकत्र प्रवास करत होतो', 'आम्ही एकत्र प्रवास करत होतो', 'आपण एकत्र प्रवास करत आहात', 'आम्ही एकत्र प्रवास करत आहात', 'एकत्र एकत्र प्रवास केला आहोत']\n",
      "\n",
      "\n",
      "Input English sentence: were traveling together\n",
      "Actual Marathi Translation:  आम्ही एकत्र प्रवास करत आहोत \n",
      "Beam Predicted Marathi Translation: आम्ही एकत्र प्रवास करत आहोत\n",
      "Predicted Marathi Translation:  आपण एकत्र प्रवास करत आहोत \n",
      "1.0\n",
      "0.8\n"
     ]
    }
   ],
   "source": [
    "k+=1\n",
    "(input_seq, actual_output), _ = next(train_gen)\n",
    "input_sentence = X_train[k:k+1].values[0]\n",
    "decoded_sentence = decode_sequence(input_seq)[:-4]\n",
    "beam_decoded_sentences = beam_search_decode_sequence(input_seq, n)\n",
    "actual_sentence = y_train[k:k+1].values[0][6:-4]\n",
    "print('Input English sentence:', input_sentence)\n",
    "print('Actual Marathi Translation:', actual_sentence)\n",
    "print('Beam Predicted Marathi Translation:', best_beam(actual_sentence, beam_decoded_sentences))\n",
    "print('Predicted Marathi Translation:', decoded_sentence)\n",
    "\n",
    "beam_score = calculate_bleu_for_beam(actual_sentence, beam_decoded_sentences)\n",
    "score = calculate_bleu(actual_sentence, decoded_sentence)\n",
    "print(beam_score)\n",
    "print(score)"
   ]
  },
  {
   "cell_type": "code",
   "execution_count": 1169,
   "metadata": {},
   "outputs": [
    {
     "name": "stdout",
     "output_type": "stream",
     "text": [
      "Top Sentences\n",
      "['स्त्रिया पुरुषांपेक्षा कमी कमी आहेत', 'स्त्रिया पुरुषांपेक्षा कमी कमवतात आहेत', 'स्त्रिया पुरुषांपेक्षा कमी आहेत आहेत', 'स्त्रिया पुरुषांपेक्षा कमी असतात आहेत', 'स्त्रिया स्त्रिया कमी कमी आहेत', 'स्त्रिया पेक्षा कमी कमी आहेत', 'स्त्रिया पुरुषांपेक्षा कमी कमी आहे', 'स्त्रिया पुरुषांपेक्षा कमी खातात आहेत', 'स्त्रिया पुरुषांपेक्षा कमी लोकं आहेत', 'सैनिक पुरुषांपेक्षा कमी कमी आहेत']\n",
      "\n",
      "\n",
      "Input English sentence: women earn less than men\n",
      "Actual Marathi Translation:  स्त्रिया पुरुषांपेक्षा कमी कमवतात \n",
      "Beam Predicted Marathi Translation: स्त्रिया पुरुषांपेक्षा कमी कमवतात आहेत\n",
      "Predicted Marathi Translation:  स्त्रिया पुरुषांपेक्षा कमी कमी आहेत \n",
      "0.8\n",
      "0.6\n"
     ]
    }
   ],
   "source": [
    "k+=1\n",
    "(input_seq, actual_output), _ = next(train_gen)\n",
    "input_sentence = X_train[k:k+1].values[0]\n",
    "decoded_sentence = decode_sequence(input_seq)[:-4]\n",
    "beam_decoded_sentences = beam_search_decode_sequence(input_seq, n)\n",
    "actual_sentence = y_train[k:k+1].values[0][6:-4]\n",
    "print('Input English sentence:', input_sentence)\n",
    "print('Actual Marathi Translation:', actual_sentence)\n",
    "print('Beam Predicted Marathi Translation:', best_beam(actual_sentence, beam_decoded_sentences))\n",
    "print('Predicted Marathi Translation:', decoded_sentence)\n",
    "\n",
    "beam_score = calculate_bleu_for_beam(actual_sentence, beam_decoded_sentences)\n",
    "score = calculate_bleu(actual_sentence, decoded_sentence)\n",
    "print(beam_score)\n",
    "print(score)"
   ]
  },
  {
   "cell_type": "code",
   "execution_count": 1170,
   "metadata": {},
   "outputs": [
    {
     "name": "stdout",
     "output_type": "stream",
     "text": [
      "Top Sentences\n",
      "['हे तुमचं घर आहे का', 'हे तुझं घर आहे का', 'हे घर घर आहे का', 'तुझं तुमचं घर आहे का', 'तुझं तुझं घर आहे का', 'तुझी तुमचं घर आहे का', 'तुमचं तुमचं घर आहे का', 'तुझं घर घर आहे का', 'तुमची तुमचं घर आहे का', 'तुझी तुझं घर आहे का']\n",
      "\n",
      "\n",
      "Input English sentence: is this your house\n",
      "Actual Marathi Translation:  हे तुझं घर आहे का \n",
      "Beam Predicted Marathi Translation: हे तुझं घर आहे का\n",
      "Predicted Marathi Translation:  हे तुमचं घर आहे का \n",
      "1.0\n",
      "0.8\n"
     ]
    }
   ],
   "source": [
    "k+=1\n",
    "(input_seq, actual_output), _ = next(train_gen)\n",
    "input_sentence = X_train[k:k+1].values[0]\n",
    "decoded_sentence = decode_sequence(input_seq)[:-4]\n",
    "beam_decoded_sentences = beam_search_decode_sequence(input_seq, n)\n",
    "actual_sentence = y_train[k:k+1].values[0][6:-4]\n",
    "print('Input English sentence:', input_sentence)\n",
    "print('Actual Marathi Translation:', actual_sentence)\n",
    "print('Beam Predicted Marathi Translation:', best_beam(actual_sentence, beam_decoded_sentences))\n",
    "print('Predicted Marathi Translation:', decoded_sentence)\n",
    "\n",
    "beam_score = calculate_bleu_for_beam(actual_sentence, beam_decoded_sentences)\n",
    "score = calculate_bleu(actual_sentence, decoded_sentence)\n",
    "print(beam_score)\n",
    "print(score)"
   ]
  },
  {
   "cell_type": "code",
   "execution_count": 1171,
   "metadata": {},
   "outputs": [
    {
     "name": "stdout",
     "output_type": "stream",
     "text": [
      "Top Sentences\n",
      "['मी दिवसाचे € कमवते', 'मी दिवसाचे € कमावतो', 'मी दिवसाचे € कमावते', 'मी दिवसाचे € रहायचा', 'मी दिवसाचे € काढायला', 'मी एक € कमवते', 'मी एक € कमावतो', 'मी एक € कमावते', 'मी दिवसाचे € समजला', 'मी दिवसाचे € लिहायचा']\n",
      "\n",
      "\n",
      "Input English sentence: i make € a day\n",
      "Actual Marathi Translation:  मी दिवसाचे € कमावतो \n",
      "Beam Predicted Marathi Translation: मी दिवसाचे € कमावतो\n",
      "Predicted Marathi Translation:  मी दिवसाचे € कमवते \n",
      "1.0\n",
      "0.75\n"
     ]
    }
   ],
   "source": [
    "k+=1\n",
    "(input_seq, actual_output), _ = next(train_gen)\n",
    "input_sentence = X_train[k:k+1].values[0]\n",
    "decoded_sentence = decode_sequence(input_seq)[:-4]\n",
    "beam_decoded_sentences = beam_search_decode_sequence(input_seq, n)\n",
    "actual_sentence = y_train[k:k+1].values[0][6:-4]\n",
    "print('Input English sentence:', input_sentence)\n",
    "print('Actual Marathi Translation:', actual_sentence)\n",
    "print('Beam Predicted Marathi Translation:', best_beam(actual_sentence, beam_decoded_sentences))\n",
    "print('Predicted Marathi Translation:', decoded_sentence)\n",
    "\n",
    "beam_score = calculate_bleu_for_beam(actual_sentence, beam_decoded_sentences)\n",
    "score = calculate_bleu(actual_sentence, decoded_sentence)\n",
    "print(beam_score)\n",
    "print(score)"
   ]
  },
  {
   "cell_type": "code",
   "execution_count": 1172,
   "metadata": {},
   "outputs": [
    {
     "name": "stdout",
     "output_type": "stream",
     "text": [
      "Top Sentences\n",
      "['मी महामार्ग पकडला', 'मी ब्राजिलहून पकडला', 'मी जोखीम पकडला', 'मी ब्राजिलपासून पकडला', 'मी महामार्ग मागवले', 'मी पापींबरोबर पकडला', 'मी ट्विटर पकडला', 'मी महामार्ग _END', 'मी कॅव्हिआर पकडला', 'मी महामार्ग बनवतो']\n",
      "\n",
      "\n",
      "Input English sentence: i took highway\n",
      "Actual Marathi Translation:  मी महामार्ग पकडला \n",
      "Beam Predicted Marathi Translation: मी महामार्ग पकडला\n",
      "Predicted Marathi Translation:  मी महामार्ग पकडला \n",
      "1.0\n",
      "1.0\n"
     ]
    }
   ],
   "source": [
    "k+=1\n",
    "(input_seq, actual_output), _ = next(train_gen)\n",
    "input_sentence = X_train[k:k+1].values[0]\n",
    "decoded_sentence = decode_sequence(input_seq)[:-4]\n",
    "beam_decoded_sentences = beam_search_decode_sequence(input_seq, n)\n",
    "actual_sentence = y_train[k:k+1].values[0][6:-4]\n",
    "print('Input English sentence:', input_sentence)\n",
    "print('Actual Marathi Translation:', actual_sentence)\n",
    "print('Beam Predicted Marathi Translation:', best_beam(actual_sentence, beam_decoded_sentences))\n",
    "print('Predicted Marathi Translation:', decoded_sentence)\n",
    "\n",
    "beam_score = calculate_bleu_for_beam(actual_sentence, beam_decoded_sentences)\n",
    "score = calculate_bleu(actual_sentence, decoded_sentence)\n",
    "print(beam_score)\n",
    "print(score)"
   ]
  },
  {
   "cell_type": "code",
   "execution_count": 1173,
   "metadata": {},
   "outputs": [
    {
     "name": "stdout",
     "output_type": "stream",
     "text": [
      "Top Sentences\n",
      "['मी माझं घड्याळ पाहिलं नाहीये', 'मी माझं घर पाहिलं नाहीये', 'मी अजूनपर्यंत घड्याळ पाहिलं नाहीये', 'मी माझं घड्याळ पाहिलं नाही', 'मी टॉमला घड्याळ पाहिलं नाहीये', 'मी चुकीच्या घड्याळ पाहिलं नाहीये', 'मी माझं मत पाहिलं नाहीये', 'मी माझं कधीही पाहिलं नाहीये', 'मी माझं कधीच पाहिलं नाहीये', 'मी अजूनपर्यंत घर पाहिलं नाहीये']\n",
      "\n",
      "\n",
      "Input English sentence: i wont throw rocks at anybody\n",
      "Actual Marathi Translation:  मी कोणावरही दगड टाकणार नाही \n",
      "Beam Predicted Marathi Translation: मी माझं घड्याळ पाहिलं नाही\n",
      "Predicted Marathi Translation:  मी माझं घड्याळ पाहिलं नाहीये \n",
      "0.4\n",
      "0.2\n"
     ]
    }
   ],
   "source": [
    "k+=1\n",
    "(input_seq, actual_output), _ = next(train_gen)\n",
    "input_sentence = X_train[k:k+1].values[0]\n",
    "decoded_sentence = decode_sequence(input_seq)[:-4]\n",
    "beam_decoded_sentences = beam_search_decode_sequence(input_seq, n)\n",
    "actual_sentence = y_train[k:k+1].values[0][6:-4]\n",
    "print('Input English sentence:', input_sentence)\n",
    "print('Actual Marathi Translation:', actual_sentence)\n",
    "print('Beam Predicted Marathi Translation:', best_beam(actual_sentence, beam_decoded_sentences))\n",
    "print('Predicted Marathi Translation:', decoded_sentence)\n",
    "\n",
    "beam_score = calculate_bleu_for_beam(actual_sentence, beam_decoded_sentences)\n",
    "score = calculate_bleu(actual_sentence, decoded_sentence)\n",
    "print(beam_score)\n",
    "print(score)"
   ]
  },
  {
   "cell_type": "code",
   "execution_count": 1174,
   "metadata": {},
   "outputs": [
    {
     "name": "stdout",
     "output_type": "stream",
     "text": [
      "Top Sentences\n",
      "['हे पुस्तक नवीन आहे', 'हे पुस्तक एक आहे', 'हे पुस्तक काळी आहे', 'हे पुस्तक पुस्तक आहे', 'ते पुस्तक नवीन आहे', 'हे पुस्तक एकदम आहे', 'ही पुस्तक नवीन आहे', 'हा पुस्तक नवीन आहे', 'हे पुस्तक त्या आहे', 'हे पुस्तक बॉस्टन आहे']\n",
      "\n",
      "\n",
      "Input English sentence: this book is very new\n",
      "Actual Marathi Translation:  हे पुस्तक एकदम नवीन आहे \n",
      "Beam Predicted Marathi Translation: हे पुस्तक नवीन आहे\n",
      "Predicted Marathi Translation:  हे पुस्तक नवीन आहे \n",
      "0.7788007830714049\n",
      "0.7788007830714049\n"
     ]
    }
   ],
   "source": [
    "k+=1\n",
    "(input_seq, actual_output), _ = next(train_gen)\n",
    "input_sentence = X_train[k:k+1].values[0]\n",
    "decoded_sentence = decode_sequence(input_seq)[:-4]\n",
    "beam_decoded_sentences = beam_search_decode_sequence(input_seq, n)\n",
    "actual_sentence = y_train[k:k+1].values[0][6:-4]\n",
    "print('Input English sentence:', input_sentence)\n",
    "print('Actual Marathi Translation:', actual_sentence)\n",
    "print('Beam Predicted Marathi Translation:', best_beam(actual_sentence, beam_decoded_sentences))\n",
    "print('Predicted Marathi Translation:', decoded_sentence)\n",
    "\n",
    "beam_score = calculate_bleu_for_beam(actual_sentence, beam_decoded_sentences)\n",
    "score = calculate_bleu(actual_sentence, decoded_sentence)\n",
    "print(beam_score)\n",
    "print(score)"
   ]
  },
  {
   "cell_type": "code",
   "execution_count": 1175,
   "metadata": {},
   "outputs": [
    {
     "name": "stdout",
     "output_type": "stream",
     "text": [
      "Top Sentences\n",
      "['त्याला मला विकशील का', 'त्याला मला केलंस का', 'त्याला मला करता का', 'तिला मला विकशील का', 'त्याला मला विकाल का', 'तिला मला केलंस का', 'त्याला मला सांगाल का', 'त्यांना मला विकशील का', 'त्याला मला म्हणतात का', 'त्यांना मला केलंस का']\n",
      "\n",
      "\n",
      "Input English sentence: tell her that i am coming\n",
      "Actual Marathi Translation:  तिला सांग की मी येतेय \n",
      "Beam Predicted Marathi Translation: तिला मला विकशील का\n",
      "Predicted Marathi Translation:  त्याला मला विकशील का \n",
      "0.19470019576785122\n",
      "0\n"
     ]
    }
   ],
   "source": [
    "k+=1\n",
    "(input_seq, actual_output), _ = next(train_gen)\n",
    "input_sentence = X_train[k:k+1].values[0]\n",
    "decoded_sentence = decode_sequence(input_seq)[:-4]\n",
    "beam_decoded_sentences = beam_search_decode_sequence(input_seq, n)\n",
    "actual_sentence = y_train[k:k+1].values[0][6:-4]\n",
    "print('Input English sentence:', input_sentence)\n",
    "print('Actual Marathi Translation:', actual_sentence)\n",
    "print('Beam Predicted Marathi Translation:', best_beam(actual_sentence, beam_decoded_sentences))\n",
    "print('Predicted Marathi Translation:', decoded_sentence)\n",
    "\n",
    "beam_score = calculate_bleu_for_beam(actual_sentence, beam_decoded_sentences)\n",
    "score = calculate_bleu(actual_sentence, decoded_sentence)\n",
    "print(beam_score)\n",
    "print(score)"
   ]
  },
  {
   "cell_type": "code",
   "execution_count": 1176,
   "metadata": {},
   "outputs": [
    {
     "name": "stdout",
     "output_type": "stream",
     "text": [
      "Top Sentences\n",
      "['तो तुझा बॉयफ्रेंड आहे का', 'ते तुझा बॉयफ्रेंड आहे का', 'तो तुमचा बॉयफ्रेंड आहे का', 'ते तुमचा बॉयफ्रेंड आहे का', 'ती तुझा बॉयफ्रेंड आहे का', 'तो तुमची बॉयफ्रेंड आहे का', 'तो तुझी बॉयफ्रेंड आहे का', 'ती तुमचा बॉयफ्रेंड आहे का', 'ते तुमची बॉयफ्रेंड आहे का', 'त्या तुझा बॉयफ्रेंड आहे का']\n",
      "\n",
      "\n",
      "Input English sentence: is that your boyfriend\n",
      "Actual Marathi Translation:  तो तुझा बॉयफ्रेंड आहे का \n",
      "Beam Predicted Marathi Translation: तो तुझा बॉयफ्रेंड आहे का\n",
      "Predicted Marathi Translation:  तो तुझा बॉयफ्रेंड आहे का \n",
      "1.0\n",
      "1.0\n"
     ]
    }
   ],
   "source": [
    "k+=1\n",
    "(input_seq, actual_output), _ = next(train_gen)\n",
    "input_sentence = X_train[k:k+1].values[0]\n",
    "decoded_sentence = decode_sequence(input_seq)[:-4]\n",
    "beam_decoded_sentences = beam_search_decode_sequence(input_seq, n)\n",
    "actual_sentence = y_train[k:k+1].values[0][6:-4]\n",
    "print('Input English sentence:', input_sentence)\n",
    "print('Actual Marathi Translation:', actual_sentence)\n",
    "print('Beam Predicted Marathi Translation:', best_beam(actual_sentence, beam_decoded_sentences))\n",
    "print('Predicted Marathi Translation:', decoded_sentence)\n",
    "\n",
    "beam_score = calculate_bleu_for_beam(actual_sentence, beam_decoded_sentences)\n",
    "score = calculate_bleu(actual_sentence, decoded_sentence)\n",
    "print(beam_score)\n",
    "print(score)"
   ]
  },
  {
   "cell_type": "code",
   "execution_count": 1177,
   "metadata": {},
   "outputs": [
    {
     "name": "stdout",
     "output_type": "stream",
     "text": [
      "Top Sentences\n",
      "['तू उद्या येऊ शकतोस का', 'तू उद्या येऊ शकतेस का', 'तुम्ही उद्या येऊ शकतोस का', 'तू उद्या येऊ शकता का', 'तुम्ही उद्या येऊ शकतेस का', 'तू उद्या यायला शकतोस का', 'तुम्ही उद्या येऊ शकता का', 'तू उद्या येशील शकतोस का', 'तू उद्या यायला शकतेस का', 'तुम्ही उद्या यायला शकतोस का']\n",
      "\n",
      "\n",
      "Input English sentence: can you come tomorrow\n",
      "Actual Marathi Translation:  तुम्ही उद्या येऊ शकता का \n",
      "Beam Predicted Marathi Translation: तुम्ही उद्या येऊ शकता का\n",
      "Predicted Marathi Translation:  तू उद्या येऊ शकतोस का \n",
      "1.0\n",
      "0.6\n"
     ]
    }
   ],
   "source": [
    "k+=1\n",
    "(input_seq, actual_output), _ = next(train_gen)\n",
    "input_sentence = X_train[k:k+1].values[0]\n",
    "decoded_sentence = decode_sequence(input_seq)[:-4]\n",
    "beam_decoded_sentences = beam_search_decode_sequence(input_seq, n)\n",
    "actual_sentence = y_train[k:k+1].values[0][6:-4]\n",
    "print('Input English sentence:', input_sentence)\n",
    "print('Actual Marathi Translation:', actual_sentence)\n",
    "print('Beam Predicted Marathi Translation:', best_beam(actual_sentence, beam_decoded_sentences))\n",
    "print('Predicted Marathi Translation:', decoded_sentence)\n",
    "\n",
    "beam_score = calculate_bleu_for_beam(actual_sentence, beam_decoded_sentences)\n",
    "score = calculate_bleu(actual_sentence, decoded_sentence)\n",
    "print(beam_score)\n",
    "print(score)"
   ]
  },
  {
   "cell_type": "code",
   "execution_count": 1178,
   "metadata": {},
   "outputs": [
    {
     "name": "stdout",
     "output_type": "stream",
     "text": [
      "Top Sentences\n",
      "['चूक मला सत्य आला आहे', 'चूक मला चावला आला आहे', 'चूक मला राग आला आहे', 'माझ्या मला सत्य आला आहे', 'चूक मला उशीर आला आहे', 'माझ्या मला चावला आला आहे', 'चूक मला यादीतून आला आहे', 'चूक खरी सत्य आला आहे', 'चूक मला सत्य होती आहे', 'चूक मला सत्य गेली आहे']\n",
      "\n",
      "\n",
      "Input English sentence: it was actually my fault\n",
      "Actual Marathi Translation:  खरी तर माझी चूक होती \n",
      "Beam Predicted Marathi Translation: चूक खरी सत्य आला आहे\n",
      "Predicted Marathi Translation:  चूक मला सत्य आला आहे \n",
      "0.4\n",
      "0.2\n"
     ]
    }
   ],
   "source": [
    "k+=1\n",
    "(input_seq, actual_output), _ = next(train_gen)\n",
    "input_sentence = X_train[k:k+1].values[0]\n",
    "decoded_sentence = decode_sequence(input_seq)[:-4]\n",
    "beam_decoded_sentences = beam_search_decode_sequence(input_seq, n)\n",
    "actual_sentence = y_train[k:k+1].values[0][6:-4]\n",
    "print('Input English sentence:', input_sentence)\n",
    "print('Actual Marathi Translation:', actual_sentence)\n",
    "print('Beam Predicted Marathi Translation:', best_beam(actual_sentence, beam_decoded_sentences))\n",
    "print('Predicted Marathi Translation:', decoded_sentence)\n",
    "\n",
    "beam_score = calculate_bleu_for_beam(actual_sentence, beam_decoded_sentences)\n",
    "score = calculate_bleu(actual_sentence, decoded_sentence)\n",
    "print(beam_score)\n",
    "print(score)"
   ]
  },
  {
   "cell_type": "code",
   "execution_count": 1179,
   "metadata": {},
   "outputs": [
    {
     "name": "stdout",
     "output_type": "stream",
     "text": [
      "Top Sentences\n",
      "['तिने जेवण फोन केला', 'तिने जेवण फोन पाठलाग', 'तिने मी फोन केला', 'तिने जेवण फोन केलास', 'तिने जेवण मी केला', 'तिने माझं फोन केला', 'तिने जेवण पुस्तक केला', 'तिने मी फोन पाठलाग', 'तिने ते फोन केला', 'तिने मी फोन केलास']\n",
      "\n",
      "\n",
      "Input English sentence: she cooked the dinner herself\n",
      "Actual Marathi Translation:  तिने ते जेवण स्वतःच शिजवलं \n",
      "Beam Predicted Marathi Translation: तिने जेवण फोन केला\n",
      "Predicted Marathi Translation:  तिने जेवण फोन केला \n",
      "0.38940039153570244\n",
      "0.38940039153570244\n"
     ]
    }
   ],
   "source": [
    "k+=1\n",
    "(input_seq, actual_output), _ = next(train_gen)\n",
    "input_sentence = X_train[k:k+1].values[0]\n",
    "decoded_sentence = decode_sequence(input_seq)[:-4]\n",
    "beam_decoded_sentences = beam_search_decode_sequence(input_seq, n)\n",
    "actual_sentence = y_train[k:k+1].values[0][6:-4]\n",
    "print('Input English sentence:', input_sentence)\n",
    "print('Actual Marathi Translation:', actual_sentence)\n",
    "print('Beam Predicted Marathi Translation:', best_beam(actual_sentence, beam_decoded_sentences))\n",
    "print('Predicted Marathi Translation:', decoded_sentence)\n",
    "\n",
    "beam_score = calculate_bleu_for_beam(actual_sentence, beam_decoded_sentences)\n",
    "score = calculate_bleu(actual_sentence, decoded_sentence)\n",
    "print(beam_score)\n",
    "print(score)"
   ]
  },
  {
   "cell_type": "code",
   "execution_count": 1180,
   "metadata": {},
   "outputs": [
    {
     "name": "stdout",
     "output_type": "stream",
     "text": [
      "Top Sentences\n",
      "['ते सर्व गरम आहे', 'ते तुझ्यावर गरम आहे', 'ते ठीक गरम आहे', 'तेवढंच सर्व गरम आहे', 'ते तुमच्यावर गरम आहे', 'तेवढंच तुझ्यावर गरम आहे', 'त्या सर्व गरम आहे', 'त्या तुझ्यावर गरम आहे', 'ते सगळी गरम आहे', 'तेवढंच ठीक गरम आहे']\n",
      "\n",
      "\n",
      "Input English sentence: its all up to you\n",
      "Actual Marathi Translation:  सगळं तुझ्यावर आहे \n",
      "Beam Predicted Marathi Translation: ते तुझ्यावर गरम आहे\n",
      "Predicted Marathi Translation:  ते सर्व गरम आहे \n",
      "0.5\n",
      "0.25\n"
     ]
    }
   ],
   "source": [
    "k+=1\n",
    "(input_seq, actual_output), _ = next(train_gen)\n",
    "input_sentence = X_train[k:k+1].values[0]\n",
    "decoded_sentence = decode_sequence(input_seq)[:-4]\n",
    "beam_decoded_sentences = beam_search_decode_sequence(input_seq, n)\n",
    "actual_sentence = y_train[k:k+1].values[0][6:-4]\n",
    "print('Input English sentence:', input_sentence)\n",
    "print('Actual Marathi Translation:', actual_sentence)\n",
    "print('Beam Predicted Marathi Translation:', best_beam(actual_sentence, beam_decoded_sentences))\n",
    "print('Predicted Marathi Translation:', decoded_sentence)\n",
    "\n",
    "beam_score = calculate_bleu_for_beam(actual_sentence, beam_decoded_sentences)\n",
    "score = calculate_bleu(actual_sentence, decoded_sentence)\n",
    "print(beam_score)\n",
    "print(score)"
   ]
  },
  {
   "cell_type": "code",
   "execution_count": 1181,
   "metadata": {},
   "outputs": [
    {
     "name": "stdout",
     "output_type": "stream",
     "text": [
      "Top Sentences\n",
      "['तू हा स्वेटर घालून बघू', 'तुम्ही हा स्वेटर घालून बघू', 'तू हा ड्रेस घालून बघू', 'तुम्ही हा ड्रेस घालून बघू', 'तू हा स्वेटर वापर बघू', 'तू हा फोटो घालून बघू', 'हा हा स्वेटर घालून बघू', 'तू हे स्वेटर घालून बघू', 'तू हा स्वेटर कमी बघू', 'तुम्ही हा स्वेटर वापर बघू']\n",
      "\n",
      "\n",
      "Input English sentence: you look better in this dress\n",
      "Actual Marathi Translation:  तू या ड्रेसमध्ये जास्त चांगली दिसतेस \n",
      "Beam Predicted Marathi Translation: तू हा स्वेटर घालून बघू\n",
      "Predicted Marathi Translation:  तू हा स्वेटर घालून बघू \n",
      "0.1637461506155964\n",
      "0.1637461506155964\n"
     ]
    }
   ],
   "source": [
    "k+=1\n",
    "(input_seq, actual_output), _ = next(train_gen)\n",
    "input_sentence = X_train[k:k+1].values[0]\n",
    "decoded_sentence = decode_sequence(input_seq)[:-4]\n",
    "beam_decoded_sentences = beam_search_decode_sequence(input_seq, n)\n",
    "actual_sentence = y_train[k:k+1].values[0][6:-4]\n",
    "print('Input English sentence:', input_sentence)\n",
    "print('Actual Marathi Translation:', actual_sentence)\n",
    "print('Beam Predicted Marathi Translation:', best_beam(actual_sentence, beam_decoded_sentences))\n",
    "print('Predicted Marathi Translation:', decoded_sentence)\n",
    "\n",
    "beam_score = calculate_bleu_for_beam(actual_sentence, beam_decoded_sentences)\n",
    "score = calculate_bleu(actual_sentence, decoded_sentence)\n",
    "print(beam_score)\n",
    "print(score)"
   ]
  },
  {
   "cell_type": "code",
   "execution_count": 1182,
   "metadata": {},
   "outputs": [
    {
     "name": "stdout",
     "output_type": "stream",
     "text": [
      "Top Sentences\n",
      "['तो चंद्रावर उतरणारा पहिला माणूस होता', 'तो ब्रिटिश उतरणारा पहिला माणूस होता', 'तो जपानमध्ये उतरणारा पहिला माणूस होता', 'तो भारतापासून उतरणारा पहिला माणूस होता', 'तो त्याचा उतरणारा पहिला माणूस होता', 'तो जपानला उतरणारा पहिला माणूस होता', 'तो चंद्रावर उतरणारा पहिला म्हणतात होता', 'तो अमेरिकन उतरणारा पहिला माणूस होता', 'तो सगळ्यात उतरणारा पहिला माणूस होता', 'तो चंद्रावर उतरणारा सर्वात माणूस होता']\n",
      "\n",
      "\n",
      "Input English sentence: he was the first man to land on the moon\n",
      "Actual Marathi Translation:  तो चंद्रावर उतरणारा पहिला माणूस होता \n",
      "Beam Predicted Marathi Translation: तो चंद्रावर उतरणारा पहिला माणूस होता\n",
      "Predicted Marathi Translation:  तो चंद्रावर उतरणारा पहिला माणूस होता \n",
      "1.0\n",
      "1.0\n"
     ]
    }
   ],
   "source": [
    "k+=1\n",
    "(input_seq, actual_output), _ = next(train_gen)\n",
    "input_sentence = X_train[k:k+1].values[0]\n",
    "decoded_sentence = decode_sequence(input_seq)[:-4]\n",
    "beam_decoded_sentences = beam_search_decode_sequence(input_seq, n)\n",
    "actual_sentence = y_train[k:k+1].values[0][6:-4]\n",
    "print('Input English sentence:', input_sentence)\n",
    "print('Actual Marathi Translation:', actual_sentence)\n",
    "print('Beam Predicted Marathi Translation:', best_beam(actual_sentence, beam_decoded_sentences))\n",
    "print('Predicted Marathi Translation:', decoded_sentence)\n",
    "\n",
    "beam_score = calculate_bleu_for_beam(actual_sentence, beam_decoded_sentences)\n",
    "score = calculate_bleu(actual_sentence, decoded_sentence)\n",
    "print(beam_score)\n",
    "print(score)"
   ]
  },
  {
   "cell_type": "code",
   "execution_count": 1183,
   "metadata": {},
   "outputs": [
    {
     "name": "stdout",
     "output_type": "stream",
     "text": [
      "Top Sentences\n",
      "['तिने कादंबर्\\u200dया लिहितो', 'तिने कादंबर्\\u200dया कादंबर्\\u200dया', 'तिने वर्षांमध्ये लिहितो', 'तिने कादंबर्\\u200dया लिहिल्या', 'तिने कादंबर्\\u200dया लिहितात', 'तिने त्या लिहितो', 'तिने ती लिहितो', 'तिने वर्षांमध्ये कादंबर्\\u200dया', 'तिने त्या कादंबर्\\u200dया', 'तिने वर्षांमध्ये लिहिल्या']\n",
      "\n",
      "\n",
      "Input English sentence: she wrote novels in years\n",
      "Actual Marathi Translation:  तिने वर्षांमध्ये कादंबर्‍या लिहिल्या \n",
      "Beam Predicted Marathi Translation: तिने कादंबर्‍या लिहिल्या\n",
      "Predicted Marathi Translation:  तिने कादंबर्‍या लिहितो \n",
      "0.7165313105737893\n",
      "0.47768754038252614\n"
     ]
    }
   ],
   "source": [
    "k+=1\n",
    "(input_seq, actual_output), _ = next(train_gen)\n",
    "input_sentence = X_train[k:k+1].values[0]\n",
    "decoded_sentence = decode_sequence(input_seq)[:-4]\n",
    "beam_decoded_sentences = beam_search_decode_sequence(input_seq, n)\n",
    "actual_sentence = y_train[k:k+1].values[0][6:-4]\n",
    "print('Input English sentence:', input_sentence)\n",
    "print('Actual Marathi Translation:', actual_sentence)\n",
    "print('Beam Predicted Marathi Translation:', best_beam(actual_sentence, beam_decoded_sentences))\n",
    "print('Predicted Marathi Translation:', decoded_sentence)\n",
    "\n",
    "beam_score = calculate_bleu_for_beam(actual_sentence, beam_decoded_sentences)\n",
    "score = calculate_bleu(actual_sentence, decoded_sentence)\n",
    "print(beam_score)\n",
    "print(score)"
   ]
  },
  {
   "cell_type": "code",
   "execution_count": 1184,
   "metadata": {},
   "outputs": [
    {
     "name": "stdout",
     "output_type": "stream",
     "text": [
      "Top Sentences\n",
      "['तू कधी कॅनडाला गेला आहेस का', 'तुम्ही कधी कॅनडाला गेला आहेस का', 'तू कधी कॅनडाला गेले आहेस का', 'तुम्ही कधी कॅनडाला गेले आहेस का', 'तू कधी कॅनडाला झाला आहेस का', 'तुम्ही कधी कॅनडाला झाला आहेस का', 'तू कधी कॅनडाला गेली आहेस का', 'तुम्ही कधी कॅनडाला गेली आहेस का', 'तू कधी कॅनडाला झालेला आहेस का', 'कधी कधी कॅनडाला गेला आहेस का']\n",
      "\n",
      "\n",
      "Input English sentence: have you ever been to canada\n",
      "Actual Marathi Translation:  तू कधी कॅनडाला गेला आहेस का \n",
      "Beam Predicted Marathi Translation: तू कधी कॅनडाला गेला आहेस का\n",
      "Predicted Marathi Translation:  तू कधी कॅनडाला गेला आहेस का \n",
      "1.0\n",
      "1.0\n"
     ]
    }
   ],
   "source": [
    "k+=1\n",
    "(input_seq, actual_output), _ = next(train_gen)\n",
    "input_sentence = X_train[k:k+1].values[0]\n",
    "decoded_sentence = decode_sequence(input_seq)[:-4]\n",
    "beam_decoded_sentences = beam_search_decode_sequence(input_seq, n)\n",
    "actual_sentence = y_train[k:k+1].values[0][6:-4]\n",
    "print('Input English sentence:', input_sentence)\n",
    "print('Actual Marathi Translation:', actual_sentence)\n",
    "print('Beam Predicted Marathi Translation:', best_beam(actual_sentence, beam_decoded_sentences))\n",
    "print('Predicted Marathi Translation:', decoded_sentence)\n",
    "\n",
    "beam_score = calculate_bleu_for_beam(actual_sentence, beam_decoded_sentences)\n",
    "score = calculate_bleu(actual_sentence, decoded_sentence)\n",
    "print(beam_score)\n",
    "print(score)"
   ]
  },
  {
   "cell_type": "code",
   "execution_count": 1185,
   "metadata": {},
   "outputs": [
    {
     "name": "stdout",
     "output_type": "stream",
     "text": [
      "Top Sentences\n",
      "['मी काल रेडिओ दुरुस्त करत असताना तर वाचलं पण मी एक', 'मी काल रेडिओ एकटाच करत असताना तर वाचलं पण मी एक', 'मी काल रेडिओ करून करत असताना तर वाचलं पण मी एक', 'मी काल रेडिओ दुरुस्त करत असताना तर वाचलं पण ते एक', 'मी काल रेडिओ विकत करत असताना तर वाचलं पण मी एक', 'मी काल रेडिओ दुरुस्त करत असताना तर वाचलं पण तो एक', 'मी काल रेडिओ दुरुस्त करत असताना तर वाचलं पण मी त्यांना', 'मी काल रेडिओ एकटाच करत असताना तर वाचलं पण ते एक', 'मी काल रेडिओ एकटाच करत असताना तर वाचलं पण तो एक', 'मी काल रेडिओ दुरुस्त करत असताना तर वाचलं पण मी तो']\n",
      "\n",
      "\n",
      "Input English sentence: i spent two hours yesterday trying to fix that broken radio\n",
      "Actual Marathi Translation:  तो बिघडलेला रेडिओ ठीक करण्यात मी काल दोन तास घालवले \n",
      "Beam Predicted Marathi Translation: मी काल रेडिओ दुरुस्त करत असताना तर वाचलं पण तो एक\n",
      "Predicted Marathi Translation:  मी काल रेडिओ दुरुस्त करत असताना तर वाचलं पण मी एक पु\n",
      "0.36363636363636365\n",
      "0.25\n"
     ]
    }
   ],
   "source": [
    "k+=1\n",
    "(input_seq, actual_output), _ = next(train_gen)\n",
    "input_sentence = X_train[k:k+1].values[0]\n",
    "decoded_sentence = decode_sequence(input_seq)[:-4]\n",
    "beam_decoded_sentences = beam_search_decode_sequence(input_seq, n)\n",
    "actual_sentence = y_train[k:k+1].values[0][6:-4]\n",
    "print('Input English sentence:', input_sentence)\n",
    "print('Actual Marathi Translation:', actual_sentence)\n",
    "print('Beam Predicted Marathi Translation:', best_beam(actual_sentence, beam_decoded_sentences))\n",
    "print('Predicted Marathi Translation:', decoded_sentence)\n",
    "\n",
    "beam_score = calculate_bleu_for_beam(actual_sentence, beam_decoded_sentences)\n",
    "score = calculate_bleu(actual_sentence, decoded_sentence)\n",
    "print(beam_score)\n",
    "print(score)"
   ]
  },
  {
   "cell_type": "code",
   "execution_count": 1186,
   "metadata": {},
   "outputs": [
    {
     "name": "stdout",
     "output_type": "stream",
     "text": [
      "Top Sentences\n",
      "['आम्ही काय भेटलो आहोत', 'आम्ही कुठे भेटलो आहोत', 'आपण काय भेटलो आहोत', 'आम्ही काय भेटलो _END', 'आपण कुठे भेटलो आहोत', 'आम्ही कुठे भेटलो _END', 'आपण काय भेटलो _END', 'आम्ही काय कुठे आहोत', 'आपण कुठे भेटलो _END', 'आम्ही काय वाचवलं आहोत']\n",
      "\n",
      "\n",
      "Input English sentence: where will we meet\n",
      "Actual Marathi Translation:  आपण कुठे भेटू \n",
      "Beam Predicted Marathi Translation: आपण कुठे भेटलो आहोत\n",
      "Predicted Marathi Translation:  आम्ही काय भेटलो आहोत \n",
      "0.5\n",
      "0\n"
     ]
    }
   ],
   "source": [
    "k+=1\n",
    "(input_seq, actual_output), _ = next(train_gen)\n",
    "input_sentence = X_train[k:k+1].values[0]\n",
    "decoded_sentence = decode_sequence(input_seq)[:-4]\n",
    "beam_decoded_sentences = beam_search_decode_sequence(input_seq, n)\n",
    "actual_sentence = y_train[k:k+1].values[0][6:-4]\n",
    "print('Input English sentence:', input_sentence)\n",
    "print('Actual Marathi Translation:', actual_sentence)\n",
    "print('Beam Predicted Marathi Translation:', best_beam(actual_sentence, beam_decoded_sentences))\n",
    "print('Predicted Marathi Translation:', decoded_sentence)\n",
    "\n",
    "beam_score = calculate_bleu_for_beam(actual_sentence, beam_decoded_sentences)\n",
    "score = calculate_bleu(actual_sentence, decoded_sentence)\n",
    "print(beam_score)\n",
    "print(score)"
   ]
  },
  {
   "cell_type": "code",
   "execution_count": 1187,
   "metadata": {},
   "outputs": [
    {
     "name": "stdout",
     "output_type": "stream",
     "text": [
      "Top Sentences\n",
      "['ती जे गोष्ट काय शिकवू शकत नाही', 'ती जे गोष्ट जे शिकवू शकत नाही', 'ते जे गोष्ट काय शिकवू शकत नाही', 'ती जे गोष्ट तेच शिकवू शकत नाही', 'त्या जे गोष्ट काय शिकवू शकत नाही', 'त्यांना जे गोष्ट काय शिकवू शकत नाही', 'ती जे गोष्ट काय शिकवू शकतो नाही', 'ते जे गोष्ट जे शिकवू शकत नाही', 'ते जे गोष्ट तेच शिकवू शकत नाही', 'त्या जे गोष्ट जे शिकवू शकत नाही']\n",
      "\n",
      "\n",
      "Input English sentence: i cant understand what she says\n",
      "Actual Marathi Translation:  ती काय म्हणते मला समजत नाही \n",
      "Beam Predicted Marathi Translation: ती जे गोष्ट काय शिकवू शकत नाही\n",
      "Predicted Marathi Translation:  ती जे गोष्ट काय शिकवू शकत नाही \n",
      "0.42857142857142855\n",
      "0.42857142857142855\n"
     ]
    }
   ],
   "source": [
    "k+=1\n",
    "(input_seq, actual_output), _ = next(train_gen)\n",
    "input_sentence = X_train[k:k+1].values[0]\n",
    "decoded_sentence = decode_sequence(input_seq)[:-4]\n",
    "beam_decoded_sentences = beam_search_decode_sequence(input_seq, n)\n",
    "actual_sentence = y_train[k:k+1].values[0][6:-4]\n",
    "print('Input English sentence:', input_sentence)\n",
    "print('Actual Marathi Translation:', actual_sentence)\n",
    "print('Beam Predicted Marathi Translation:', best_beam(actual_sentence, beam_decoded_sentences))\n",
    "print('Predicted Marathi Translation:', decoded_sentence)\n",
    "\n",
    "beam_score = calculate_bleu_for_beam(actual_sentence, beam_decoded_sentences)\n",
    "score = calculate_bleu(actual_sentence, decoded_sentence)\n",
    "print(beam_score)\n",
    "print(score)"
   ]
  },
  {
   "cell_type": "code",
   "execution_count": 1188,
   "metadata": {},
   "outputs": [
    {
     "name": "stdout",
     "output_type": "stream",
     "text": [
      "Top Sentences\n",
      "['मला काहीही खायचं नाहीये', 'मला काहीही खायला नाहीये', 'मला काहीही नको नाहीये', 'मला काहीही विसरायचं नाहीये', 'मला काहीही द्यायचं नाहीये', 'मला काहीही खायचं नाही', 'मला काहीही खायला नाही', 'मला काहीही ऐकायचं नाहीये', 'मला काहीही आठवत नाहीये', 'मला काहीही खाल्लं नाहीये']\n",
      "\n",
      "\n",
      "Input English sentence: i dont want to forget anything\n",
      "Actual Marathi Translation:  मला काहीही विसरायचं नाहीये \n",
      "Beam Predicted Marathi Translation: मला काहीही विसरायचं नाहीये\n",
      "Predicted Marathi Translation:  मला काहीही खायचं नाहीये \n",
      "1.0\n",
      "0.75\n"
     ]
    }
   ],
   "source": [
    "k+=1\n",
    "(input_seq, actual_output), _ = next(train_gen)\n",
    "input_sentence = X_train[k:k+1].values[0]\n",
    "decoded_sentence = decode_sequence(input_seq)[:-4]\n",
    "beam_decoded_sentences = beam_search_decode_sequence(input_seq, n)\n",
    "actual_sentence = y_train[k:k+1].values[0][6:-4]\n",
    "print('Input English sentence:', input_sentence)\n",
    "print('Actual Marathi Translation:', actual_sentence)\n",
    "print('Beam Predicted Marathi Translation:', best_beam(actual_sentence, beam_decoded_sentences))\n",
    "print('Predicted Marathi Translation:', decoded_sentence)\n",
    "\n",
    "beam_score = calculate_bleu_for_beam(actual_sentence, beam_decoded_sentences)\n",
    "score = calculate_bleu(actual_sentence, decoded_sentence)\n",
    "print(beam_score)\n",
    "print(score)"
   ]
  },
  {
   "cell_type": "code",
   "execution_count": 1189,
   "metadata": {},
   "outputs": [
    {
     "name": "stdout",
     "output_type": "stream",
     "text": [
      "Top Sentences\n",
      "['बॉस्टनमध्ये इथे', 'बॉस्टनमध्ये पाऊस', 'बॉस्टनमध्ये या', 'बॉस्टनमध्ये सुमारे', 'बॉस्टनमध्ये इथे', 'बॉस्टनमध्ये मुख्य', 'बॉस्टनमध्ये पार्टी', 'बॉस्टनमध्ये आपली', 'बॉस्टनमध्ये कुठेय', 'बॉस्टनमध्ये इथे']\n",
      "\n",
      "\n",
      "Input English sentence: welcome to boston\n",
      "Actual Marathi Translation:  बॉस्टनमध्ये तुमचे स्वागत आहे \n",
      "Beam Predicted Marathi Translation: बॉस्टनमध्ये इथे\n",
      "Predicted Marathi Translation:  बॉस्टनमध्ये इथे \n",
      "0.18393972058572117\n",
      "0.18393972058572117\n"
     ]
    }
   ],
   "source": [
    "k+=1\n",
    "(input_seq, actual_output), _ = next(train_gen)\n",
    "input_sentence = X_train[k:k+1].values[0]\n",
    "decoded_sentence = decode_sequence(input_seq)[:-4]\n",
    "beam_decoded_sentences = beam_search_decode_sequence(input_seq, n)\n",
    "actual_sentence = y_train[k:k+1].values[0][6:-4]\n",
    "print('Input English sentence:', input_sentence)\n",
    "print('Actual Marathi Translation:', actual_sentence)\n",
    "print('Beam Predicted Marathi Translation:', best_beam(actual_sentence, beam_decoded_sentences))\n",
    "print('Predicted Marathi Translation:', decoded_sentence)\n",
    "\n",
    "beam_score = calculate_bleu_for_beam(actual_sentence, beam_decoded_sentences)\n",
    "score = calculate_bleu(actual_sentence, decoded_sentence)\n",
    "print(beam_score)\n",
    "print(score)"
   ]
  },
  {
   "cell_type": "code",
   "execution_count": 1190,
   "metadata": {},
   "outputs": [
    {
     "name": "stdout",
     "output_type": "stream",
     "text": [
      "Top Sentences\n",
      "['मी तुझ्याशी खोटं बोललो', 'मी तुझ्याशी खोटं बोलले', 'मी तुमच्याशी खोटं बोललो', 'मी तुमच्याशी खोटं बोलले', 'मी तुझ्याशी खोटं बोलला', 'मी तुमच्याशी खोटं बोलला', 'मी तुझ्याशी बोललो बोललो', 'मी तुझ्याशी बोललो बोलले', 'मी तुमच्याशी बोललो बोललो', 'मी तुमच्याशी बोललो बोलले']\n",
      "\n",
      "\n",
      "Input English sentence: i lied to you\n",
      "Actual Marathi Translation:  मी तुमच्याशी खोटं बोलले \n",
      "Beam Predicted Marathi Translation: मी तुमच्याशी खोटं बोलले\n",
      "Predicted Marathi Translation:  मी तुझ्याशी खोटं बोललो \n",
      "1.0\n",
      "0.5\n"
     ]
    }
   ],
   "source": [
    "k+=1\n",
    "(input_seq, actual_output), _ = next(train_gen)\n",
    "input_sentence = X_train[k:k+1].values[0]\n",
    "decoded_sentence = decode_sequence(input_seq)[:-4]\n",
    "beam_decoded_sentences = beam_search_decode_sequence(input_seq, n)\n",
    "actual_sentence = y_train[k:k+1].values[0][6:-4]\n",
    "print('Input English sentence:', input_sentence)\n",
    "print('Actual Marathi Translation:', actual_sentence)\n",
    "print('Beam Predicted Marathi Translation:', best_beam(actual_sentence, beam_decoded_sentences))\n",
    "print('Predicted Marathi Translation:', decoded_sentence)\n",
    "\n",
    "beam_score = calculate_bleu_for_beam(actual_sentence, beam_decoded_sentences)\n",
    "score = calculate_bleu(actual_sentence, decoded_sentence)\n",
    "print(beam_score)\n",
    "print(score)"
   ]
  },
  {
   "cell_type": "code",
   "execution_count": 1191,
   "metadata": {},
   "outputs": [
    {
     "name": "stdout",
     "output_type": "stream",
     "text": [
      "Top Sentences\n",
      "['मी सँडविच खाते', 'मी सँडविच खात', 'मी एक खाते', 'मी एक खात', 'मी सँडविच खातोय', 'मी सँडविच खाल्लं', 'मी एक खातोय', 'मी सँडविच खायला', 'मी एक खाल्लं', 'मी सँडविच खाल्ला']\n",
      "\n",
      "\n",
      "Input English sentence: i was eating a sandwich\n",
      "Actual Marathi Translation:  मी सँडविच खात होते \n",
      "Beam Predicted Marathi Translation: मी सँडविच खात\n",
      "Predicted Marathi Translation:  मी सँडविच खाते \n",
      "0.7165313105737893\n",
      "0.47768754038252614\n"
     ]
    }
   ],
   "source": [
    "k+=1\n",
    "(input_seq, actual_output), _ = next(train_gen)\n",
    "input_sentence = X_train[k:k+1].values[0]\n",
    "decoded_sentence = decode_sequence(input_seq)[:-4]\n",
    "beam_decoded_sentences = beam_search_decode_sequence(input_seq, n)\n",
    "actual_sentence = y_train[k:k+1].values[0][6:-4]\n",
    "print('Input English sentence:', input_sentence)\n",
    "print('Actual Marathi Translation:', actual_sentence)\n",
    "print('Beam Predicted Marathi Translation:', best_beam(actual_sentence, beam_decoded_sentences))\n",
    "print('Predicted Marathi Translation:', decoded_sentence)\n",
    "\n",
    "beam_score = calculate_bleu_for_beam(actual_sentence, beam_decoded_sentences)\n",
    "score = calculate_bleu(actual_sentence, decoded_sentence)\n",
    "print(beam_score)\n",
    "print(score)"
   ]
  },
  {
   "cell_type": "code",
   "execution_count": 1192,
   "metadata": {},
   "outputs": [
    {
     "name": "stdout",
     "output_type": "stream",
     "text": [
      "Top Sentences\n",
      "['हे या टॉमचं पाकीट का', 'हे माझं टॉमचं पाकीट का', 'ही या टॉमचं पाकीट का', 'ही माझं टॉमचं पाकीट का', 'हे या टॉमचं पाकीट विचारा', 'हे या टॉमचं उत्तर का', 'हे माझं टॉमचं पाकीट विचारा', 'हे माझं टॉमचं उत्तर का', 'हे टॉमचं टॉमचं पाकीट का', 'ही या टॉमचं पाकीट विचारा']\n",
      "\n",
      "\n",
      "Input English sentence: is this real silver\n",
      "Actual Marathi Translation:  ही खरी चांदी आहे का \n",
      "Beam Predicted Marathi Translation: ही या टॉमचं पाकीट का\n",
      "Predicted Marathi Translation:  हे या टॉमचं पाकीट का \n",
      "0.4\n",
      "0.2\n"
     ]
    }
   ],
   "source": [
    "k+=1\n",
    "(input_seq, actual_output), _ = next(train_gen)\n",
    "input_sentence = X_train[k:k+1].values[0]\n",
    "decoded_sentence = decode_sequence(input_seq)[:-4]\n",
    "beam_decoded_sentences = beam_search_decode_sequence(input_seq, n)\n",
    "actual_sentence = y_train[k:k+1].values[0][6:-4]\n",
    "print('Input English sentence:', input_sentence)\n",
    "print('Actual Marathi Translation:', actual_sentence)\n",
    "print('Beam Predicted Marathi Translation:', best_beam(actual_sentence, beam_decoded_sentences))\n",
    "print('Predicted Marathi Translation:', decoded_sentence)\n",
    "\n",
    "beam_score = calculate_bleu_for_beam(actual_sentence, beam_decoded_sentences)\n",
    "score = calculate_bleu(actual_sentence, decoded_sentence)\n",
    "print(beam_score)\n",
    "print(score)"
   ]
  },
  {
   "cell_type": "code",
   "execution_count": 1193,
   "metadata": {},
   "outputs": [
    {
     "name": "stdout",
     "output_type": "stream",
     "text": [
      "Top Sentences\n",
      "['तू दोघं काय करत आहेस', 'तुम्ही दोघं काय करत आहेस', 'तू दोघी काय करत आहेस', 'तुम्ही दोघी काय करत आहेस', 'तू दोघं काय करत आहात', 'तू किती काय करत आहेस', 'तू दोघं किती करत आहेस', 'तुम्ही दोघं काय करत आहात', 'तुम्ही किती काय करत आहेस', 'तू दोघी काय करत आहात']\n",
      "\n",
      "\n",
      "Input English sentence: what are you two doing\n",
      "Actual Marathi Translation:  तुम्ही दोघं काय करत आहात \n",
      "Beam Predicted Marathi Translation: तुम्ही दोघं काय करत आहात\n",
      "Predicted Marathi Translation:  तू दोघं काय करत आहेस \n",
      "1.0\n",
      "0.6\n"
     ]
    }
   ],
   "source": [
    "k+=1\n",
    "(input_seq, actual_output), _ = next(train_gen)\n",
    "input_sentence = X_train[k:k+1].values[0]\n",
    "decoded_sentence = decode_sequence(input_seq)[:-4]\n",
    "beam_decoded_sentences = beam_search_decode_sequence(input_seq, n)\n",
    "actual_sentence = y_train[k:k+1].values[0][6:-4]\n",
    "print('Input English sentence:', input_sentence)\n",
    "print('Actual Marathi Translation:', actual_sentence)\n",
    "print('Beam Predicted Marathi Translation:', best_beam(actual_sentence, beam_decoded_sentences))\n",
    "print('Predicted Marathi Translation:', decoded_sentence)\n",
    "\n",
    "beam_score = calculate_bleu_for_beam(actual_sentence, beam_decoded_sentences)\n",
    "score = calculate_bleu(actual_sentence, decoded_sentence)\n",
    "print(beam_score)\n",
    "print(score)"
   ]
  },
  {
   "cell_type": "code",
   "execution_count": 1194,
   "metadata": {},
   "outputs": [
    {
     "name": "stdout",
     "output_type": "stream",
     "text": [
      "Top Sentences\n",
      "['कश्याचीही काळजी करू नकोस', 'कसलीही काळजी करू नकोस', 'कश्याचीही काळजी करू नका', 'कश्याचीही काळजी करू शकत', 'काळजी काळजी करू नकोस', 'कसलीही काळजी करू नका', 'तुम्हाला काळजी करू नकोस', 'कसलीही काळजी करू शकत', 'तुला काळजी करू नकोस', 'काळजी काळजी करू नका']\n",
      "\n",
      "\n",
      "Input English sentence: dont you worry about a thing\n",
      "Actual Marathi Translation:  कसलीही काळजी करू नकोस \n",
      "Beam Predicted Marathi Translation: कसलीही काळजी करू नकोस\n",
      "Predicted Marathi Translation:  कश्याचीही काळजी करू नकोस \n",
      "1.0\n",
      "0.75\n"
     ]
    }
   ],
   "source": [
    "k+=1\n",
    "(input_seq, actual_output), _ = next(train_gen)\n",
    "input_sentence = X_train[k:k+1].values[0]\n",
    "decoded_sentence = decode_sequence(input_seq)[:-4]\n",
    "beam_decoded_sentences = beam_search_decode_sequence(input_seq, n)\n",
    "actual_sentence = y_train[k:k+1].values[0][6:-4]\n",
    "print('Input English sentence:', input_sentence)\n",
    "print('Actual Marathi Translation:', actual_sentence)\n",
    "print('Beam Predicted Marathi Translation:', best_beam(actual_sentence, beam_decoded_sentences))\n",
    "print('Predicted Marathi Translation:', decoded_sentence)\n",
    "\n",
    "beam_score = calculate_bleu_for_beam(actual_sentence, beam_decoded_sentences)\n",
    "score = calculate_bleu(actual_sentence, decoded_sentence)\n",
    "print(beam_score)\n",
    "print(score)"
   ]
  },
  {
   "cell_type": "markdown",
   "metadata": {},
   "source": [
    "## Test Dataset Evaluation"
   ]
  },
  {
   "cell_type": "code",
   "execution_count": 1195,
   "metadata": {},
   "outputs": [],
   "source": [
    "val_gen = generate_batch(X_test, y_test, batch_size = 1)\n",
    "k=-1"
   ]
  },
  {
   "cell_type": "markdown",
   "metadata": {},
   "source": [
    "### Test Experiments\n",
    "Run the greedy and beam search decoder for 100 examples in the test dataset with varying beam width (k) and show the difference in total BLEU score between the beam search model and greedy model as well as the total time of execution."
   ]
  },
  {
   "cell_type": "code",
   "execution_count": 1319,
   "metadata": {
    "scrolled": true
   },
   "outputs": [
    {
     "name": "stdout",
     "output_type": "stream",
     "text": [
      "Input English sentence: dont forget your things\n",
      "Input English sentence: tell her that i am coming\n",
      "Input English sentence: youre so lazy\n",
      "Input English sentence: theres got to be something you can do\n",
      "Input English sentence: there is a right time for everything\n",
      "Input English sentence: tom is at school now\n",
      "Input English sentence: i havent seen this movie before\n",
      "Input English sentence: should i buy a black car or a blue car\n",
      "Input English sentence: i cry almost every day\n",
      "Input English sentence: we fixed that\n",
      "Input English sentence: youre a true patriot\n",
      "Input English sentence: tom decided to go to boston\n",
      "Input English sentence: well sing\n",
      "Input English sentence: tom works as a waiter\n",
      "Input English sentence: do you smoke cigars\n",
      "Input English sentence: is french an easy language\n",
      "Input English sentence: ill get it\n",
      "Input English sentence: we do not know her\n",
      "Input English sentence: there are a thousand meters in a kilometer\n",
      "Input English sentence: he took her aside and told her the news\n",
      "Input English sentence: we need more people like tom\n",
      "Input English sentence: we had a little water\n",
      "Input English sentence: you should be at home with your wife\n",
      "Input English sentence: youre happy here arent you\n",
      "Input English sentence: tom started reading\n",
      "Input English sentence: take off your clothes\n",
      "Input English sentence: weve seen her\n",
      "Input English sentence: where was tom born\n",
      "Input English sentence: tom was my first boyfriend\n",
      "Input English sentence: dwight eisenhower was elected president in\n",
      "Input English sentence: how many boys are in your class\n",
      "Input English sentence: is it hard to speak english\n",
      "Input English sentence: what is he after\n",
      "Input English sentence: he is watching tv\n",
      "Input English sentence: i call tom almost every evening\n",
      "Input English sentence: ill miss you very much\n",
      "Input English sentence: all this has now changed\n",
      "Input English sentence: i was toms secretary\n",
      "Input English sentence: when did you come to japan\n",
      "Input English sentence: tom is a sociologist\n",
      "Input English sentence: are you a prisoner\n",
      "Input English sentence: the children are making a lot of noise\n",
      "Input English sentence: dont you lie to me\n",
      "Input English sentence: tom doesnt work here\n",
      "Input English sentence: the government was earning more money than it needed\n",
      "Input English sentence: turn off the radio\n",
      "Input English sentence: tom bought a rose and gave it to mary\n",
      "Input English sentence: france is to the south of england\n",
      "Input English sentence: ive seen tom on tv many times\n",
      "Input English sentence: she has not come here yet\n",
      "Input English sentence: ill pick you up at six\n",
      "Input English sentence: do you want to work with tom\n",
      "Input English sentence: this question isnt easy\n",
      "Input English sentence: lets study english\n",
      "Input English sentence: my girlfriend is very beautiful\n",
      "Input English sentence: i have seen her before\n",
      "Input English sentence: do you like spicy food\n",
      "Input English sentence: give me some milk\n",
      "Input English sentence: my older sister takes a shower every morning\n",
      "Input English sentence: i am fortyfive years old\n",
      "Input English sentence: did you break any rules\n",
      "Input English sentence: has tom been in touch with you\n",
      "Input English sentence: tom flew to australia on monday\n",
      "Input English sentence: they were very loud\n",
      "Input English sentence: no one has told me anything\n",
      "Input English sentence: prague is the capital of the czech republic\n",
      "Input English sentence: the eiffel tower is in paris\n",
      "Input English sentence: they helped each other\n",
      "Input English sentence: we decided to stay\n",
      "Input English sentence: her watch is ten minutes slow\n",
      "Input English sentence: he works as a gondolier in venice\n",
      "Input English sentence: are you still in love with her\n",
      "Input English sentence: you can leave now\n",
      "Input English sentence: tom is coming to get us\n",
      "Input English sentence: i went to harvard\n",
      "Input English sentence: is this the first time that youve seen snow\n",
      "Input English sentence: what are those\n",
      "Input English sentence: he wrote this book at the age of twenty\n",
      "Input English sentence: look whos here\n",
      "Input English sentence: we know all that\n",
      "Input English sentence: start the car\n",
      "Input English sentence: i want to go home now\n",
      "Input English sentence: i was a doctor\n",
      "Input English sentence: well have to go back\n",
      "Input English sentence: im also learning french\n",
      "Input English sentence: alice will tell you that in wonderland everything is topsyturvy\n",
      "Input English sentence: is that why you did this\n",
      "Input English sentence: the file has been sent\n",
      "Input English sentence: do you always take so long to answer a question\n",
      "Input English sentence: who did tom bite\n",
      "Input English sentence: they lost the battle\n",
      "Input English sentence: when did you change your address\n",
      "Input English sentence: she changed the subject\n",
      "Input English sentence: youre a good actor\n",
      "Input English sentence: what movie is this\n",
      "Input English sentence: he is nice\n",
      "Input English sentence: will she come\n",
      "Input English sentence: we cant blame anyone else\n",
      "Input English sentence: we want to hear it\n",
      "Input English sentence: what did you have for lunch\n",
      "2 5.562557338624994\n",
      "Val Time for execution: 51.1552 seconds\n"
     ]
    }
   ],
   "source": [
    "import time\n",
    "train_gen = generate_batch(X_test, y_test, batch_size = 1)\n",
    "k=-1\n",
    "n = 2\n",
    "total_diff = 0\n",
    "tic = time.perf_counter()\n",
    "for x in range (0,100):\n",
    "    k+=1\n",
    "    (input_seq, actual_output), _ = next(train_gen)\n",
    "    input_sentence = X_test[k:k+1].values[0]\n",
    "    decoded_sentence = decode_sequence(input_seq)[:-4]\n",
    "    beam_decoded_sentences = beam_search_decode_sequence(input_seq, n)\n",
    "    actual_sentence = y_test[k:k+1].values[0][6:-4]\n",
    "    print('Input English sentence:', input_sentence)\n",
    "    #print('Actual Marathi Translation:', actual_sentence)\n",
    "    #print('Beam Predicted Marathi Translation:', best_beam(actual_sentence, beam_decoded_sentences))\n",
    "    #print('Predicted Marathi Translation:', decoded_sentence)\n",
    "\n",
    "    beam_score = calculate_bleu_for_beam(actual_sentence, beam_decoded_sentences)\n",
    "    score = calculate_bleu(actual_sentence, decoded_sentence)\n",
    "    diff = beam_score - score\n",
    "    total_diff += diff\n",
    "    #print(beam_score)\n",
    "    #print(score)\n",
    "toc = time.perf_counter()\n",
    "print(n, total_diff)\n",
    "print(f\"Val Time for execution: {toc - tic:0.4f} seconds\")"
   ]
  },
  {
   "cell_type": "code",
   "execution_count": 1314,
   "metadata": {},
   "outputs": [
    {
     "name": "stdout",
     "output_type": "stream",
     "text": [
      "Input English sentence: dont forget your things\n",
      "Input English sentence: tell her that i am coming\n",
      "Input English sentence: youre so lazy\n",
      "Input English sentence: theres got to be something you can do\n",
      "Input English sentence: there is a right time for everything\n",
      "Input English sentence: tom is at school now\n",
      "Input English sentence: i havent seen this movie before\n",
      "Input English sentence: should i buy a black car or a blue car\n",
      "Input English sentence: i cry almost every day\n",
      "Input English sentence: we fixed that\n",
      "Input English sentence: youre a true patriot\n",
      "Input English sentence: tom decided to go to boston\n",
      "Input English sentence: well sing\n",
      "Input English sentence: tom works as a waiter\n",
      "Input English sentence: do you smoke cigars\n",
      "Input English sentence: is french an easy language\n",
      "Input English sentence: ill get it\n",
      "Input English sentence: we do not know her\n",
      "Input English sentence: there are a thousand meters in a kilometer\n",
      "Input English sentence: he took her aside and told her the news\n",
      "Input English sentence: we need more people like tom\n",
      "Input English sentence: we had a little water\n",
      "Input English sentence: you should be at home with your wife\n",
      "Input English sentence: youre happy here arent you\n",
      "Input English sentence: tom started reading\n",
      "Input English sentence: take off your clothes\n",
      "Input English sentence: weve seen her\n",
      "Input English sentence: where was tom born\n",
      "Input English sentence: tom was my first boyfriend\n",
      "Input English sentence: dwight eisenhower was elected president in\n",
      "Input English sentence: how many boys are in your class\n",
      "Input English sentence: is it hard to speak english\n",
      "Input English sentence: what is he after\n",
      "Input English sentence: he is watching tv\n",
      "Input English sentence: i call tom almost every evening\n",
      "Input English sentence: ill miss you very much\n",
      "Input English sentence: all this has now changed\n",
      "Input English sentence: i was toms secretary\n",
      "Input English sentence: when did you come to japan\n",
      "Input English sentence: tom is a sociologist\n",
      "Input English sentence: are you a prisoner\n",
      "Input English sentence: the children are making a lot of noise\n",
      "Input English sentence: dont you lie to me\n",
      "Input English sentence: tom doesnt work here\n",
      "Input English sentence: the government was earning more money than it needed\n",
      "Input English sentence: turn off the radio\n",
      "Input English sentence: tom bought a rose and gave it to mary\n",
      "Input English sentence: france is to the south of england\n",
      "Input English sentence: ive seen tom on tv many times\n",
      "Input English sentence: she has not come here yet\n",
      "Input English sentence: ill pick you up at six\n",
      "Input English sentence: do you want to work with tom\n",
      "Input English sentence: this question isnt easy\n",
      "Input English sentence: lets study english\n",
      "Input English sentence: my girlfriend is very beautiful\n",
      "Input English sentence: i have seen her before\n",
      "Input English sentence: do you like spicy food\n",
      "Input English sentence: give me some milk\n",
      "Input English sentence: my older sister takes a shower every morning\n",
      "Input English sentence: i am fortyfive years old\n",
      "Input English sentence: did you break any rules\n",
      "Input English sentence: has tom been in touch with you\n",
      "Input English sentence: tom flew to australia on monday\n",
      "Input English sentence: they were very loud\n",
      "Input English sentence: no one has told me anything\n",
      "Input English sentence: prague is the capital of the czech republic\n",
      "Input English sentence: the eiffel tower is in paris\n",
      "Input English sentence: they helped each other\n",
      "Input English sentence: we decided to stay\n",
      "Input English sentence: her watch is ten minutes slow\n",
      "Input English sentence: he works as a gondolier in venice\n",
      "Input English sentence: are you still in love with her\n",
      "Input English sentence: you can leave now\n",
      "Input English sentence: tom is coming to get us\n",
      "Input English sentence: i went to harvard\n",
      "Input English sentence: is this the first time that youve seen snow\n",
      "Input English sentence: what are those\n",
      "Input English sentence: he wrote this book at the age of twenty\n",
      "Input English sentence: look whos here\n",
      "Input English sentence: we know all that\n",
      "Input English sentence: start the car\n",
      "Input English sentence: i want to go home now\n",
      "Input English sentence: i was a doctor\n",
      "Input English sentence: well have to go back\n",
      "Input English sentence: im also learning french\n",
      "Input English sentence: alice will tell you that in wonderland everything is topsyturvy\n",
      "Input English sentence: is that why you did this\n",
      "Input English sentence: the file has been sent\n",
      "Input English sentence: do you always take so long to answer a question\n",
      "Input English sentence: who did tom bite\n",
      "Input English sentence: they lost the battle\n",
      "Input English sentence: when did you change your address\n",
      "Input English sentence: she changed the subject\n",
      "Input English sentence: youre a good actor\n",
      "Input English sentence: what movie is this\n",
      "Input English sentence: he is nice\n",
      "Input English sentence: will she come\n",
      "Input English sentence: we cant blame anyone else\n",
      "Input English sentence: we want to hear it\n",
      "Input English sentence: what did you have for lunch\n",
      "0 0\n",
      "Val Time for execution: 25.0710 seconds\n"
     ]
    }
   ],
   "source": [
    "import time\n",
    "train_gen = generate_batch(X_test, y_test, batch_size = 1)\n",
    "k=-1\n",
    "n = 0\n",
    "total_diff = 0\n",
    "tic = time.perf_counter()\n",
    "for x in range (0,100):\n",
    "    k+=1\n",
    "    (input_seq, actual_output), _ = next(train_gen)\n",
    "    input_sentence = X_test[k:k+1].values[0]\n",
    "    decoded_sentence = decode_sequence(input_seq)[:-4]\n",
    "    #beam_decoded_sentences = beam_search_decode_sequence(input_seq, n)\n",
    "    actual_sentence = y_test[k:k+1].values[0][6:-4]\n",
    "    print('Input English sentence:', input_sentence)\n",
    "    #print('Actual Mar\n",
    "    athi Translation:', actual_sentence)\n",
    "    #print('Beam Predicted Marathi Translation:', best_beam(actual_sentence, beam_decoded_sentences))\n",
    "    #print('Predicted Marathi Translation:', decoded_sentence)\n",
    "\n",
    "    #beam_score = calculate_bleu_for_beam(actual_sentence, beam_decoded_sentences)\n",
    "    #score = calculate_bleu(actual_sentence, decoded_sentence)\n",
    "    #diff = beam_score - score\n",
    "    #total_diff += diff\n",
    "    #print(beam_score)\n",
    "    #print(score)\n",
    "toc = time.perf_counter()\n",
    "print(n, total_diff)\n",
    "print(f\"Val Time for execution: {toc - tic:0.4f} seconds\")"
   ]
  },
  {
   "cell_type": "markdown",
   "metadata": {},
   "source": [
    "### Test Examples - Individual Assessment of sentences"
   ]
  },
  {
   "cell_type": "code",
   "execution_count": 1196,
   "metadata": {},
   "outputs": [
    {
     "name": "stdout",
     "output_type": "stream",
     "text": [
      "Top Sentences\n",
      "['अजून फोन करून वाजता विसरू नकोस', 'अजून काही करून वाजता विसरू नकोस', 'अजून फोन करून वाजता विसरू नका', 'फोन फोन करून वाजता विसरू नकोस', 'आपली फोन करून वाजता विसरू नकोस', 'अजून फोन करून वाजता का नकोस', 'अजून काही करून वाजता विसरू नका', 'फोन काही करून वाजता विसरू नकोस', 'आपली काही करून वाजता विसरू नकोस', 'अजून काही करून वाजता का नकोस']\n",
      "\n",
      "\n",
      "Input English sentence: dont forget your things\n",
      "Actual Marathi Translation:  आपलं सामान विसरू नका \n",
      "Beam Predicted Marathi Translation: अजून फोन करून वाजता विसरू नका\n",
      "Predicted Marathi Translation:  अजून फोन करून वाजता विसरू नकोस \n",
      "0.3333333333333333\n",
      "0.16666666666666669\n"
     ]
    }
   ],
   "source": [
    "k+=1\n",
    "(input_seq, actual_output), _ = next(val_gen)\n",
    "input_sentence = X_test[k:k+1].values[0]\n",
    "decoded_sentence = decode_sequence(input_seq)[:-4]\n",
    "beam_decoded_sentences = beam_search_decode_sequence(input_seq, n)\n",
    "actual_sentence = y_test[k:k+1].values[0][6:-4]\n",
    "print('Input English sentence:', input_sentence)\n",
    "print('Actual Marathi Translation:', actual_sentence)\n",
    "print('Beam Predicted Marathi Translation:', best_beam(actual_sentence, beam_decoded_sentences))\n",
    "print('Predicted Marathi Translation:', decoded_sentence)\n",
    "\n",
    "beam_score = calculate_bleu_for_beam(actual_sentence, beam_decoded_sentences)\n",
    "score = calculate_bleu(actual_sentence, decoded_sentence)\n",
    "print(beam_score)\n",
    "print(score)"
   ]
  },
  {
   "cell_type": "code",
   "execution_count": 1197,
   "metadata": {},
   "outputs": [
    {
     "name": "stdout",
     "output_type": "stream",
     "text": [
      "Top Sentences\n",
      "['त्याला मला विकशील का', 'त्याला मला केलंस का', 'त्याला मला करता का', 'तिला मला विकशील का', 'त्याला मला विकाल का', 'तिला मला केलंस का', 'त्याला मला सांगाल का', 'त्यांना मला विकशील का', 'त्याला मला म्हणतात का', 'त्यांना मला केलंस का']\n",
      "\n",
      "\n",
      "Input English sentence: tell her that i am coming\n",
      "Actual Marathi Translation:  त्यांना सांगा की मी येतोय \n",
      "Beam Predicted Marathi Translation: त्यांना मला विकशील का\n",
      "Predicted Marathi Translation:  त्याला मला विकशील का \n",
      "0.19470019576785122\n",
      "0\n"
     ]
    }
   ],
   "source": [
    "k+=1\n",
    "(input_seq, actual_output), _ = next(val_gen)\n",
    "input_sentence = X_test[k:k+1].values[0]\n",
    "decoded_sentence = decode_sequence(input_seq)[:-4]\n",
    "beam_decoded_sentences = beam_search_decode_sequence(input_seq, n)\n",
    "actual_sentence = y_test[k:k+1].values[0][6:-4]\n",
    "print('Input English sentence:', input_sentence)\n",
    "print('Actual Marathi Translation:', actual_sentence)\n",
    "print('Beam Predicted Marathi Translation:', best_beam(actual_sentence, beam_decoded_sentences))\n",
    "print('Predicted Marathi Translation:', decoded_sentence)\n",
    "\n",
    "beam_score = calculate_bleu_for_beam(actual_sentence, beam_decoded_sentences)\n",
    "score = calculate_bleu(actual_sentence, decoded_sentence)\n",
    "print(beam_score)\n",
    "print(score)"
   ]
  },
  {
   "cell_type": "code",
   "execution_count": 1198,
   "metadata": {},
   "outputs": [
    {
     "name": "stdout",
     "output_type": "stream",
     "text": [
      "Top Sentences\n",
      "['तू किती आळशी आहेस', 'तू किती मूर्ख आहेस', 'तुम्ही किती आळशी आहेस', 'किती किती आळशी आहेस', 'तू किती आळशी आहात', 'तुम्ही किती मूर्ख आहेस', 'तू किती उद्धट आहेस', 'किती किती मूर्ख आहेस', 'तू किती अभिनेता आहेस', 'तू किती मूर्ख आहात']\n",
      "\n",
      "\n",
      "Input English sentence: youre so lazy\n",
      "Actual Marathi Translation:  तू किती आळशी आहेस \n",
      "Beam Predicted Marathi Translation: तू किती आळशी आहेस\n",
      "Predicted Marathi Translation:  तू किती आळशी आहेस \n",
      "1.0\n",
      "1.0\n"
     ]
    }
   ],
   "source": [
    "k+=1\n",
    "(input_seq, actual_output), _ = next(val_gen)\n",
    "input_sentence = X_test[k:k+1].values[0]\n",
    "decoded_sentence = decode_sequence(input_seq)[:-4]\n",
    "beam_decoded_sentences = beam_search_decode_sequence(input_seq, n)\n",
    "actual_sentence = y_test[k:k+1].values[0][6:-4]\n",
    "print('Input English sentence:', input_sentence)\n",
    "print('Actual Marathi Translation:', actual_sentence)\n",
    "print('Beam Predicted Marathi Translation:', best_beam(actual_sentence, beam_decoded_sentences))\n",
    "print('Predicted Marathi Translation:', decoded_sentence)\n",
    "\n",
    "beam_score = calculate_bleu_for_beam(actual_sentence, beam_decoded_sentences)\n",
    "score = calculate_bleu(actual_sentence, decoded_sentence)\n",
    "print(beam_score)\n",
    "print(score)"
   ]
  },
  {
   "cell_type": "code",
   "execution_count": 1199,
   "metadata": {},
   "outputs": [
    {
     "name": "stdout",
     "output_type": "stream",
     "text": [
      "Top Sentences\n",
      "['तुला काही करता येईल तर टॉम आहे', 'तुला खायला करता येईल तर टॉम आहे', 'तुला काही करायचा येईल तर टॉम आहे', 'तुला करायला करता येईल तर टॉम आहे', 'तुला खायला करायचा येईल तर टॉम आहे', 'तुम्हाला काही करता येईल तर टॉम आहे', 'तुला करायला करायचा येईल तर टॉम आहे', 'तुला करता करता येईल तर टॉम आहे', 'तुला काही करता येईल याची टॉम आहे', 'तुम्हाला खायला करता येईल तर टॉम आहे']\n",
      "\n",
      "\n",
      "Input English sentence: theres got to be something you can do\n",
      "Actual Marathi Translation:  तुला करता येईल असं काहीतरी तर असेलच \n",
      "Beam Predicted Marathi Translation: तुला काही करता येईल तर टॉम आहे\n",
      "Predicted Marathi Translation:  तुला काही करता येईल तर टॉम आहे \n",
      "0.5714285714285714\n",
      "0.5714285714285714\n"
     ]
    }
   ],
   "source": [
    "k+=1\n",
    "(input_seq, actual_output), _ = next(val_gen)\n",
    "input_sentence = X_test[k:k+1].values[0]\n",
    "decoded_sentence = decode_sequence(input_seq)[:-4]\n",
    "beam_decoded_sentences = beam_search_decode_sequence(input_seq, n)\n",
    "actual_sentence = y_test[k:k+1].values[0][6:-4]\n",
    "print('Input English sentence:', input_sentence)\n",
    "print('Actual Marathi Translation:', actual_sentence)\n",
    "print('Beam Predicted Marathi Translation:', best_beam(actual_sentence, beam_decoded_sentences))\n",
    "print('Predicted Marathi Translation:', decoded_sentence)\n",
    "\n",
    "beam_score = calculate_bleu_for_beam(actual_sentence, beam_decoded_sentences)\n",
    "score = calculate_bleu(actual_sentence, decoded_sentence)\n",
    "print(beam_score)\n",
    "print(score)"
   ]
  },
  {
   "cell_type": "code",
   "execution_count": 1200,
   "metadata": {},
   "outputs": [
    {
     "name": "stdout",
     "output_type": "stream",
     "text": [
      "Top Sentences\n",
      "['फक्त एक दिवस आहे', 'किती एक दिवस आहे', 'तिथे एक दिवस आहे', 'किमान एक दिवस आहे', 'फक्त एकदा दिवस आहे', 'अगदी एक दिवस आहे', 'फक्त एक तास आहे', 'काही एक दिवस आहे', 'इथे एक दिवस आहे', 'जरासा एक दिवस आहे']\n",
      "\n",
      "\n",
      "Input English sentence: there is a right time for everything\n",
      "Actual Marathi Translation:  प्रत्येक गोष्टीसाठी एक योग्य वेळ असते \n",
      "Beam Predicted Marathi Translation: फक्त एक दिवस आहे\n",
      "Predicted Marathi Translation:  फक्त एक दिवस आहे \n",
      "0.15163266492815836\n",
      "0.15163266492815836\n"
     ]
    }
   ],
   "source": [
    "k+=1\n",
    "(input_seq, actual_output), _ = next(val_gen)\n",
    "input_sentence = X_test[k:k+1].values[0]\n",
    "decoded_sentence = decode_sequence(input_seq)[:-4]\n",
    "beam_decoded_sentences = beam_search_decode_sequence(input_seq, n)\n",
    "actual_sentence = y_test[k:k+1].values[0][6:-4]\n",
    "print('Input English sentence:', input_sentence)\n",
    "print('Actual Marathi Translation:', actual_sentence)\n",
    "print('Beam Predicted Marathi Translation:', best_beam(actual_sentence, beam_decoded_sentences))\n",
    "print('Predicted Marathi Translation:', decoded_sentence)\n",
    "\n",
    "beam_score = calculate_bleu_for_beam(actual_sentence, beam_decoded_sentences)\n",
    "score = calculate_bleu(actual_sentence, decoded_sentence)\n",
    "print(beam_score)\n",
    "print(score)"
   ]
  },
  {
   "cell_type": "code",
   "execution_count": 1201,
   "metadata": {},
   "outputs": [
    {
     "name": "stdout",
     "output_type": "stream",
     "text": [
      "Top Sentences\n",
      "['टॉम आता शाळेत आहे', 'टॉम आता ऑनलाइन आहे', 'टॉम आता तेरा आहे', 'टॉम आता विद्यार्थी आहे', 'टॉम आता तीन आहे', 'टॉम आता घरीच आहे', 'टॉम आता चर्चला आहे', 'टॉम आता शाळा आहे', 'टॉम आता मेरी आहे', 'टॉम आता शाळेला आहे']\n",
      "\n",
      "\n",
      "Input English sentence: tom is at school now\n",
      "Actual Marathi Translation:  टॉम आता शाळेत आहे \n",
      "Beam Predicted Marathi Translation: टॉम आता शाळेत आहे\n",
      "Predicted Marathi Translation:  टॉम आता शाळेत आहे \n",
      "1.0\n",
      "1.0\n"
     ]
    }
   ],
   "source": [
    "k+=1\n",
    "(input_seq, actual_output), _ = next(val_gen)\n",
    "input_sentence = X_test[k:k+1].values[0]\n",
    "decoded_sentence = decode_sequence(input_seq)[:-4]\n",
    "beam_decoded_sentences = beam_search_decode_sequence(input_seq, n)\n",
    "actual_sentence = y_test[k:k+1].values[0][6:-4]\n",
    "print('Input English sentence:', input_sentence)\n",
    "print('Actual Marathi Translation:', actual_sentence)\n",
    "print('Beam Predicted Marathi Translation:', best_beam(actual_sentence, beam_decoded_sentences))\n",
    "print('Predicted Marathi Translation:', decoded_sentence)\n",
    "\n",
    "beam_score = calculate_bleu_for_beam(actual_sentence, beam_decoded_sentences)\n",
    "score = calculate_bleu(actual_sentence, decoded_sentence)\n",
    "print(beam_score)\n",
    "print(score)"
   ]
  },
  {
   "cell_type": "code",
   "execution_count": 1202,
   "metadata": {},
   "outputs": [
    {
     "name": "stdout",
     "output_type": "stream",
     "text": [
      "Top Sentences\n",
      "['मी हा आधी देवमासा पाहिला नाहीये', 'मी हा चित्रपट देवमासा पाहिला नाहीये', 'मी हा पिक्चर देवमासा पाहिला नाहीये', 'मी हा आधी कधी पाहिला नाहीये', 'मी हा चित्रपट कधी पाहिला नाहीये', 'मी हा पिक्चर कधी पाहिला नाहीये', 'मी हा एका देवमासा पाहिला नाहीये', 'मी हा आधी पिक्चर पाहिला नाहीये', 'मी हा चित्रपट पिक्चर पाहिला नाहीये', 'मी हा पिक्चर पिक्चर पाहिला नाहीये']\n",
      "\n",
      "\n",
      "Input English sentence: i havent seen this movie before\n",
      "Actual Marathi Translation:  हा पिक्चर मी याआधी बघितला नाहीये \n",
      "Beam Predicted Marathi Translation: मी हा पिक्चर देवमासा पाहिला नाहीये\n",
      "Predicted Marathi Translation:  मी हा आधी देवमासा पाहिला नाहीये \n",
      "0.6666666666666666\n",
      "0.5\n"
     ]
    }
   ],
   "source": [
    "k+=1\n",
    "(input_seq, actual_output), _ = next(val_gen)\n",
    "input_sentence = X_test[k:k+1].values[0]\n",
    "decoded_sentence = decode_sequence(input_seq)[:-4]\n",
    "beam_decoded_sentences = beam_search_decode_sequence(input_seq, n)\n",
    "actual_sentence = y_test[k:k+1].values[0][6:-4]\n",
    "print('Input English sentence:', input_sentence)\n",
    "print('Actual Marathi Translation:', actual_sentence)\n",
    "print('Beam Predicted Marathi Translation:', best_beam(actual_sentence, beam_decoded_sentences))\n",
    "print('Predicted Marathi Translation:', decoded_sentence)\n",
    "\n",
    "beam_score = calculate_bleu_for_beam(actual_sentence, beam_decoded_sentences)\n",
    "score = calculate_bleu(actual_sentence, decoded_sentence)\n",
    "print(beam_score)\n",
    "print(score)"
   ]
  },
  {
   "cell_type": "code",
   "execution_count": 1203,
   "metadata": {},
   "outputs": [
    {
     "name": "stdout",
     "output_type": "stream",
     "text": [
      "Top Sentences\n",
      "['मी एक गाडी विकत घेण्यासाठी गाडी आहे ती एक आहे', 'मी एक गाडी विकत घेण्यासाठी ती आहे ती एक आहे', 'मी एक गाडी विकत घेण्यासाठी गाडी आहे ती एक आहे', 'मी एक गाडी विकत घेण्यासाठी ज्याला आहे ती एक आहे', 'मी एक गाडी गाडी घेण्यासाठी गाडी आहे ती एक आहे', 'मी एक गाडी विकत घेण्यासाठी ती आहे ती एक आहे', 'मी एक गाडी गाडी घेण्यासाठी ती आहे ती एक आहे', 'मी एक गाडी विकत घेण्यासाठी ज्याला आहे ती एक आहे', 'मी एक गाडी गाडी घेण्यासाठी गाडी आहे ती एक आहे', 'मी एक गाडी गाडी घेण्यासाठी ज्याला आहे ती एक आहे']\n",
      "\n",
      "\n",
      "Input English sentence: should i buy a black car or a blue car\n",
      "Actual Marathi Translation:  मी काळी गाडी विकत घेऊ का निळी गाडी \n",
      "Beam Predicted Marathi Translation: मी एक गाडी विकत घेण्यासाठी गाडी आहे ती एक आहे\n",
      "Predicted Marathi Translation:  मी एक गाडी विकत घेण्यासाठी गाडी आहे ती एक आहे \n",
      "0.4\n",
      "0.4\n"
     ]
    }
   ],
   "source": [
    "k+=1\n",
    "(input_seq, actual_output), _ = next(val_gen)\n",
    "input_sentence = X_test[k:k+1].values[0]\n",
    "decoded_sentence = decode_sequence(input_seq)[:-4]\n",
    "beam_decoded_sentences = beam_search_decode_sequence(input_seq, n)\n",
    "actual_sentence = y_test[k:k+1].values[0][6:-4]\n",
    "print('Input English sentence:', input_sentence)\n",
    "print('Actual Marathi Translation:', actual_sentence)\n",
    "print('Beam Predicted Marathi Translation:', best_beam(actual_sentence, beam_decoded_sentences))\n",
    "print('Predicted Marathi Translation:', decoded_sentence)\n",
    "\n",
    "beam_score = calculate_bleu_for_beam(actual_sentence, beam_decoded_sentences)\n",
    "score = calculate_bleu(actual_sentence, decoded_sentence)\n",
    "print(beam_score)\n",
    "print(score)"
   ]
  },
  {
   "cell_type": "code",
   "execution_count": 1204,
   "metadata": {},
   "outputs": [
    {
     "name": "stdout",
     "output_type": "stream",
     "text": [
      "Top Sentences\n",
      "['मी जवळजवळ दररोज रडतो', 'मी जवळजवळ दररोज खातो', 'मी जवळजवळ दररोज रडते', 'मी जवळजवळ दररोज निघाला', 'मी जवळजवळ दररोजच रडतो', 'मी जवळजवळ दररोज लेखांचा', 'मी जवळजवळ दररोज भेटतो', 'मी जवळजवळ दररोज जेवतो', 'मी जवळजवळ दररोज रडले', 'मी जवळजवळ दररोज शिकार']\n",
      "\n",
      "\n",
      "Input English sentence: i cry almost every day\n",
      "Actual Marathi Translation:  मी जवळजवळ दररोज रडतो \n",
      "Beam Predicted Marathi Translation: मी जवळजवळ दररोज रडतो\n",
      "Predicted Marathi Translation:  मी जवळजवळ दररोज रडतो \n",
      "1.0\n",
      "1.0\n"
     ]
    }
   ],
   "source": [
    "k+=1\n",
    "(input_seq, actual_output), _ = next(val_gen)\n",
    "input_sentence = X_test[k:k+1].values[0]\n",
    "decoded_sentence = decode_sequence(input_seq)[:-4]\n",
    "beam_decoded_sentences = beam_search_decode_sequence(input_seq, n)\n",
    "actual_sentence = y_test[k:k+1].values[0][6:-4]\n",
    "print('Input English sentence:', input_sentence)\n",
    "print('Actual Marathi Translation:', actual_sentence)\n",
    "print('Beam Predicted Marathi Translation:', best_beam(actual_sentence, beam_decoded_sentences))\n",
    "print('Predicted Marathi Translation:', decoded_sentence)\n",
    "\n",
    "beam_score = calculate_bleu_for_beam(actual_sentence, beam_decoded_sentences)\n",
    "score = calculate_bleu(actual_sentence, decoded_sentence)\n",
    "print(beam_score)\n",
    "print(score)"
   ]
  },
  {
   "cell_type": "code",
   "execution_count": 1205,
   "metadata": {},
   "outputs": [
    {
     "name": "stdout",
     "output_type": "stream",
     "text": [
      "Top Sentences\n",
      "['आम्ही ते दुरुस्त केलं', 'आपण ते दुरुस्त केलं', 'आम्ही तसं दुरुस्त केलं', 'ते ते दुरुस्त केलं', 'आपण तसं दुरुस्त केलं', 'आम्ही त्यांना दुरुस्त केलं', 'आपण त्यांना दुरुस्त केलं', 'आम्ही त्याला दुरुस्त केलं', 'आम्ही हे दुरुस्त केलं', 'ते तसं दुरुस्त केलं']\n",
      "\n",
      "\n",
      "Input English sentence: we fixed that\n",
      "Actual Marathi Translation:  आपण ते दुरुस्त केलं \n",
      "Beam Predicted Marathi Translation: आपण ते दुरुस्त केलं\n",
      "Predicted Marathi Translation:  आम्ही ते दुरुस्त केलं \n",
      "1.0\n",
      "0.75\n"
     ]
    }
   ],
   "source": [
    "k+=1\n",
    "(input_seq, actual_output), _ = next(val_gen)\n",
    "input_sentence = X_test[k:k+1].values[0]\n",
    "decoded_sentence = decode_sequence(input_seq)[:-4]\n",
    "beam_decoded_sentences = beam_search_decode_sequence(input_seq, n)\n",
    "actual_sentence = y_test[k:k+1].values[0][6:-4]\n",
    "print('Input English sentence:', input_sentence)\n",
    "print('Actual Marathi Translation:', actual_sentence)\n",
    "print('Beam Predicted Marathi Translation:', best_beam(actual_sentence, beam_decoded_sentences))\n",
    "print('Predicted Marathi Translation:', decoded_sentence)\n",
    "\n",
    "beam_score = calculate_bleu_for_beam(actual_sentence, beam_decoded_sentences)\n",
    "score = calculate_bleu(actual_sentence, decoded_sentence)\n",
    "print(beam_score)\n",
    "print(score)"
   ]
  },
  {
   "cell_type": "code",
   "execution_count": 1206,
   "metadata": {},
   "outputs": [
    {
     "name": "stdout",
     "output_type": "stream",
     "text": [
      "Top Sentences\n",
      "['तू खरे देशभक्त आहेस', 'तुम्ही खरे देशभक्त आहेस', 'तू खरा देशभक्त आहेस', 'तुम्ही खरा देशभक्त आहेस', 'तू ते देशभक्त आहेस', 'तू उद्या देशभक्त आहेस', 'तू खरे नाहीयेस आहेस', 'तुम्ही ते देशभक्त आहेस', 'तुम्ही उद्या देशभक्त आहेस', 'तुम्ही खरे नाहीयेस आहेस']\n",
      "\n",
      "\n",
      "Input English sentence: youre a true patriot\n",
      "Actual Marathi Translation:  तू खरी देशभक्त आहेस \n",
      "Beam Predicted Marathi Translation: तू खरे देशभक्त आहेस\n",
      "Predicted Marathi Translation:  तू खरे देशभक्त आहेस \n",
      "0.75\n",
      "0.75\n"
     ]
    }
   ],
   "source": [
    "k+=1\n",
    "(input_seq, actual_output), _ = next(val_gen)\n",
    "input_sentence = X_test[k:k+1].values[0]\n",
    "decoded_sentence = decode_sequence(input_seq)[:-4]\n",
    "beam_decoded_sentences = beam_search_decode_sequence(input_seq, n)\n",
    "actual_sentence = y_test[k:k+1].values[0][6:-4]\n",
    "print('Input English sentence:', input_sentence)\n",
    "print('Actual Marathi Translation:', actual_sentence)\n",
    "print('Beam Predicted Marathi Translation:', best_beam(actual_sentence, beam_decoded_sentences))\n",
    "print('Predicted Marathi Translation:', decoded_sentence)\n",
    "\n",
    "beam_score = calculate_bleu_for_beam(actual_sentence, beam_decoded_sentences)\n",
    "score = calculate_bleu(actual_sentence, decoded_sentence)\n",
    "print(beam_score)\n",
    "print(score)"
   ]
  },
  {
   "cell_type": "code",
   "execution_count": 1207,
   "metadata": {},
   "outputs": [
    {
     "name": "stdout",
     "output_type": "stream",
     "text": [
      "Top Sentences\n",
      "['टॉमने बॉस्टनला जायचं ठरवलं', 'टॉम बॉस्टनला जायचं ठरवलं', 'टॉमने बॉस्टनला बॉस्टनला ठरवलं', 'टॉमने बॉस्टनला जाणार ठरवलं', 'टॉमने बॉस्टनला जायचं नव्हतं', 'टॉमला बॉस्टनला जायचं ठरवलं', 'टॉमने बॉस्टनला यायचं ठरवलं', 'टॉमने बॉस्टनला गेली ठरवलं', 'टॉमने बॉस्टनला जायला ठरवलं', 'टॉमने बॉस्टनला गेलो ठरवलं']\n",
      "\n",
      "\n",
      "Input English sentence: tom decided to go to boston\n",
      "Actual Marathi Translation:  टॉमने बॉस्टनला जायचं ठरवलं \n",
      "Beam Predicted Marathi Translation: टॉमने बॉस्टनला जायचं ठरवलं\n",
      "Predicted Marathi Translation:  टॉमने बॉस्टनला जायचं ठरवलं \n",
      "1.0\n",
      "1.0\n"
     ]
    }
   ],
   "source": [
    "k+=1\n",
    "(input_seq, actual_output), _ = next(val_gen)\n",
    "input_sentence = X_test[k:k+1].values[0]\n",
    "decoded_sentence = decode_sequence(input_seq)[:-4]\n",
    "beam_decoded_sentences = beam_search_decode_sequence(input_seq, n)\n",
    "actual_sentence = y_test[k:k+1].values[0][6:-4]\n",
    "print('Input English sentence:', input_sentence)\n",
    "print('Actual Marathi Translation:', actual_sentence)\n",
    "print('Beam Predicted Marathi Translation:', best_beam(actual_sentence, beam_decoded_sentences))\n",
    "print('Predicted Marathi Translation:', decoded_sentence)\n",
    "\n",
    "beam_score = calculate_bleu_for_beam(actual_sentence, beam_decoded_sentences)\n",
    "score = calculate_bleu(actual_sentence, decoded_sentence)\n",
    "print(beam_score)\n",
    "print(score)"
   ]
  },
  {
   "cell_type": "code",
   "execution_count": 1208,
   "metadata": {},
   "outputs": [
    {
     "name": "stdout",
     "output_type": "stream",
     "text": [
      "Top Sentences\n",
      "['आम्ही गाऊ', 'आम्ही गायला', 'आपण गाऊ', 'आपण गायला', 'आम्ही गात', 'आम्ही बरे', 'आपण गात', 'आम्ही _END', 'आपण बरे', 'आपण _END']\n",
      "\n",
      "\n",
      "Input English sentence: well sing\n",
      "Actual Marathi Translation:  आम्ही गाऊ \n",
      "Beam Predicted Marathi Translation: आम्ही गाऊ\n",
      "Predicted Marathi Translation:  आम्ही गाऊ \n",
      "1.0\n",
      "1.0\n"
     ]
    }
   ],
   "source": [
    "k+=1\n",
    "(input_seq, actual_output), _ = next(val_gen)\n",
    "input_sentence = X_test[k:k+1].values[0]\n",
    "decoded_sentence = decode_sequence(input_seq)[:-4]\n",
    "beam_decoded_sentences = beam_search_decode_sequence(input_seq, n)\n",
    "actual_sentence = y_test[k:k+1].values[0][6:-4]\n",
    "print('Input English sentence:', input_sentence)\n",
    "print('Actual Marathi Translation:', actual_sentence)\n",
    "print('Beam Predicted Marathi Translation:', best_beam(actual_sentence, beam_decoded_sentences))\n",
    "print('Predicted Marathi Translation:', decoded_sentence)\n",
    "\n",
    "beam_score = calculate_bleu_for_beam(actual_sentence, beam_decoded_sentences)\n",
    "score = calculate_bleu(actual_sentence, decoded_sentence)\n",
    "print(beam_score)\n",
    "print(score)"
   ]
  },
  {
   "cell_type": "code",
   "execution_count": 1209,
   "metadata": {},
   "outputs": [
    {
     "name": "stdout",
     "output_type": "stream",
     "text": [
      "Top Sentences\n",
      "['टॉम एका जवळजवळ बुडून गेला', 'टॉम एका जवळजवळ एका गेला', 'टॉम एका जवळजवळ भरपूर गेला', 'टॉम एका जवळजवळ वस्तुसंग्रहालयात गेला', 'टॉम एका जवळजवळ मासे गेला', 'टॉम एका क्षेत्रात बुडून गेला', 'टॉम एका कंपनीत बुडून गेला', 'टॉम एका क्षेत्रात एका गेला', 'टॉम एका जवळजवळ बहुधा गेला', 'टॉम एका क्षेत्रात भरपूर गेला']\n",
      "\n",
      "\n",
      "Input English sentence: tom works as a waiter\n",
      "Actual Marathi Translation:  टॉम वेटरची नोकरी करतो \n",
      "Beam Predicted Marathi Translation: टॉम एका जवळजवळ बुडून गेला\n",
      "Predicted Marathi Translation:  टॉम एका जवळजवळ बुडून गेला \n",
      "0.2\n",
      "0.2\n"
     ]
    }
   ],
   "source": [
    "k+=1\n",
    "(input_seq, actual_output), _ = next(val_gen)\n",
    "input_sentence = X_test[k:k+1].values[0]\n",
    "decoded_sentence = decode_sequence(input_seq)[:-4]\n",
    "beam_decoded_sentences = beam_search_decode_sequence(input_seq, n)\n",
    "actual_sentence = y_test[k:k+1].values[0][6:-4]\n",
    "print('Input English sentence:', input_sentence)\n",
    "print('Actual Marathi Translation:', actual_sentence)\n",
    "print('Beam Predicted Marathi Translation:', best_beam(actual_sentence, beam_decoded_sentences))\n",
    "print('Predicted Marathi Translation:', decoded_sentence)\n",
    "\n",
    "beam_score = calculate_bleu_for_beam(actual_sentence, beam_decoded_sentences)\n",
    "score = calculate_bleu(actual_sentence, decoded_sentence)\n",
    "print(beam_score)\n",
    "print(score)"
   ]
  },
  {
   "cell_type": "code",
   "execution_count": 1210,
   "metadata": {},
   "outputs": [
    {
     "name": "stdout",
     "output_type": "stream",
     "text": [
      "Top Sentences\n",
      "['सिगार ओढतेस का', 'सिगार ओढतोस का', 'सिगार ओढता का', 'सिगार खेळतोस का', 'सिगार का का', 'सिगार खेळतेस का', 'सिगार उघडाल का', 'सिगार उघडू का', 'सिगार उघडशील का', 'सिगार जबाबदार का']\n",
      "\n",
      "\n",
      "Input English sentence: do you smoke cigars\n",
      "Actual Marathi Translation:  सिगार ओढतेस का \n",
      "Beam Predicted Marathi Translation: सिगार ओढतेस का\n",
      "Predicted Marathi Translation:  सिगार ओढतेस का \n",
      "1.0\n",
      "1.0\n"
     ]
    }
   ],
   "source": [
    "k+=1\n",
    "(input_seq, actual_output), _ = next(val_gen)\n",
    "input_sentence = X_test[k:k+1].values[0]\n",
    "decoded_sentence = decode_sequence(input_seq)[:-4]\n",
    "beam_decoded_sentences = beam_search_decode_sequence(input_seq, n)\n",
    "actual_sentence = y_test[k:k+1].values[0][6:-4]\n",
    "print('Input English sentence:', input_sentence)\n",
    "print('Actual Marathi Translation:', actual_sentence)\n",
    "print('Beam Predicted Marathi Translation:', best_beam(actual_sentence, beam_decoded_sentences))\n",
    "print('Predicted Marathi Translation:', decoded_sentence)\n",
    "\n",
    "beam_score = calculate_bleu_for_beam(actual_sentence, beam_decoded_sentences)\n",
    "score = calculate_bleu(actual_sentence, decoded_sentence)\n",
    "print(beam_score)\n",
    "print(score)"
   ]
  },
  {
   "cell_type": "code",
   "execution_count": 1211,
   "metadata": {},
   "outputs": [
    {
     "name": "stdout",
     "output_type": "stream",
     "text": [
      "Top Sentences\n",
      "['फ्रेंच ही सोपी भाषा आहे', 'फ्रेंच ही भाषा भाषा आहे', 'फ्रेंच ही फ्रेंच भाषा आहे', 'फ्रेंच ही मोठी भाषा आहे', 'फ्रेंच ही जास्त भाषा आहे', 'फ्रेंच ही सोपी भाषा आहे', 'फ्रेंच ही भाषा भाषा आहे', 'फ्रेंच ही चूक भाषा आहे', 'फ्रेंच सोपी सोपी भाषा आहे', 'फ्रेंच सोपी भाषा भाषा आहे']\n",
      "\n",
      "\n",
      "Input English sentence: is french an easy language\n",
      "Actual Marathi Translation:  फ्रेंच ही सोपी भाषा आहे का \n",
      "Beam Predicted Marathi Translation: फ्रेंच ही सोपी भाषा आहे\n",
      "Predicted Marathi Translation:  फ्रेंच ही सोपी भाषा आहे \n",
      "0.8187307530779819\n",
      "0.8187307530779819\n"
     ]
    }
   ],
   "source": [
    "k+=1\n",
    "(input_seq, actual_output), _ = next(val_gen)\n",
    "input_sentence = X_test[k:k+1].values[0]\n",
    "decoded_sentence = decode_sequence(input_seq)[:-4]\n",
    "beam_decoded_sentences = beam_search_decode_sequence(input_seq, n)\n",
    "actual_sentence = y_test[k:k+1].values[0][6:-4]\n",
    "print('Input English sentence:', input_sentence)\n",
    "print('Actual Marathi Translation:', actual_sentence)\n",
    "print('Beam Predicted Marathi Translation:', best_beam(actual_sentence, beam_decoded_sentences))\n",
    "print('Predicted Marathi Translation:', decoded_sentence)\n",
    "\n",
    "beam_score = calculate_bleu_for_beam(actual_sentence, beam_decoded_sentences)\n",
    "score = calculate_bleu(actual_sentence, decoded_sentence)\n",
    "print(beam_score)\n",
    "print(score)"
   ]
  },
  {
   "cell_type": "code",
   "execution_count": 1212,
   "metadata": {},
   "outputs": [
    {
     "name": "stdout",
     "output_type": "stream",
     "text": [
      "Top Sentences\n",
      "['मी हवा', 'मी आवडतो', 'मी आवडतं', 'मी घेईन', 'मी आणतो', 'मी तुम्हाला', 'मी तुला', 'मी आवडते', 'मी आवडलं', 'मी समजतं']\n",
      "\n",
      "\n",
      "Input English sentence: ill get it\n",
      "Actual Marathi Translation:  मी उघडते \n",
      "Beam Predicted Marathi Translation: मी हवा\n",
      "Predicted Marathi Translation:  मी हवा \n",
      "0.5\n",
      "0.5\n"
     ]
    }
   ],
   "source": [
    "k+=1\n",
    "(input_seq, actual_output), _ = next(val_gen)\n",
    "input_sentence = X_test[k:k+1].values[0]\n",
    "decoded_sentence = decode_sequence(input_seq)[:-4]\n",
    "beam_decoded_sentences = beam_search_decode_sequence(input_seq, n)\n",
    "actual_sentence = y_test[k:k+1].values[0][6:-4]\n",
    "print('Input English sentence:', input_sentence)\n",
    "print('Actual Marathi Translation:', actual_sentence)\n",
    "print('Beam Predicted Marathi Translation:', best_beam(actual_sentence, beam_decoded_sentences))\n",
    "print('Predicted Marathi Translation:', decoded_sentence)\n",
    "\n",
    "beam_score = calculate_bleu_for_beam(actual_sentence, beam_decoded_sentences)\n",
    "score = calculate_bleu(actual_sentence, decoded_sentence)\n",
    "print(beam_score)\n",
    "print(score)"
   ]
  },
  {
   "cell_type": "code",
   "execution_count": 1213,
   "metadata": {},
   "outputs": [
    {
     "name": "stdout",
     "output_type": "stream",
     "text": [
      "Top Sentences\n",
      "['आम्ही त्यांना ओळखत नाही', 'आपण त्यांना ओळखत नाही', 'आम्ही त्याला ओळखत नाही', 'आपण त्याला ओळखत नाही', 'आम्ही हे ओळखत नाही', 'आपण हे ओळखत नाही', 'आम्ही त्यांना माहीत नाही', 'आम्ही तिला ओळखत नाही', 'आपण त्यांना माहीत नाही', 'आम्ही तसं ओळखत नाही']\n",
      "\n",
      "\n",
      "Input English sentence: we do not know her\n",
      "Actual Marathi Translation:  आम्ही तिला ओळखत नाही \n",
      "Beam Predicted Marathi Translation: आम्ही तिला ओळखत नाही\n",
      "Predicted Marathi Translation:  आम्ही त्यांना ओळखत नाही \n",
      "1.0\n",
      "0.75\n"
     ]
    }
   ],
   "source": [
    "k+=1\n",
    "(input_seq, actual_output), _ = next(val_gen)\n",
    "input_sentence = X_test[k:k+1].values[0]\n",
    "decoded_sentence = decode_sequence(input_seq)[:-4]\n",
    "beam_decoded_sentences = beam_search_decode_sequence(input_seq, n)\n",
    "actual_sentence = y_test[k:k+1].values[0][6:-4]\n",
    "print('Input English sentence:', input_sentence)\n",
    "print('Actual Marathi Translation:', actual_sentence)\n",
    "print('Beam Predicted Marathi Translation:', best_beam(actual_sentence, beam_decoded_sentences))\n",
    "print('Predicted Marathi Translation:', decoded_sentence)\n",
    "\n",
    "beam_score = calculate_bleu_for_beam(actual_sentence, beam_decoded_sentences)\n",
    "score = calculate_bleu(actual_sentence, decoded_sentence)\n",
    "print(beam_score)\n",
    "print(score)"
   ]
  },
  {
   "cell_type": "code",
   "execution_count": 1214,
   "metadata": {},
   "outputs": [
    {
     "name": "stdout",
     "output_type": "stream",
     "text": [
      "Top Sentences\n",
      "['एका किलोमीटरमध्ये एक हजार मीटर असतात', 'एका हजार एक हजार मीटर असतात', 'एका हातात एक हजार मीटर असतात', 'एका अमेरिकन एक हजार मीटर असतात', 'एका चौरस एक हजार मीटर असतात', 'एका बेटावर एक हजार मीटर असतात', 'एका शब्दात एक हजार मीटर असतात', 'एका किलोमीटरमध्ये एक हजार येन असतात', 'एका मोठ्या एक हजार मीटर असतात', 'एका कवितेचा एक हजार मीटर असतात']\n",
      "\n",
      "\n",
      "Input English sentence: there are a thousand meters in a kilometer\n",
      "Actual Marathi Translation:  एका किलोमीटरमध्ये एक हजार मीटर असतात \n",
      "Beam Predicted Marathi Translation: एका किलोमीटरमध्ये एक हजार मीटर असतात\n",
      "Predicted Marathi Translation:  एका किलोमीटरमध्ये एक हजार मीटर असतात \n",
      "1.0\n",
      "1.0\n"
     ]
    }
   ],
   "source": [
    "k+=1\n",
    "(input_seq, actual_output), _ = next(val_gen)\n",
    "input_sentence = X_test[k:k+1].values[0]\n",
    "decoded_sentence = decode_sequence(input_seq)[:-4]\n",
    "beam_decoded_sentences = beam_search_decode_sequence(input_seq, n)\n",
    "actual_sentence = y_test[k:k+1].values[0][6:-4]\n",
    "print('Input English sentence:', input_sentence)\n",
    "print('Actual Marathi Translation:', actual_sentence)\n",
    "print('Beam Predicted Marathi Translation:', best_beam(actual_sentence, beam_decoded_sentences))\n",
    "print('Predicted Marathi Translation:', decoded_sentence)\n",
    "\n",
    "beam_score = calculate_bleu_for_beam(actual_sentence, beam_decoded_sentences)\n",
    "score = calculate_bleu(actual_sentence, decoded_sentence)\n",
    "print(beam_score)\n",
    "print(score)"
   ]
  },
  {
   "cell_type": "code",
   "execution_count": 1215,
   "metadata": {},
   "outputs": [
    {
     "name": "stdout",
     "output_type": "stream",
     "text": [
      "Top Sentences\n",
      "['तिने त्याला ठार बाजूला सांगितलं नाहीत ते धावू', 'तिने त्याला ठार बाजूला सांगितलं नाहीत ते धावू', 'तिने त्याला ठार बाजूला सांगितलं म्हणून ते धावू', 'तिने त्याला ठार बाजूला सांगितलं नाहीत ती धावू', 'तिने त्याला ठार माणसाशी सांगितलं नाहीत ते धावू', 'तिने त्याला ठार बाजूला सांगितलं नाहीत ते धावू', 'त्यांनी त्याला ठार बाजूला सांगितलं नाहीत ते धावू', 'तिने त्याला ठार बाजूला सांगितलं नाहीत त्या धावू', 'तिने त्याला ठार बाजूला त्याला नाहीत ते धावू', 'तिने त्याला ठार बाजूला सांगितलं नाहीत तो धावू']\n",
      "\n",
      "\n",
      "Input English sentence: he took her aside and told her the news\n",
      "Actual Marathi Translation:  त्याने त्यांना बाजूला करून त्यांना बातमी सांगितली \n",
      "Beam Predicted Marathi Translation: तिने त्याला ठार बाजूला सांगितलं नाहीत ते धावू\n",
      "Predicted Marathi Translation:  तिने त्याला ठार बाजूला सांगितलं नाहीत ते धावू न\n",
      "0.12500000000000003\n",
      "0.11111111111111109\n"
     ]
    }
   ],
   "source": [
    "k+=1\n",
    "(input_seq, actual_output), _ = next(val_gen)\n",
    "input_sentence = X_test[k:k+1].values[0]\n",
    "decoded_sentence = decode_sequence(input_seq)[:-4]\n",
    "beam_decoded_sentences = beam_search_decode_sequence(input_seq, n)\n",
    "actual_sentence = y_test[k:k+1].values[0][6:-4]\n",
    "print('Input English sentence:', input_sentence)\n",
    "print('Actual Marathi Translation:', actual_sentence)\n",
    "print('Beam Predicted Marathi Translation:', best_beam(actual_sentence, beam_decoded_sentences))\n",
    "print('Predicted Marathi Translation:', decoded_sentence)\n",
    "\n",
    "beam_score = calculate_bleu_for_beam(actual_sentence, beam_decoded_sentences)\n",
    "score = calculate_bleu(actual_sentence, decoded_sentence)\n",
    "print(beam_score)\n",
    "print(score)"
   ]
  },
  {
   "cell_type": "code",
   "execution_count": 1216,
   "metadata": {},
   "outputs": [
    {
     "name": "stdout",
     "output_type": "stream",
     "text": [
      "Top Sentences\n",
      "['आपल्याला टॉमसारख्या अधिक लोकांची गरज आहे', 'आम्हाला टॉमसारख्या अधिक लोकांची गरज आहे', 'आपल्याला अजून अधिक लोकांची गरज आहे', 'आम्हाला अजून अधिक लोकांची गरज आहे', 'आपल्याला टॉमसारख्या अजून लोकांची गरज आहे', 'आम्हाला टॉमसारख्या अजून लोकांची गरज आहे', 'आपल्याला टॉमसारख्या अधिक बर्\\u200dयापैकी गरज आहे', 'आम्हाला टॉमसारख्या अधिक बर्\\u200dयापैकी गरज आहे', 'आपल्याला अजून अजून लोकांची गरज आहे', 'आम्हाला अजून अजून लोकांची गरज आहे']\n",
      "\n",
      "\n",
      "Input English sentence: we need more people like tom\n",
      "Actual Marathi Translation:  आपल्याला टॉमसारख्या अधिक लोकांची गरज आहे \n",
      "Beam Predicted Marathi Translation: आपल्याला टॉमसारख्या अधिक लोकांची गरज आहे\n",
      "Predicted Marathi Translation:  आपल्याला टॉमसारख्या अधिक लोकांची गरज आहे \n",
      "1.0\n",
      "1.0\n"
     ]
    }
   ],
   "source": [
    "k+=1\n",
    "(input_seq, actual_output), _ = next(val_gen)\n",
    "input_sentence = X_test[k:k+1].values[0]\n",
    "decoded_sentence = decode_sequence(input_seq)[:-4]\n",
    "beam_decoded_sentences = beam_search_decode_sequence(input_seq, n)\n",
    "actual_sentence = y_test[k:k+1].values[0][6:-4]\n",
    "print('Input English sentence:', input_sentence)\n",
    "print('Actual Marathi Translation:', actual_sentence)\n",
    "print('Beam Predicted Marathi Translation:', best_beam(actual_sentence, beam_decoded_sentences))\n",
    "print('Predicted Marathi Translation:', decoded_sentence)\n",
    "\n",
    "beam_score = calculate_bleu_for_beam(actual_sentence, beam_decoded_sentences)\n",
    "score = calculate_bleu(actual_sentence, decoded_sentence)\n",
    "print(beam_score)\n",
    "print(score)"
   ]
  },
  {
   "cell_type": "code",
   "execution_count": 1217,
   "metadata": {},
   "outputs": [
    {
     "name": "stdout",
     "output_type": "stream",
     "text": [
      "Top Sentences\n",
      "['आमच्याकडे एक कप पाणी आहे', 'आमच्याकडे जरासं कप पाणी आहे', 'आमच्याकडे एक कप पाणी होतं', 'आपल्याकडे एक कप पाणी आहे', 'आमच्याकडे एक स्कर्ट पाणी आहे', 'आमच्याकडे जरासं कप पाणी होतं', 'आपल्याकडे जरासं कप पाणी आहे', 'आमच्याकडे जरासं स्कर्ट पाणी आहे', 'आपल्याकडे एक कप पाणी होतं', 'आमच्याकडे एक स्कर्ट पाणी होतं']\n",
      "\n",
      "\n",
      "Input English sentence: we had a little water\n",
      "Actual Marathi Translation:  आमच्याकडे थोडंसं पाणी होतं \n",
      "Beam Predicted Marathi Translation: आमच्याकडे एक कप पाणी होतं\n",
      "Predicted Marathi Translation:  आमच्याकडे एक कप पाणी आहे \n",
      "0.6\n",
      "0.4\n"
     ]
    }
   ],
   "source": [
    "k+=1\n",
    "(input_seq, actual_output), _ = next(val_gen)\n",
    "input_sentence = X_test[k:k+1].values[0]\n",
    "decoded_sentence = decode_sequence(input_seq)[:-4]\n",
    "beam_decoded_sentences = beam_search_decode_sequence(input_seq, n)\n",
    "actual_sentence = y_test[k:k+1].values[0][6:-4]\n",
    "print('Input English sentence:', input_sentence)\n",
    "print('Actual Marathi Translation:', actual_sentence)\n",
    "print('Beam Predicted Marathi Translation:', best_beam(actual_sentence, beam_decoded_sentences))\n",
    "print('Predicted Marathi Translation:', decoded_sentence)\n",
    "\n",
    "beam_score = calculate_bleu_for_beam(actual_sentence, beam_decoded_sentences)\n",
    "score = calculate_bleu(actual_sentence, decoded_sentence)\n",
    "print(beam_score)\n",
    "print(score)"
   ]
  },
  {
   "cell_type": "code",
   "execution_count": 1218,
   "metadata": {},
   "outputs": [
    {
     "name": "stdout",
     "output_type": "stream",
     "text": [
      "Top Sentences\n",
      "['तू घरी आपल्या बायकोबरोबर असायला हवं', 'तू तुझ्या आपल्या बायकोबरोबर असायला हवं', 'तू घरी नाताळाची बायकोबरोबर असायला हवं', 'तू तुझ्या नाताळाची बायकोबरोबर असायला हवं', 'तू घरी तुझ्या बायकोबरोबर असायला हवं', 'तू तुझ्या तुझ्या बायकोबरोबर असायला हवं', 'तू घरी घर बायकोबरोबर असायला हवं', 'तू तुझ्या घर बायकोबरोबर असायला हवं', 'तुझ्या घरी आपल्या बायकोबरोबर असायला हवं', 'तुम्ही घरी आपल्या बायकोबरोबर असायला हवं']\n",
      "\n",
      "\n",
      "Input English sentence: you should be at home with your wife\n",
      "Actual Marathi Translation:  तुला घरी तुझ्या बायकोबरोबर असायला हवं \n",
      "Beam Predicted Marathi Translation: तू घरी तुझ्या बायकोबरोबर असायला हवं\n",
      "Predicted Marathi Translation:  तू घरी आपल्या बायकोबरोबर असायला हवं \n",
      "0.8333333333333334\n",
      "0.6666666666666666\n"
     ]
    }
   ],
   "source": [
    "k+=1\n",
    "(input_seq, actual_output), _ = next(val_gen)\n",
    "input_sentence = X_test[k:k+1].values[0]\n",
    "decoded_sentence = decode_sequence(input_seq)[:-4]\n",
    "beam_decoded_sentences = beam_search_decode_sequence(input_seq, n)\n",
    "actual_sentence = y_test[k:k+1].values[0][6:-4]\n",
    "print('Input English sentence:', input_sentence)\n",
    "print('Actual Marathi Translation:', actual_sentence)\n",
    "print('Beam Predicted Marathi Translation:', best_beam(actual_sentence, beam_decoded_sentences))\n",
    "print('Predicted Marathi Translation:', decoded_sentence)\n",
    "\n",
    "beam_score = calculate_bleu_for_beam(actual_sentence, beam_decoded_sentences)\n",
    "score = calculate_bleu(actual_sentence, decoded_sentence)\n",
    "print(beam_score)\n",
    "print(score)"
   ]
  },
  {
   "cell_type": "code",
   "execution_count": 1219,
   "metadata": {},
   "outputs": [
    {
     "name": "stdout",
     "output_type": "stream",
     "text": [
      "Top Sentences\n",
      "['तू आज अभ्यास करत आहेस का', 'तू इथे अभ्यास करत आहेस का', 'तुम्ही आज अभ्यास करत आहेस का', 'तू आज अभ्यास करत आहेस ना', 'तुम्ही इथे अभ्यास करत आहेस का', 'तू आज अभ्यास करत होतीस का', 'तू इथे अभ्यास करत आहेस ना', 'तू आज अभ्यास करत होतास का', 'तू आज तसं करत आहेस का', 'तू आज होतीस करत आहेस का']\n",
      "\n",
      "\n",
      "Input English sentence: youre happy here arent you\n",
      "Actual Marathi Translation:  तू इथे खूश आहेस ना \n",
      "Beam Predicted Marathi Translation: तू इथे अभ्यास करत आहेस ना\n",
      "Predicted Marathi Translation:  तू आज अभ्यास करत आहेस का \n",
      "0.6666666666666666\n",
      "0.3333333333333333\n"
     ]
    }
   ],
   "source": [
    "k+=1\n",
    "(input_seq, actual_output), _ = next(val_gen)\n",
    "input_sentence = X_test[k:k+1].values[0]\n",
    "decoded_sentence = decode_sequence(input_seq)[:-4]\n",
    "beam_decoded_sentences = beam_search_decode_sequence(input_seq, n)\n",
    "actual_sentence = y_test[k:k+1].values[0][6:-4]\n",
    "print('Input English sentence:', input_sentence)\n",
    "print('Actual Marathi Translation:', actual_sentence)\n",
    "print('Beam Predicted Marathi Translation:', best_beam(actual_sentence, beam_decoded_sentences))\n",
    "print('Predicted Marathi Translation:', decoded_sentence)\n",
    "\n",
    "beam_score = calculate_bleu_for_beam(actual_sentence, beam_decoded_sentences)\n",
    "score = calculate_bleu(actual_sentence, decoded_sentence)\n",
    "print(beam_score)\n",
    "print(score)"
   ]
  },
  {
   "cell_type": "code",
   "execution_count": 1220,
   "metadata": {},
   "outputs": [
    {
     "name": "stdout",
     "output_type": "stream",
     "text": [
      "Top Sentences\n",
      "['टॉमने खाली आला नाही', 'टॉमने सुरुवात आला नाही', 'टॉमने खाली केलं नाही', 'टॉमने खाली नाही नाही', 'टॉमने सुरुवात केलं नाही', 'टॉमने सुरुवात नाही नाही', 'टॉमने सुरू आला नाही', 'टॉमने खाली राहिला नाही', 'टॉमने खाली नव्हती नाही', 'टॉमने सुरुवात राहिला नाही']\n",
      "\n",
      "\n",
      "Input English sentence: tom started reading\n",
      "Actual Marathi Translation:  टॉमने वाचायला सुरुवात केली \n",
      "Beam Predicted Marathi Translation: टॉमने सुरुवात आला नाही\n",
      "Predicted Marathi Translation:  टॉमने खाली आला नाही \n",
      "0.5\n",
      "0.25\n"
     ]
    }
   ],
   "source": [
    "k+=1\n",
    "(input_seq, actual_output), _ = next(val_gen)\n",
    "input_sentence = X_test[k:k+1].values[0]\n",
    "decoded_sentence = decode_sequence(input_seq)[:-4]\n",
    "beam_decoded_sentences = beam_search_decode_sequence(input_seq, n)\n",
    "actual_sentence = y_test[k:k+1].values[0][6:-4]\n",
    "print('Input English sentence:', input_sentence)\n",
    "print('Actual Marathi Translation:', actual_sentence)\n",
    "print('Beam Predicted Marathi Translation:', best_beam(actual_sentence, beam_decoded_sentences))\n",
    "print('Predicted Marathi Translation:', decoded_sentence)\n",
    "\n",
    "beam_score = calculate_bleu_for_beam(actual_sentence, beam_decoded_sentences)\n",
    "score = calculate_bleu(actual_sentence, decoded_sentence)\n",
    "print(beam_score)\n",
    "print(score)"
   ]
  },
  {
   "cell_type": "code",
   "execution_count": 1221,
   "metadata": {},
   "outputs": [
    {
     "name": "stdout",
     "output_type": "stream",
     "text": [
      "Top Sentences\n",
      "['कपडे काढा', 'कपडे काढ', 'कपडे घ्या', 'तुझे काढा', 'तुमचे काढा', 'तुझे काढ', 'तुमचे काढ', 'कपडे घे', 'खिश्यात काढा', 'तुझा काढा']\n",
      "\n",
      "\n",
      "Input English sentence: take off your clothes\n",
      "Actual Marathi Translation:  कपडे काढ \n",
      "Beam Predicted Marathi Translation: कपडे काढ\n",
      "Predicted Marathi Translation:  कपडे काढा \n",
      "1.0\n",
      "0.5\n"
     ]
    }
   ],
   "source": [
    "k+=1\n",
    "(input_seq, actual_output), _ = next(val_gen)\n",
    "input_sentence = X_test[k:k+1].values[0]\n",
    "decoded_sentence = decode_sequence(input_seq)[:-4]\n",
    "beam_decoded_sentences = beam_search_decode_sequence(input_seq, n)\n",
    "actual_sentence = y_test[k:k+1].values[0][6:-4]\n",
    "print('Input English sentence:', input_sentence)\n",
    "print('Actual Marathi Translation:', actual_sentence)\n",
    "print('Beam Predicted Marathi Translation:', best_beam(actual_sentence, beam_decoded_sentences))\n",
    "print('Predicted Marathi Translation:', decoded_sentence)\n",
    "\n",
    "beam_score = calculate_bleu_for_beam(actual_sentence, beam_decoded_sentences)\n",
    "score = calculate_bleu(actual_sentence, decoded_sentence)\n",
    "print(beam_score)\n",
    "print(score)"
   ]
  },
  {
   "cell_type": "code",
   "execution_count": 1222,
   "metadata": {
    "scrolled": true
   },
   "outputs": [
    {
     "name": "stdout",
     "output_type": "stream",
     "text": [
      "Top Sentences\n",
      "['आम्ही त्यांना पाहिलं आहे', 'आम्ही त्यांना बघितलं आहे', 'आपण त्यांना पाहिलं आहे', 'आपण त्यांना बघितलं आहे', 'आम्ही तिला पाहिलं आहे', 'आम्ही तिला बघितलं आहे', 'आम्ही त्याला पाहिलं आहे', 'आम्ही त्याला बघितलं आहे', 'आपण तिला पाहिलं आहे', 'आपण तिला बघितलं आहे']\n",
      "\n",
      "\n",
      "Input English sentence: weve seen her\n",
      "Actual Marathi Translation:  आम्ही तिला पाहिलं आहे \n",
      "Beam Predicted Marathi Translation: आम्ही तिला पाहिलं आहे\n",
      "Predicted Marathi Translation:  आम्ही त्यांना पाहिलं आहे \n",
      "1.0\n",
      "0.75\n"
     ]
    }
   ],
   "source": [
    "k+=1\n",
    "(input_seq, actual_output), _ = next(val_gen)\n",
    "input_sentence = X_test[k:k+1].values[0]\n",
    "decoded_sentence = decode_sequence(input_seq)[:-4]\n",
    "beam_decoded_sentences = beam_search_decode_sequence(input_seq, n)\n",
    "actual_sentence = y_test[k:k+1].values[0][6:-4]\n",
    "print('Input English sentence:', input_sentence)\n",
    "print('Actual Marathi Translation:', actual_sentence)\n",
    "print('Beam Predicted Marathi Translation:', best_beam(actual_sentence, beam_decoded_sentences))\n",
    "print('Predicted Marathi Translation:', decoded_sentence)\n",
    "\n",
    "beam_score = calculate_bleu_for_beam(actual_sentence, beam_decoded_sentences)\n",
    "score = calculate_bleu(actual_sentence, decoded_sentence)\n",
    "print(beam_score)\n",
    "print(score)"
   ]
  },
  {
   "cell_type": "code",
   "execution_count": 1223,
   "metadata": {},
   "outputs": [
    {
     "name": "stdout",
     "output_type": "stream",
     "text": [
      "Top Sentences\n",
      "['टॉम कुठे जन्माला आला होता', 'टॉम कुठे जन्माला आले होता', 'टॉम कुठे जन्मलेला आला होता', 'टॉम कुठे जन्माला आलो होता', 'टॉम कुठे जन्मलेले आला होता', 'टॉम कुठे जन्मलेला आले होता', 'टॉम कुठे जन्मलेले आले होता', 'टॉम कुठे जन्मलेला आलो होता', 'टॉम कुठे जन्माला आला _END', 'टॉम कुठे जन्माला गेला होता']\n",
      "\n",
      "\n",
      "Input English sentence: where was tom born\n",
      "Actual Marathi Translation:  टॉम कुठे जन्मलेले \n",
      "Beam Predicted Marathi Translation: टॉम कुठे जन्मलेले आला होता\n",
      "Predicted Marathi Translation:  टॉम कुठे जन्माला आला होता \n",
      "0.6\n",
      "0.4\n"
     ]
    }
   ],
   "source": [
    "k+=1\n",
    "(input_seq, actual_output), _ = next(val_gen)\n",
    "input_sentence = X_test[k:k+1].values[0]\n",
    "decoded_sentence = decode_sequence(input_seq)[:-4]\n",
    "beam_decoded_sentences = beam_search_decode_sequence(input_seq, n)\n",
    "actual_sentence = y_test[k:k+1].values[0][6:-4]\n",
    "print('Input English sentence:', input_sentence)\n",
    "print('Actual Marathi Translation:', actual_sentence)\n",
    "print('Beam Predicted Marathi Translation:', best_beam(actual_sentence, beam_decoded_sentences))\n",
    "print('Predicted Marathi Translation:', decoded_sentence)\n",
    "\n",
    "beam_score = calculate_bleu_for_beam(actual_sentence, beam_decoded_sentences)\n",
    "score = calculate_bleu(actual_sentence, decoded_sentence)\n",
    "print(beam_score)\n",
    "print(score)"
   ]
  },
  {
   "cell_type": "code",
   "execution_count": 1224,
   "metadata": {},
   "outputs": [
    {
     "name": "stdout",
     "output_type": "stream",
     "text": [
      "Top Sentences\n",
      "['टॉम माझा बॉयफ्रेंड तेव्हा मी संगीतकार आहे', 'टॉम माझा बॉयफ्रेंड होता मी संगीतकार आहे', 'टॉम माझा बॉयफ्रेंड जिथे मी संगीतकार आहे', 'टॉम माझा बॉयफ्रेंड तेव्हा माझा संगीतकार आहे', 'टॉम माझा बॉयफ्रेंड होता माझा संगीतकार आहे', 'टॉम माझा बॉयफ्रेंड जिथे माझा संगीतकार आहे', 'टॉम माझा बॉयफ्रेंड तेव्हा पूर्णपणे संगीतकार आहे', 'टॉम माझा बॉयफ्रेंड तेव्हा कोण संगीतकार आहे', 'टॉम माझा बॉयफ्रेंड तेव्हा वेडा संगीतकार आहे', 'टॉम माझा बॉयफ्रेंड कुठे मी संगीतकार आहे']\n",
      "\n",
      "\n",
      "Input English sentence: tom was my first boyfriend\n",
      "Actual Marathi Translation:  टॉम माझा पहिला बॉयफ्रेंड होता \n",
      "Beam Predicted Marathi Translation: टॉम माझा बॉयफ्रेंड होता मी संगीतकार आहे\n",
      "Predicted Marathi Translation:  टॉम माझा बॉयफ्रेंड तेव्हा मी संगीतकार आहे \n",
      "0.5714285714285714\n",
      "0.42857142857142855\n"
     ]
    }
   ],
   "source": [
    "k+=1\n",
    "(input_seq, actual_output), _ = next(val_gen)\n",
    "input_sentence = X_test[k:k+1].values[0]\n",
    "decoded_sentence = decode_sequence(input_seq)[:-4]\n",
    "beam_decoded_sentences = beam_search_decode_sequence(input_seq, n)\n",
    "actual_sentence = y_test[k:k+1].values[0][6:-4]\n",
    "print('Input English sentence:', input_sentence)\n",
    "print('Actual Marathi Translation:', actual_sentence)\n",
    "print('Beam Predicted Marathi Translation:', best_beam(actual_sentence, beam_decoded_sentences))\n",
    "print('Predicted Marathi Translation:', decoded_sentence)\n",
    "\n",
    "beam_score = calculate_bleu_for_beam(actual_sentence, beam_decoded_sentences)\n",
    "score = calculate_bleu(actual_sentence, decoded_sentence)\n",
    "print(beam_score)\n",
    "print(score)"
   ]
  },
  {
   "cell_type": "code",
   "execution_count": 1225,
   "metadata": {},
   "outputs": [
    {
     "name": "stdout",
     "output_type": "stream",
     "text": [
      "Top Sentences\n",
      "['ड्वाइट आइसेनहोवर साली राज्याध्यक्ष म्हणून निवडून', 'ड्वाइट आइसेनहोवर साली राज्याध्यक्ष म्हणून निवडून', 'ड्वाइट आइसेनहोवर साली साली म्हणून निवडून', 'ड्वाइट आइसेनहोवर साली साली म्हणून निवडून', 'ड्वाइट आइसेनहोवर साली पतंग म्हणून निवडून', 'ड्वाइट आइसेनहोवर साली येथे म्हणून निवडून', 'ड्वाइट आइसेनहोवर साली चर्चमध्ये म्हणून निवडून', 'ड्वाइट आइसेनहोवर साली चोराला म्हणून निवडून', 'ड्वाइट आइसेनहोवर साली रशियाने म्हणून निवडून', 'ड्वाइट आइसेनहोवर साली पतंग म्हणून निवडून']\n",
      "\n",
      "\n",
      "Input English sentence: dwight eisenhower was elected president in\n",
      "Actual Marathi Translation:  ड्वाइट आइसेनहोवर साली राज्याध्यक्ष म्हणून निवडून आले \n",
      "Beam Predicted Marathi Translation: ड्वाइट आइसेनहोवर साली राज्याध्यक्ष म्हणून निवडून\n",
      "Predicted Marathi Translation:  ड्वाइट आइसेनहोवर साली राज्याध्यक्ष म्हणून निवडून\n",
      "0.846481724890614\n",
      "0.846481724890614\n"
     ]
    }
   ],
   "source": [
    "k+=1\n",
    "(input_seq, actual_output), _ = next(val_gen)\n",
    "input_sentence = X_test[k:k+1].values[0]\n",
    "decoded_sentence = decode_sequence(input_seq)[:-4]\n",
    "beam_decoded_sentences = beam_search_decode_sequence(input_seq, n)\n",
    "actual_sentence = y_test[k:k+1].values[0][6:-4]\n",
    "print('Input English sentence:', input_sentence)\n",
    "print('Actual Marathi Translation:', actual_sentence)\n",
    "print('Beam Predicted Marathi Translation:', best_beam(actual_sentence, beam_decoded_sentences))\n",
    "print('Predicted Marathi Translation:', decoded_sentence)\n",
    "\n",
    "beam_score = calculate_bleu_for_beam(actual_sentence, beam_decoded_sentences)\n",
    "score = calculate_bleu(actual_sentence, decoded_sentence)\n",
    "print(beam_score)\n",
    "print(score)"
   ]
  },
  {
   "cell_type": "code",
   "execution_count": 1226,
   "metadata": {},
   "outputs": [
    {
     "name": "stdout",
     "output_type": "stream",
     "text": [
      "Top Sentences\n",
      "['तुमच्या वर्गात किती मुलं आहेत', 'तुझ्या वर्गात किती मुलं आहेत', 'तुमच्या वर्गात मुली मुलं आहेत', 'तुमच्या वर्गात मुलं मुलं आहेत', 'तुझ्या वर्गात मुली मुलं आहेत', 'तुझ्या वर्गात मुलं मुलं आहेत', 'तुमच्या मुली किती मुलं आहेत', 'तुमच्या वर्गात कोणत्या मुलं आहेत', 'तुमच्या वर्गात कोणती मुलं आहेत', 'तुमच्या वर्गात कुठे मुलं आहेत']\n",
      "\n",
      "\n",
      "Input English sentence: how many boys are in your class\n",
      "Actual Marathi Translation:  तुमच्या वर्गात मुलं किती आहेत \n",
      "Beam Predicted Marathi Translation: तुमच्या वर्गात किती मुलं आहेत\n",
      "Predicted Marathi Translation:  तुमच्या वर्गात किती मुलं आहेत \n",
      "1.0\n",
      "1.0\n"
     ]
    }
   ],
   "source": [
    "k+=1\n",
    "(input_seq, actual_output), _ = next(val_gen)\n",
    "input_sentence = X_test[k:k+1].values[0]\n",
    "decoded_sentence = decode_sequence(input_seq)[:-4]\n",
    "beam_decoded_sentences = beam_search_decode_sequence(input_seq, n)\n",
    "actual_sentence = y_test[k:k+1].values[0][6:-4]\n",
    "print('Input English sentence:', input_sentence)\n",
    "print('Actual Marathi Translation:', actual_sentence)\n",
    "print('Beam Predicted Marathi Translation:', best_beam(actual_sentence, beam_decoded_sentences))\n",
    "print('Predicted Marathi Translation:', decoded_sentence)\n",
    "\n",
    "beam_score = calculate_bleu_for_beam(actual_sentence, beam_decoded_sentences)\n",
    "score = calculate_bleu(actual_sentence, decoded_sentence)\n",
    "print(beam_score)\n",
    "print(score)"
   ]
  },
  {
   "cell_type": "code",
   "execution_count": 1227,
   "metadata": {},
   "outputs": [
    {
     "name": "stdout",
     "output_type": "stream",
     "text": [
      "Top Sentences\n",
      "['इंग्रजी बोलू देणं अशक्य होतं', 'इंग्रजी बोलू देणं कठीण होतं', 'लहान बोलू देणं अशक्य होतं', 'इंग्रजी बोलू वाचता अशक्य होतं', 'लहान बोलू देणं कठीण होतं', 'इंग्रजी बोलू वाचता कठीण होतं', 'इंग्रजी वाचता देणं अशक्य होतं', 'लहान बोलू वाचता अशक्य होतं', 'इंग्रजी बोलणं देणं अशक्य होतं', 'इंग्रजी बोलू देणं अशक्य _END']\n",
      "\n",
      "\n",
      "Input English sentence: is it hard to speak english\n",
      "Actual Marathi Translation:  इंग्रजी बोलणं कठीण असतं का \n",
      "Beam Predicted Marathi Translation: इंग्रजी बोलू देणं कठीण होतं\n",
      "Predicted Marathi Translation:  इंग्रजी बोलू देणं अशक्य होतं \n",
      "0.4\n",
      "0.2\n"
     ]
    }
   ],
   "source": [
    "k+=1\n",
    "(input_seq, actual_output), _ = next(val_gen)\n",
    "input_sentence = X_test[k:k+1].values[0]\n",
    "decoded_sentence = decode_sequence(input_seq)[:-4]\n",
    "beam_decoded_sentences = beam_search_decode_sequence(input_seq, n)\n",
    "actual_sentence = y_test[k:k+1].values[0][6:-4]\n",
    "print('Input English sentence:', input_sentence)\n",
    "print('Actual Marathi Translation:', actual_sentence)\n",
    "print('Beam Predicted Marathi Translation:', best_beam(actual_sentence, beam_decoded_sentences))\n",
    "print('Predicted Marathi Translation:', decoded_sentence)\n",
    "\n",
    "beam_score = calculate_bleu_for_beam(actual_sentence, beam_decoded_sentences)\n",
    "score = calculate_bleu(actual_sentence, decoded_sentence)\n",
    "print(beam_score)\n",
    "print(score)"
   ]
  },
  {
   "cell_type": "code",
   "execution_count": 1228,
   "metadata": {},
   "outputs": [
    {
     "name": "stdout",
     "output_type": "stream",
     "text": [
      "Top Sentences\n",
      "['त्यांना काय केस हवा होता', 'त्याला काय केस हवा होता', 'त्यांना परग्रहवासी केस हवा होता', 'त्यांना काय आवडतो हवा होता', 'त्यांना कोणत्या केस हवा होता', 'त्याला परग्रहवासी केस हवा होता', 'त्याला काय आवडतो हवा होता', 'त्यांना काय कपडे हवा होता', 'त्यांना काय शत्रू हवा होता', 'त्यांना परग्रहवासी आवडतो हवा होता']\n",
      "\n",
      "\n",
      "Input English sentence: what is he after\n",
      "Actual Marathi Translation:  त्याला काय हवं आहे \n",
      "Beam Predicted Marathi Translation: त्याला काय केस हवा होता\n",
      "Predicted Marathi Translation:  त्यांना काय केस हवा होता \n",
      "0.4\n",
      "0.2\n"
     ]
    }
   ],
   "source": [
    "k+=1\n",
    "(input_seq, actual_output), _ = next(val_gen)\n",
    "input_sentence = X_test[k:k+1].values[0]\n",
    "decoded_sentence = decode_sequence(input_seq)[:-4]\n",
    "beam_decoded_sentences = beam_search_decode_sequence(input_seq, n)\n",
    "actual_sentence = y_test[k:k+1].values[0][6:-4]\n",
    "print('Input English sentence:', input_sentence)\n",
    "print('Actual Marathi Translation:', actual_sentence)\n",
    "print('Beam Predicted Marathi Translation:', best_beam(actual_sentence, beam_decoded_sentences))\n",
    "print('Predicted Marathi Translation:', decoded_sentence)\n",
    "\n",
    "beam_score = calculate_bleu_for_beam(actual_sentence, beam_decoded_sentences)\n",
    "score = calculate_bleu(actual_sentence, decoded_sentence)\n",
    "print(beam_score)\n",
    "print(score)"
   ]
  },
  {
   "cell_type": "code",
   "execution_count": 1229,
   "metadata": {},
   "outputs": [
    {
     "name": "stdout",
     "output_type": "stream",
     "text": [
      "Top Sentences\n",
      "['तो टीव्ही बघतोय', 'ते टीव्ही बघतोय', 'तो टीव्ही बघत', 'ते टीव्ही बघत', 'तो टीव्हीवर बघतोय', 'ते टीव्हीवर बघतोय', 'तो टीव्हीवर बघत', 'ते टीव्हीवर बघत', 'त्या टीव्ही बघतोय', 'त्या टीव्ही बघत']\n",
      "\n",
      "\n",
      "Input English sentence: he is watching tv\n",
      "Actual Marathi Translation:  तो टीव्ही बघतोय \n",
      "Beam Predicted Marathi Translation: तो टीव्ही बघतोय\n",
      "Predicted Marathi Translation:  तो टीव्ही बघतोय \n",
      "1.0\n",
      "1.0\n"
     ]
    }
   ],
   "source": [
    "k+=1\n",
    "(input_seq, actual_output), _ = next(val_gen)\n",
    "input_sentence = X_test[k:k+1].values[0]\n",
    "decoded_sentence = decode_sequence(input_seq)[:-4]\n",
    "beam_decoded_sentences = beam_search_decode_sequence(input_seq, n)\n",
    "actual_sentence = y_test[k:k+1].values[0][6:-4]\n",
    "print('Input English sentence:', input_sentence)\n",
    "print('Actual Marathi Translation:', actual_sentence)\n",
    "print('Beam Predicted Marathi Translation:', best_beam(actual_sentence, beam_decoded_sentences))\n",
    "print('Predicted Marathi Translation:', decoded_sentence)\n",
    "\n",
    "beam_score = calculate_bleu_for_beam(actual_sentence, beam_decoded_sentences)\n",
    "score = calculate_bleu(actual_sentence, decoded_sentence)\n",
    "print(beam_score)\n",
    "print(score)"
   ]
  },
  {
   "cell_type": "code",
   "execution_count": 1230,
   "metadata": {},
   "outputs": [
    {
     "name": "stdout",
     "output_type": "stream",
     "text": [
      "Top Sentences\n",
      "['मी टॉमला जवळजवळ दररोज फोन करू शकतो', 'मी टॉमला आज दररोज फोन करू शकतो', 'मी टॉमला जवळजवळ दररोज फोन करून शकतो', 'मी टॉमला जवळजवळ रोजच फोन करू शकतो', 'मी टॉमला जवळजवळ दररोज आणि करू शकतो', 'मी टॉमला आज दररोज फोन करून शकतो', 'मी टॉमला आज रोजच फोन करू शकतो', 'मी टॉमला आज दररोज आणि करू शकतो', 'मी टॉमला जवळजवळ रोजच फोन करून शकतो', 'मी टॉमला जवळजवळ दररोज पुन्हा करू शकतो']\n",
      "\n",
      "\n",
      "Input English sentence: i call tom almost every evening\n",
      "Actual Marathi Translation:  टॉमला मी जवळजवळ प्रत्येक संध्याकाळी फोन करते \n",
      "Beam Predicted Marathi Translation: मी टॉमला जवळजवळ दररोज फोन करू शकतो\n",
      "Predicted Marathi Translation:  मी टॉमला जवळजवळ दररोज फोन करू शकतो \n",
      "0.5714285714285714\n",
      "0.5714285714285714\n"
     ]
    }
   ],
   "source": [
    "k+=1\n",
    "(input_seq, actual_output), _ = next(val_gen)\n",
    "input_sentence = X_test[k:k+1].values[0]\n",
    "decoded_sentence = decode_sequence(input_seq)[:-4]\n",
    "beam_decoded_sentences = beam_search_decode_sequence(input_seq, n)\n",
    "actual_sentence = y_test[k:k+1].values[0][6:-4]\n",
    "print('Input English sentence:', input_sentence)\n",
    "print('Actual Marathi Translation:', actual_sentence)\n",
    "print('Beam Predicted Marathi Translation:', best_beam(actual_sentence, beam_decoded_sentences))\n",
    "print('Predicted Marathi Translation:', decoded_sentence)\n",
    "\n",
    "beam_score = calculate_bleu_for_beam(actual_sentence, beam_decoded_sentences)\n",
    "score = calculate_bleu(actual_sentence, decoded_sentence)\n",
    "print(beam_score)\n",
    "print(score)"
   ]
  },
  {
   "cell_type": "code",
   "execution_count": 1231,
   "metadata": {},
   "outputs": [
    {
     "name": "stdout",
     "output_type": "stream",
     "text": [
      "Top Sentences\n",
      "['मला तुमची खूप आठवण येईल', 'मला तुझी खूप आठवण येईल', 'मला तुझा खूप आठवण येईल', 'मला अगदी खूप आठवण येईल', 'मला तुमची खूप आठवण येते', 'मला तू खूप आठवण येईल', 'मला तुझी खूप आठवण येते', 'मला तुमची खूप आठवण येणार', 'मला तुमची आठवण आठवण येईल', 'मला तुमची वेळ आठवण येईल']\n",
      "\n",
      "\n",
      "Input English sentence: ill miss you very much\n",
      "Actual Marathi Translation:  मला तुझी खूप आठवण येईल \n",
      "Beam Predicted Marathi Translation: मला तुझी खूप आठवण येईल\n",
      "Predicted Marathi Translation:  मला तुमची खूप आठवण येईल \n",
      "1.0\n",
      "0.8\n"
     ]
    }
   ],
   "source": [
    "k+=1\n",
    "(input_seq, actual_output), _ = next(val_gen)\n",
    "input_sentence = X_test[k:k+1].values[0]\n",
    "decoded_sentence = decode_sequence(input_seq)[:-4]\n",
    "beam_decoded_sentences = beam_search_decode_sequence(input_seq, n)\n",
    "actual_sentence = y_test[k:k+1].values[0][6:-4]\n",
    "print('Input English sentence:', input_sentence)\n",
    "print('Actual Marathi Translation:', actual_sentence)\n",
    "print('Beam Predicted Marathi Translation:', best_beam(actual_sentence, beam_decoded_sentences))\n",
    "print('Predicted Marathi Translation:', decoded_sentence)\n",
    "\n",
    "beam_score = calculate_bleu_for_beam(actual_sentence, beam_decoded_sentences)\n",
    "score = calculate_bleu(actual_sentence, decoded_sentence)\n",
    "print(beam_score)\n",
    "print(score)"
   ]
  },
  {
   "cell_type": "code",
   "execution_count": 1232,
   "metadata": {},
   "outputs": [
    {
     "name": "stdout",
     "output_type": "stream",
     "text": [
      "Top Sentences\n",
      "['आता हा सगळं बदललं आहे', 'आता या सगळं बदललं आहे', 'आता हे सगळं बदललं आहे', 'आता हा आता बदललं आहे', 'आता या आता बदललं आहे', 'आता हा कोणाचा बदललं आहे', 'आता या कोणाचा बदललं आहे', 'हे हा सगळं बदललं आहे', 'हे या सगळं बदललं आहे', 'आता हे आता बदललं आहे']\n",
      "\n",
      "\n",
      "Input English sentence: all this has now changed\n",
      "Actual Marathi Translation:  आता हे सगळं बदललं आहे \n",
      "Beam Predicted Marathi Translation: आता हे सगळं बदललं आहे\n",
      "Predicted Marathi Translation:  आता हा सगळं बदललं आहे \n",
      "1.0\n",
      "0.8\n"
     ]
    }
   ],
   "source": [
    "k+=1\n",
    "(input_seq, actual_output), _ = next(val_gen)\n",
    "input_sentence = X_test[k:k+1].values[0]\n",
    "decoded_sentence = decode_sequence(input_seq)[:-4]\n",
    "beam_decoded_sentences = beam_search_decode_sequence(input_seq, n)\n",
    "actual_sentence = y_test[k:k+1].values[0][6:-4]\n",
    "print('Input English sentence:', input_sentence)\n",
    "print('Actual Marathi Translation:', actual_sentence)\n",
    "print('Beam Predicted Marathi Translation:', best_beam(actual_sentence, beam_decoded_sentences))\n",
    "print('Predicted Marathi Translation:', decoded_sentence)\n",
    "\n",
    "beam_score = calculate_bleu_for_beam(actual_sentence, beam_decoded_sentences)\n",
    "score = calculate_bleu(actual_sentence, decoded_sentence)\n",
    "print(beam_score)\n",
    "print(score)"
   ]
  },
  {
   "cell_type": "code",
   "execution_count": 1233,
   "metadata": {},
   "outputs": [
    {
     "name": "stdout",
     "output_type": "stream",
     "text": [
      "Top Sentences\n",
      "['मी टॉमचा सेक्रेटरी होतो', 'मी टॉमचा सेक्रेटरी होते', 'मी टॉमची सेक्रेटरी होतो', 'मी टॉमचा खून होतो', 'मी टॉमची सेक्रेटरी होते', 'मी टॉमचा खून होते', 'मी टॉमच्या सेक्रेटरी होतो', 'मी टॉमची खून होतो', 'मी टॉमचा कुत्रा होतो', 'मी टॉमच्या सेक्रेटरी होते']\n",
      "\n",
      "\n",
      "Input English sentence: i was toms secretary\n",
      "Actual Marathi Translation:  मी टॉमची सेक्रेटरी होते \n",
      "Beam Predicted Marathi Translation: मी टॉमची सेक्रेटरी होते\n",
      "Predicted Marathi Translation:  मी टॉमचा सेक्रेटरी होतो \n",
      "1.0\n",
      "0.5\n"
     ]
    }
   ],
   "source": [
    "k+=1\n",
    "(input_seq, actual_output), _ = next(val_gen)\n",
    "input_sentence = X_test[k:k+1].values[0]\n",
    "decoded_sentence = decode_sequence(input_seq)[:-4]\n",
    "beam_decoded_sentences = beam_search_decode_sequence(input_seq, n)\n",
    "actual_sentence = y_test[k:k+1].values[0][6:-4]\n",
    "print('Input English sentence:', input_sentence)\n",
    "print('Actual Marathi Translation:', actual_sentence)\n",
    "print('Beam Predicted Marathi Translation:', best_beam(actual_sentence, beam_decoded_sentences))\n",
    "print('Predicted Marathi Translation:', decoded_sentence)\n",
    "\n",
    "beam_score = calculate_bleu_for_beam(actual_sentence, beam_decoded_sentences)\n",
    "score = calculate_bleu(actual_sentence, decoded_sentence)\n",
    "print(beam_score)\n",
    "print(score)"
   ]
  },
  {
   "cell_type": "code",
   "execution_count": 1234,
   "metadata": {},
   "outputs": [
    {
     "name": "stdout",
     "output_type": "stream",
     "text": [
      "Top Sentences\n",
      "['तू कधी किडा दिसून येतं', 'तू कधी स्वतः दिसून येतं', 'तुम्ही कधी किडा दिसून येतं', 'तुम्ही कधी स्वतः दिसून येतं', 'तू कधी किडा रेडिओ येतं', 'तू कधी रेडिओ दिसून येतं', 'तू कधी किडा ऐकलीस येतं', 'तू कधी किडा चित्रपट येतं', 'तू कधी चित्र दिसून येतं', 'तू कधी किडा खाल्ला येतं']\n",
      "\n",
      "\n",
      "Input English sentence: when did you come to japan\n",
      "Actual Marathi Translation:  तुम्ही जपानला कधी आलात \n",
      "Beam Predicted Marathi Translation: तुम्ही कधी किडा दिसून येतं\n",
      "Predicted Marathi Translation:  तू कधी किडा दिसून येतं \n",
      "0.4\n",
      "0.2\n"
     ]
    }
   ],
   "source": [
    "k+=1\n",
    "(input_seq, actual_output), _ = next(val_gen)\n",
    "input_sentence = X_test[k:k+1].values[0]\n",
    "decoded_sentence = decode_sequence(input_seq)[:-4]\n",
    "beam_decoded_sentences = beam_search_decode_sequence(input_seq, n)\n",
    "actual_sentence = y_test[k:k+1].values[0][6:-4]\n",
    "print('Input English sentence:', input_sentence)\n",
    "print('Actual Marathi Translation:', actual_sentence)\n",
    "print('Beam Predicted Marathi Translation:', best_beam(actual_sentence, beam_decoded_sentences))\n",
    "print('Predicted Marathi Translation:', decoded_sentence)\n",
    "\n",
    "beam_score = calculate_bleu_for_beam(actual_sentence, beam_decoded_sentences)\n",
    "score = calculate_bleu(actual_sentence, decoded_sentence)\n",
    "print(beam_score)\n",
    "print(score)"
   ]
  },
  {
   "cell_type": "code",
   "execution_count": 1235,
   "metadata": {},
   "outputs": [
    {
     "name": "stdout",
     "output_type": "stream",
     "text": [
      "Top Sentences\n",
      "['टॉम एक आहे', 'टॉम एक आहे', 'टॉम मोठा आहे', 'टॉम एक जुना', 'टॉम लाजाळू आहे', 'टॉम दुष्ट आहे', 'टॉम एक खेळ', 'टॉम हा आहे', 'टॉम जवळच आहे', 'टॉम एकच आहे']\n",
      "\n",
      "\n",
      "Input English sentence: tom is a sociologist\n",
      "Actual Marathi Translation:  टॉम समाजशास्त्रज्ञ आहे \n",
      "Beam Predicted Marathi Translation: टॉम एक आहे\n",
      "Predicted Marathi Translation:  टॉम एक आहे \n",
      "0.6666666666666666\n",
      "0.6666666666666666\n"
     ]
    }
   ],
   "source": [
    "k+=1\n",
    "(input_seq, actual_output), _ = next(val_gen)\n",
    "input_sentence = X_test[k:k+1].values[0]\n",
    "decoded_sentence = decode_sequence(input_seq)[:-4]\n",
    "beam_decoded_sentences = beam_search_decode_sequence(input_seq, n)\n",
    "actual_sentence = y_test[k:k+1].values[0][6:-4]\n",
    "print('Input English sentence:', input_sentence)\n",
    "print('Actual Marathi Translation:', actual_sentence)\n",
    "print('Beam Predicted Marathi Translation:', best_beam(actual_sentence, beam_decoded_sentences))\n",
    "print('Predicted Marathi Translation:', decoded_sentence)\n",
    "\n",
    "beam_score = calculate_bleu_for_beam(actual_sentence, beam_decoded_sentences)\n",
    "score = calculate_bleu(actual_sentence, decoded_sentence)\n",
    "print(beam_score)\n",
    "print(score)"
   ]
  },
  {
   "cell_type": "code",
   "execution_count": 1236,
   "metadata": {},
   "outputs": [
    {
     "name": "stdout",
     "output_type": "stream",
     "text": [
      "Top Sentences\n",
      "['तू कैदी आहेस का', 'तुम्ही कैदी आहेस का', 'तू कैदी आहात का', 'तुम्ही कैदी आहात का', 'कैदी कैदी आहेस का', 'कैदी कैदी आहात का', 'तू कैदी का का', 'तुझा कैदी आहेस का', 'तुम्ही कैदी का का', 'तुमचे कैदी आहेस का']\n",
      "\n",
      "\n",
      "Input English sentence: are you a prisoner\n",
      "Actual Marathi Translation:  तुम्ही कैदी आहात का \n",
      "Beam Predicted Marathi Translation: तुम्ही कैदी आहात का\n",
      "Predicted Marathi Translation:  तू कैदी आहेस का \n",
      "1.0\n",
      "0.5\n"
     ]
    }
   ],
   "source": [
    "k+=1\n",
    "(input_seq, actual_output), _ = next(val_gen)\n",
    "input_sentence = X_test[k:k+1].values[0]\n",
    "decoded_sentence = decode_sequence(input_seq)[:-4]\n",
    "beam_decoded_sentences = beam_search_decode_sequence(input_seq, n)\n",
    "actual_sentence = y_test[k:k+1].values[0][6:-4]\n",
    "print('Input English sentence:', input_sentence)\n",
    "print('Actual Marathi Translation:', actual_sentence)\n",
    "print('Beam Predicted Marathi Translation:', best_beam(actual_sentence, beam_decoded_sentences))\n",
    "print('Predicted Marathi Translation:', decoded_sentence)\n",
    "\n",
    "beam_score = calculate_bleu_for_beam(actual_sentence, beam_decoded_sentences)\n",
    "score = calculate_bleu(actual_sentence, decoded_sentence)\n",
    "print(beam_score)\n",
    "print(score)"
   ]
  },
  {
   "cell_type": "code",
   "execution_count": 1237,
   "metadata": {},
   "outputs": [
    {
     "name": "stdout",
     "output_type": "stream",
     "text": [
      "Top Sentences\n",
      "['लहान मुलांना खूप दूर काम करू', 'लहान मुलांना अतिशय दूर काम करू', 'लहान मुलांना खूप दूर शांत करू', 'लहान मुलांना खूप दूर संपली करू', 'लहान मुलांना खूप दूर _END करू', 'लहान मुलांना खूप दूर काम कर', 'लहान मुलांना आवाज दूर काम करू', 'लहान मुलांना खूप दूर अतिशय करू', 'लहान मुलांना खूप दूर चालत करू', 'लहान मुलांना अतिशय दूर शांत करू']\n",
      "\n",
      "\n",
      "Input English sentence: the children are making a lot of noise\n",
      "Actual Marathi Translation:  मुलं खूप आवाज करताहेत \n",
      "Beam Predicted Marathi Translation: लहान मुलांना खूप दूर काम करू\n",
      "Predicted Marathi Translation:  लहान मुलांना खूप दूर काम करू \n",
      "0.16666666666666669\n",
      "0.16666666666666669\n"
     ]
    }
   ],
   "source": [
    "k+=1\n",
    "(input_seq, actual_output), _ = next(val_gen)\n",
    "input_sentence = X_test[k:k+1].values[0]\n",
    "decoded_sentence = decode_sequence(input_seq)[:-4]\n",
    "beam_decoded_sentences = beam_search_decode_sequence(input_seq, n)\n",
    "actual_sentence = y_test[k:k+1].values[0][6:-4]\n",
    "print('Input English sentence:', input_sentence)\n",
    "print('Actual Marathi Translation:', actual_sentence)\n",
    "print('Beam Predicted Marathi Translation:', best_beam(actual_sentence, beam_decoded_sentences))\n",
    "print('Predicted Marathi Translation:', decoded_sentence)\n",
    "\n",
    "beam_score = calculate_bleu_for_beam(actual_sentence, beam_decoded_sentences)\n",
    "score = calculate_bleu(actual_sentence, decoded_sentence)\n",
    "print(beam_score)\n",
    "print(score)"
   ]
  },
  {
   "cell_type": "code",
   "execution_count": 1238,
   "metadata": {},
   "outputs": [
    {
     "name": "stdout",
     "output_type": "stream",
     "text": [
      "Top Sentences\n",
      "['तू माझ्याशी खोटं बोलू शकत नाहीस', 'तू माझ्याशी खोटं बोलू नकोस नाहीस', 'तू माझ्याशी खोटं बोलू शकत नाहीस', 'तू माझ्याशी खोटं बोलू नकोस नाहीस', 'तू माझ्याशी खोटं बोलू नका नाहीस', 'तू माझ्याशी खोटं बोलू नका नाहीस', 'तू माझ्याशी खोटं बोलू शकत नाही', 'तू माझ्याशी खोटं बोलू नकोस नाही', 'तू माझ्याशी खोटं बोलत शकत नाहीस', 'तू माझ्याशी खोटं बोलत नकोस नाहीस']\n",
      "\n",
      "\n",
      "Input English sentence: dont you lie to me\n",
      "Actual Marathi Translation:  तू माझ्याशी खोटं बोलू नकोस \n",
      "Beam Predicted Marathi Translation: तू माझ्याशी खोटं बोलू नकोस नाहीस\n",
      "Predicted Marathi Translation:  तू माझ्याशी खोटं बोलू शकत नाहीस \n",
      "0.8333333333333334\n",
      "0.6666666666666666\n"
     ]
    }
   ],
   "source": [
    "k+=1\n",
    "(input_seq, actual_output), _ = next(val_gen)\n",
    "input_sentence = X_test[k:k+1].values[0]\n",
    "decoded_sentence = decode_sequence(input_seq)[:-4]\n",
    "beam_decoded_sentences = beam_search_decode_sequence(input_seq, n)\n",
    "actual_sentence = y_test[k:k+1].values[0][6:-4]\n",
    "print('Input English sentence:', input_sentence)\n",
    "print('Actual Marathi Translation:', actual_sentence)\n",
    "print('Beam Predicted Marathi Translation:', best_beam(actual_sentence, beam_decoded_sentences))\n",
    "print('Predicted Marathi Translation:', decoded_sentence)\n",
    "\n",
    "beam_score = calculate_bleu_for_beam(actual_sentence, beam_decoded_sentences)\n",
    "score = calculate_bleu(actual_sentence, decoded_sentence)\n",
    "print(beam_score)\n",
    "print(score)"
   ]
  },
  {
   "cell_type": "code",
   "execution_count": 1239,
   "metadata": {},
   "outputs": [
    {
     "name": "stdout",
     "output_type": "stream",
     "text": [
      "Top Sentences\n",
      "['टॉम इथे काम करत नाही', 'टॉम इथे काम करत नाहीये', 'टॉम इथे काम करत नव्हती', 'टॉम इथे काम करत होती', 'टॉम इथे काम करत नाहीत', 'टॉम इथे काम करत आहे', 'टॉम इथेच काम करत नाही', 'टॉम इथे काम करत नव्हता', 'टॉम काम काम करत नाही', 'टॉम येथे काम करत नाही']\n",
      "\n",
      "\n",
      "Input English sentence: tom doesnt work here\n",
      "Actual Marathi Translation:  टॉम इथे काम करत नाही \n",
      "Beam Predicted Marathi Translation: टॉम इथे काम करत नाही\n",
      "Predicted Marathi Translation:  टॉम इथे काम करत नाही \n",
      "1.0\n",
      "1.0\n"
     ]
    }
   ],
   "source": [
    "k+=1\n",
    "(input_seq, actual_output), _ = next(val_gen)\n",
    "input_sentence = X_test[k:k+1].values[0]\n",
    "decoded_sentence = decode_sequence(input_seq)[:-4]\n",
    "beam_decoded_sentences = beam_search_decode_sequence(input_seq, n)\n",
    "actual_sentence = y_test[k:k+1].values[0][6:-4]\n",
    "print('Input English sentence:', input_sentence)\n",
    "print('Actual Marathi Translation:', actual_sentence)\n",
    "print('Beam Predicted Marathi Translation:', best_beam(actual_sentence, beam_decoded_sentences))\n",
    "print('Predicted Marathi Translation:', decoded_sentence)\n",
    "\n",
    "beam_score = calculate_bleu_for_beam(actual_sentence, beam_decoded_sentences)\n",
    "score = calculate_bleu(actual_sentence, decoded_sentence)\n",
    "print(beam_score)\n",
    "print(score)"
   ]
  },
  {
   "cell_type": "code",
   "execution_count": 1240,
   "metadata": {},
   "outputs": [
    {
     "name": "stdout",
     "output_type": "stream",
     "text": [
      "Top Sentences\n",
      "['एक्स्टर्नल हार्ड रेकॉर्डर माहिती होतं', 'टेप हार्ड रेकॉर्डर माहिती होतं', 'एक्स्टर्नल हार्ड रेकॉर्डर माहिती होता', 'टेप हार्ड रेकॉर्डर माहिती होता', 'एक्स्टर्नल हार्ड ड्राइव्हवर माहिती होतं', 'केलान्तान हार्ड रेकॉर्डर माहिती होतं', 'टेप हार्ड ड्राइव्हवर माहिती होतं', 'एक्स्टर्नल हार्ड रेकॉर्डर माहिती शिकवली', 'टेप हार्ड रेकॉर्डर माहिती शिकवली', 'एक्स्टर्नल हार्ड रेकॉर्डर माहिती असते']\n",
      "\n",
      "\n",
      "Input English sentence: the government was earning more money than it needed\n",
      "Actual Marathi Translation:  शासन गरजेपेक्षा जास्त पैसे कमवत होतं \n",
      "Beam Predicted Marathi Translation: एक्स्टर्नल हार्ड रेकॉर्डर माहिती होतं\n",
      "Predicted Marathi Translation:  एक्स्टर्नल हार्ड रेकॉर्डर माहिती होतं \n",
      "0.1637461506155964\n",
      "0.1637461506155964\n"
     ]
    }
   ],
   "source": [
    "k+=1\n",
    "(input_seq, actual_output), _ = next(val_gen)\n",
    "input_sentence = X_test[k:k+1].values[0]\n",
    "decoded_sentence = decode_sequence(input_seq)[:-4]\n",
    "beam_decoded_sentences = beam_search_decode_sequence(input_seq, n)\n",
    "actual_sentence = y_test[k:k+1].values[0][6:-4]\n",
    "print('Input English sentence:', input_sentence)\n",
    "print('Actual Marathi Translation:', actual_sentence)\n",
    "print('Beam Predicted Marathi Translation:', best_beam(actual_sentence, beam_decoded_sentences))\n",
    "print('Predicted Marathi Translation:', decoded_sentence)\n",
    "\n",
    "beam_score = calculate_bleu_for_beam(actual_sentence, beam_decoded_sentences)\n",
    "score = calculate_bleu(actual_sentence, decoded_sentence)\n",
    "print(beam_score)\n",
    "print(score)"
   ]
  },
  {
   "cell_type": "code",
   "execution_count": 1241,
   "metadata": {},
   "outputs": [
    {
     "name": "stdout",
     "output_type": "stream",
     "text": [
      "Top Sentences\n",
      "['रेडिओ बंद कर', 'रेडिओ बंद करा', 'रेडिओचा बंद कर', 'लाईट बंद कर', 'रेडिओचा बंद करा', 'लाईट बंद करा', 'टीव्हीचा बंद कर', 'टीव्ही बंद कर', 'खिडकी बंद कर', 'रेडियो बंद कर']\n",
      "\n",
      "\n",
      "Input English sentence: turn off the radio\n",
      "Actual Marathi Translation:  रेडिओ बंद करा \n",
      "Beam Predicted Marathi Translation: रेडिओ बंद करा\n",
      "Predicted Marathi Translation:  रेडिओ बंद कर \n",
      "1.0\n",
      "0.6666666666666666\n"
     ]
    }
   ],
   "source": [
    "k+=1\n",
    "(input_seq, actual_output), _ = next(val_gen)\n",
    "input_sentence = X_test[k:k+1].values[0]\n",
    "decoded_sentence = decode_sequence(input_seq)[:-4]\n",
    "beam_decoded_sentences = beam_search_decode_sequence(input_seq, n)\n",
    "actual_sentence = y_test[k:k+1].values[0][6:-4]\n",
    "print('Input English sentence:', input_sentence)\n",
    "print('Actual Marathi Translation:', actual_sentence)\n",
    "print('Beam Predicted Marathi Translation:', best_beam(actual_sentence, beam_decoded_sentences))\n",
    "print('Predicted Marathi Translation:', decoded_sentence)\n",
    "\n",
    "beam_score = calculate_bleu_for_beam(actual_sentence, beam_decoded_sentences)\n",
    "score = calculate_bleu(actual_sentence, decoded_sentence)\n",
    "print(beam_score)\n",
    "print(score)"
   ]
  },
  {
   "cell_type": "code",
   "execution_count": 1242,
   "metadata": {},
   "outputs": [
    {
     "name": "stdout",
     "output_type": "stream",
     "text": [
      "Top Sentences\n",
      "['टॉमने एक एक डझन एक दिवसांनंतर व गमवून बसला', 'टॉमने एक एक डझन एक दिवसांनंतर व तो बसला', 'टॉमने एक एक डझन एक दिवसांनंतर की गमवून बसला', 'टॉमने एक नवीन डझन एक दिवसांनंतर व गमवून बसला', 'टॉमने एक एक डझन एक दिवसांनंतर की तो बसला', 'टॉमने एक नवीन डझन एक दिवसांनंतर व तो बसला', 'टॉमने एक एक डझन एक दिवसांनंतर व दिले बसला', 'टॉमने एक नवीन डझन एक दिवसांनंतर की गमवून बसला', 'टॉमने एक एक डझन एक दिवसांनंतर व त्याला बसला', 'टॉमने एक नवीन डझन एक दिवसांनंतर की तो बसला']\n",
      "\n",
      "\n",
      "Input English sentence: tom bought a rose and gave it to mary\n",
      "Actual Marathi Translation:  टॉमने एक गुलाब विकत घेतला आणि तो मेरीला दिला \n",
      "Beam Predicted Marathi Translation: टॉमने एक एक डझन एक दिवसांनंतर व तो बसला\n",
      "Predicted Marathi Translation:  टॉमने एक एक डझन एक दिवसांनंतर व गमवून बसला \n",
      "0.3333333333333333\n",
      "0.2222222222222222\n"
     ]
    }
   ],
   "source": [
    "k+=1\n",
    "(input_seq, actual_output), _ = next(val_gen)\n",
    "input_sentence = X_test[k:k+1].values[0]\n",
    "decoded_sentence = decode_sequence(input_seq)[:-4]\n",
    "beam_decoded_sentences = beam_search_decode_sequence(input_seq, n)\n",
    "actual_sentence = y_test[k:k+1].values[0][6:-4]\n",
    "print('Input English sentence:', input_sentence)\n",
    "print('Actual Marathi Translation:', actual_sentence)\n",
    "print('Beam Predicted Marathi Translation:', best_beam(actual_sentence, beam_decoded_sentences))\n",
    "print('Predicted Marathi Translation:', decoded_sentence)\n",
    "\n",
    "beam_score = calculate_bleu_for_beam(actual_sentence, beam_decoded_sentences)\n",
    "score = calculate_bleu(actual_sentence, decoded_sentence)\n",
    "print(beam_score)\n",
    "print(score)"
   ]
  },
  {
   "cell_type": "code",
   "execution_count": 1243,
   "metadata": {},
   "outputs": [
    {
     "name": "stdout",
     "output_type": "stream",
     "text": [
      "Top Sentences\n",
      "['फ्रान्स इंग्लंडच्या दक्षिणेकडे आहे', 'रक्त इंग्लंडच्या दक्षिणेकडे आहे', 'वेलिंग्टन इंग्लंडच्या दक्षिणेकडे आहे', 'यूएसएच्या इंग्लंडच्या दक्षिणेकडे आहे', 'जपानची इंग्लंडच्या दक्षिणेकडे आहे', 'फ्रान्स इंग्लंडच्या बुडत आहे', 'नापोली इंग्लंडच्या दक्षिणेकडे आहे', 'फ्रान्स फ्रान्स दक्षिणेकडे आहे', 'फ्रान्स आर्थिक दक्षिणेकडे आहे', 'फ्रान्स राष्ट्रीय दक्षिणेकडे आहे']\n",
      "\n",
      "\n",
      "Input English sentence: france is to the south of england\n",
      "Actual Marathi Translation:  फ्रान्स इंग्लंडच्या दक्षिणेकडे आहे \n",
      "Beam Predicted Marathi Translation: फ्रान्स इंग्लंडच्या दक्षिणेकडे आहे\n",
      "Predicted Marathi Translation:  फ्रान्स इंग्लंडच्या दक्षिणेकडे आहे \n",
      "1.0\n",
      "1.0\n"
     ]
    }
   ],
   "source": [
    "k+=1\n",
    "(input_seq, actual_output), _ = next(val_gen)\n",
    "input_sentence = X_test[k:k+1].values[0]\n",
    "decoded_sentence = decode_sequence(input_seq)[:-4]\n",
    "beam_decoded_sentences = beam_search_decode_sequence(input_seq, n)\n",
    "actual_sentence = y_test[k:k+1].values[0][6:-4]\n",
    "print('Input English sentence:', input_sentence)\n",
    "print('Actual Marathi Translation:', actual_sentence)\n",
    "print('Beam Predicted Marathi Translation:', best_beam(actual_sentence, beam_decoded_sentences))\n",
    "print('Predicted Marathi Translation:', decoded_sentence)\n",
    "\n",
    "beam_score = calculate_bleu_for_beam(actual_sentence, beam_decoded_sentences)\n",
    "score = calculate_bleu(actual_sentence, decoded_sentence)\n",
    "print(beam_score)\n",
    "print(score)"
   ]
  },
  {
   "cell_type": "code",
   "execution_count": 1244,
   "metadata": {},
   "outputs": [
    {
     "name": "stdout",
     "output_type": "stream",
     "text": [
      "Top Sentences\n",
      "['मी टॉमला टीव्हीवर अनेकदा पाहिलं', 'मी तो टीव्हीवर अनेकदा पाहिलं', 'मी टॉमला एका अनेकदा पाहिलं', 'मी तो एका अनेकदा पाहिलं', 'मी उन्हाळ्यात टीव्हीवर अनेकदा पाहिलं', 'मी उन्हाळ्यात एका अनेकदा पाहिलं', 'मी बॉस्टनला टीव्हीवर अनेकदा पाहिलं', 'मी बॉस्टनला एका अनेकदा पाहिलं', 'मी बॉस्टनमध्ये टीव्हीवर अनेकदा पाहिलं', 'मी बॉस्टनमध्ये एका अनेकदा पाहिलं']\n",
      "\n",
      "\n",
      "Input English sentence: ive seen tom on tv many times\n",
      "Actual Marathi Translation:  मी टॉमला टीव्हीवर भरपूर वेळा पाहिलं आहे \n",
      "Beam Predicted Marathi Translation: मी टॉमला टीव्हीवर अनेकदा पाहिलं\n",
      "Predicted Marathi Translation:  मी टॉमला टीव्हीवर अनेकदा पाहिलं \n",
      "0.5362560368285115\n",
      "0.5362560368285115\n"
     ]
    }
   ],
   "source": [
    "k+=1\n",
    "(input_seq, actual_output), _ = next(val_gen)\n",
    "input_sentence = X_test[k:k+1].values[0]\n",
    "decoded_sentence = decode_sequence(input_seq)[:-4]\n",
    "beam_decoded_sentences = beam_search_decode_sequence(input_seq, n)\n",
    "actual_sentence = y_test[k:k+1].values[0][6:-4]\n",
    "print('Input English sentence:', input_sentence)\n",
    "print('Actual Marathi Translation:', actual_sentence)\n",
    "print('Beam Predicted Marathi Translation:', best_beam(actual_sentence, beam_decoded_sentences))\n",
    "print('Predicted Marathi Translation:', decoded_sentence)\n",
    "\n",
    "beam_score = calculate_bleu_for_beam(actual_sentence, beam_decoded_sentences)\n",
    "score = calculate_bleu(actual_sentence, decoded_sentence)\n",
    "print(beam_score)\n",
    "print(score)"
   ]
  }
 ],
 "metadata": {
  "kernelspec": {
   "display_name": "Python 3 (ipykernel)",
   "language": "python",
   "name": "python3"
  },
  "language_info": {
   "codemirror_mode": {
    "name": "ipython",
    "version": 3
   },
   "file_extension": ".py",
   "mimetype": "text/x-python",
   "name": "python",
   "nbconvert_exporter": "python",
   "pygments_lexer": "ipython3",
   "version": "3.9.7"
  }
 },
 "nbformat": 4,
 "nbformat_minor": 2
}
